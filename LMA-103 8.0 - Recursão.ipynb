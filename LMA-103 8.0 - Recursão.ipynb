{
 "cells": [
  {
   "cell_type": "markdown",
   "id": "86aef51b-4158-46cd-b3a6-5a5fe6c8f85d",
   "metadata": {},
   "source": [
    "Recursão\n",
    "========\n",
    "\n",
    "**Autor:** Daniel R. Cassar\n",
    "\n"
   ]
  },
  {
   "cell_type": "markdown",
   "id": "e6a88d6b-b5b7-4d5f-a8ca-a2228f2bae2e",
   "metadata": {},
   "source": [
    "## &ldquo;Para entender recursão, é preciso primeiro entender recursão&rdquo; &#x2014; Stephen Hawking\n",
    "\n"
   ]
  },
  {
   "cell_type": "markdown",
   "id": "06e3b205-acb8-4c29-a80a-395d22eff659",
   "metadata": {},
   "source": [
    "Em computação, recursão é o processo onde **uma função chama ela mesma** durante a sua execução. Toda função recursiva tem as duas etapas abaixo:\n",
    "\n",
    "1.  Caso base ou critério de parada.\n",
    "2.  Passo recursivo.\n",
    "\n",
    "O **caso base** atua como um **critério de parada**. É a condição lógica que impede que a recursão continue (do contrário, entrariamos em um *loop* infinito).\n",
    "\n",
    "O **passo recursivo** é o local onde ocorre a modificação do problema e a delegação da tarefa. É aqui que a função chama ela mesma (direta ou indiretamente). Podemos entender o passo recursivo como sendo uma alteração (ou simplificação) do problema dando um passo na direção de encontrar a resposta.\n",
    "\n",
    "Se desejar, use o site [Python Tutor](https://pythontutor.com/visualize.html#mode=edit) para visualizar os algoritmos recursivos abaixo.\n",
    "\n"
   ]
  },
  {
   "cell_type": "markdown",
   "id": "4d1864d2-02f7-4725-9886-b95e1258869e",
   "metadata": {},
   "source": [
    "## A soma dos números naturais entre 0 e $n$\n",
    "\n"
   ]
  },
  {
   "cell_type": "markdown",
   "id": "aac358d7-8b2b-4929-879e-0200ff63c496",
   "metadata": {},
   "source": [
    "Observe o problema abaixo. Vamos resolver este problema de duas maneiras diferentes, uma sem usar recursão e uma usando recursão.\n",
    "\n",
    "<hr>\n",
    "\n",
    "**Problema**: encontrar a soma de todos os números inteiros entre 0 e $n$ (0 e $n$ inclusive).\n",
    "\n",
    "**Entrada**: número inteiro $n \\ge 0$.\n",
    "\n",
    "**Saída**: um número representando a soma de todos os números naturais entre 0 e $n$ (0 e $n$ inclusive).\n",
    "\n",
    "<hr>\n",
    "\n"
   ]
  },
  {
   "cell_type": "markdown",
   "id": "7990b617-e4e4-4048-b190-9e27cae093cc",
   "metadata": {},
   "source": [
    "### Solução sem uso de recursão\n",
    "\n"
   ]
  },
  {
   "cell_type": "code",
   "execution_count": null,
   "id": "0cdfb996-0236-4568-bcb5-857cb0064ed3",
   "metadata": {},
   "outputs": [],
   "source": [
    "def soma_ate_n(n):\n",
    "    soma = 0\n",
    "    for i in range(1, n + 1):\n",
    "        soma = soma + i\n",
    "    return soma"
   ]
  },
  {
   "cell_type": "markdown",
   "id": "c3471edf-2583-4f43-a7dc-bde863528a0f",
   "metadata": {},
   "source": [
    "**Teste**:\n",
    "\n"
   ]
  },
  {
   "cell_type": "code",
   "execution_count": null,
   "id": "256c5e29-7bd3-4290-a85b-f3b25f9b728e",
   "metadata": {},
   "outputs": [],
   "source": [
    "lista = [1, 6, 10, 25, 100]\n",
    "\n",
    "for n in lista:\n",
    "    print(\"Entrada: \", n)\n",
    "    print(\"Saída (sem recursão): \", soma_ate_n(n))\n",
    "    print()\n",
    "    print(\"---------------------------------------- \")"
   ]
  },
  {
   "cell_type": "markdown",
   "id": "59eca075-5f98-41c6-9a4d-d38679ad4753",
   "metadata": {},
   "source": [
    "### Solução com uso de recursão\n",
    "\n"
   ]
  },
  {
   "cell_type": "code",
   "execution_count": null,
   "id": "095c2a02-3cd7-41ed-a699-8790563ee546",
   "metadata": {},
   "outputs": [],
   "source": [
    "def soma_ate_n_recursivo(n):\n",
    "    if n == 0:\n",
    "        return 0\n",
    "    else:\n",
    "        return n + soma_ate_n_recursivo(n - 1)"
   ]
  },
  {
   "cell_type": "markdown",
   "id": "66340311-eeb6-4a20-b3d2-01a4cdc2eba3",
   "metadata": {},
   "source": [
    "**Teste**:\n",
    "\n"
   ]
  },
  {
   "cell_type": "code",
   "execution_count": null,
   "id": "7b6c0e1b-b739-4178-80d7-7618e0d6d8f1",
   "metadata": {},
   "outputs": [],
   "source": [
    "lista = [1, 6, 10, 25, 100]\n",
    "\n",
    "for n in lista:\n",
    "    print(\"Entrada: \", n)\n",
    "    print(\"Saída (com recursão): \", soma_ate_n_recursivo(n))\n",
    "    print()\n",
    "    print(\"---------------------------------------- \")"
   ]
  },
  {
   "cell_type": "markdown",
   "id": "7e167f81-40ee-4880-a59a-bb373da23ce0",
   "metadata": {},
   "source": [
    "### Discussão\n",
    "\n"
   ]
  },
  {
   "cell_type": "markdown",
   "id": "44d1bc06-b633-4292-bc23-f56a09bda93d",
   "metadata": {},
   "source": [
    "Observamos que a implementação de `soma_ate_n` é diferente da implementação de `soma_ate_n_recursivo`, sendo que a primeira usa um laço `for` e a segunda usa recursão.\n",
    "\n",
    "Observamos também que a saída das funções `soma_ate_n` e `soma_ate_n_recursivo` é igual, o que sugere que as duas funções realizam a mesma tarefa.\n",
    "\n",
    "Sabendo que a função `soma_ate_n_recursivo` é recursiva, você saberia identificar onde está o caso base e onde está o passo recursivo?\n",
    "\n",
    "O **caso base** está no condicional que checa se o valor de `n` é igual a zero, retornando uma resposta conhecida (e trivial) deste problema.\n",
    "\n",
    "O **passo recursivo** está no `else` do condicional, neste passo nós modificamos o problema e chamamos a função novamente, desta vez com um argumento diferente do original.\n",
    "\n",
    "Quem sabe possa parecer estranho chamar a própria função dentro do escopo dela mesma. Se te ajudar, *mentalmente* você pode imaginar que chamamos uma função idêntica à função que está rodando, porém com outro nome.\n",
    "\n"
   ]
  },
  {
   "cell_type": "markdown",
   "id": "63feb226-53a3-49a8-916e-4f69c714b938",
   "metadata": {},
   "source": [
    "## A soma dos números de uma lista\n",
    "\n"
   ]
  },
  {
   "cell_type": "markdown",
   "id": "ab71a06b-6e18-4268-87f0-4f6ed8495b29",
   "metadata": {},
   "source": [
    "<hr>\n",
    "\n",
    "**Problema**: encontrar a soma de todos os números de uma lista.\n",
    "\n",
    "**Entrada**: uma lista numérica.\n",
    "\n",
    "**Saída**: um número representando a soma de todos os números da lista de entrada.\n",
    "\n",
    "<hr>\n",
    "\n"
   ]
  },
  {
   "cell_type": "markdown",
   "id": "2cfd9220-ed13-4cf6-b5f2-374cc126b9a0",
   "metadata": {},
   "source": [
    "### Solução sem uso de recursão\n",
    "\n"
   ]
  },
  {
   "cell_type": "code",
   "execution_count": null,
   "id": "7c43438b-fd21-4db6-97bc-8ffdaa1cc3e5",
   "metadata": {},
   "outputs": [],
   "source": [
    "def soma_lista(lista):\n",
    "    soma = 0\n",
    "    for i in lista:\n",
    "        soma = soma + i\n",
    "    return soma"
   ]
  },
  {
   "cell_type": "markdown",
   "id": "17002404-a91c-4472-ac76-a434787bedb1",
   "metadata": {},
   "source": [
    "**Teste**:\n",
    "\n"
   ]
  },
  {
   "cell_type": "code",
   "execution_count": null,
   "id": "02670874-2f36-4c62-a0b3-b80dfa33521a",
   "metadata": {},
   "outputs": [],
   "source": [
    "lista = [1, 6, 10, 25, 100]\n",
    "\n",
    "print(\"Entrada: \", lista)\n",
    "print(\"Saída (sem recursão): \", soma_lista(lista))\n",
    "print()"
   ]
  },
  {
   "cell_type": "markdown",
   "id": "aa066b79-af9d-4982-8d69-13d98257773b",
   "metadata": {},
   "source": [
    "### Solução com uso de recursão\n",
    "\n"
   ]
  },
  {
   "cell_type": "code",
   "execution_count": null,
   "id": "e36822c8-feaa-4431-8351-cb3518856d17",
   "metadata": {},
   "outputs": [],
   "source": [
    "def soma_lista_recursivo(lista):\n",
    "    if len(lista) == 0:\n",
    "        return 0\n",
    "\n",
    "    primeiro_elemento = lista[0]\n",
    "    restante = lista[1:]\n",
    "\n",
    "    return primeiro_elemento + soma_lista_recursivo(restante)"
   ]
  },
  {
   "cell_type": "markdown",
   "id": "6df3162d-ea41-49a9-8df1-134a41112cb3",
   "metadata": {},
   "source": [
    "**Teste**:\n",
    "\n"
   ]
  },
  {
   "cell_type": "code",
   "execution_count": null,
   "id": "94af3bde-05ae-47c1-89af-7fd2e178ac90",
   "metadata": {},
   "outputs": [],
   "source": [
    "lista = [1, 6, 10, 25, 100]\n",
    "\n",
    "print(\"Entrada: \", lista)\n",
    "print(\"Saída (sem recursão): \", soma_lista_recursivo(lista))\n",
    "print()"
   ]
  },
  {
   "cell_type": "markdown",
   "id": "466dd2ed-0e49-4797-a2b6-581a19a01aed",
   "metadata": {},
   "source": [
    "### Exercício\n",
    "\n"
   ]
  },
  {
   "cell_type": "markdown",
   "id": "6e793a6d-c8df-405c-8775-e9c773bfd1b0",
   "metadata": {},
   "source": [
    "Onde está o caso base e o passo recursivo do algoritmo `soma_lista_recursivo`?\n",
    "\n"
   ]
  },
  {
   "cell_type": "markdown",
   "id": "f5e1ad0a-798c-42e9-8d1d-c846eef63e8f",
   "metadata": {},
   "source": [
    "## Invertendo uma lista\n",
    "\n"
   ]
  },
  {
   "cell_type": "markdown",
   "id": "7dd47762-5b85-4d67-a203-76ae628f1db6",
   "metadata": {},
   "source": [
    "<hr>\n",
    "\n",
    "**Problema**: inverter os elementos de uma lista\n",
    "\n",
    "**Entrada**: uma lista de tamanho qualquer\n",
    "\n",
    "**Saída**: a lista de entrada porém com os seus elementos na ordem invertida\n",
    "\n",
    "<hr>\n",
    "\n"
   ]
  },
  {
   "cell_type": "markdown",
   "id": "640fea15-b981-44d9-963b-933bc5782fa8",
   "metadata": {},
   "source": [
    "### Solução sem uso de recursão\n",
    "\n"
   ]
  },
  {
   "cell_type": "code",
   "execution_count": null,
   "id": "88f421d8-a7cc-40e9-a3d0-d31f99312280",
   "metadata": {},
   "outputs": [],
   "source": [
    "def inverte_lista(lista):\n",
    "\n",
    "    lista_copia = lista.copy()\n",
    "    lista_invertida = []\n",
    "\n",
    "    for _ in range(len(lista)):\n",
    "        ultimo_elemento = lista_copia.pop()\n",
    "        lista_invertida.append(ultimo_elemento)\n",
    "\n",
    "    return lista_invertida"
   ]
  },
  {
   "cell_type": "markdown",
   "id": "1014b232-0a1f-4d52-9e78-628feeb9d22b",
   "metadata": {},
   "source": [
    "**Teste**:\n",
    "\n"
   ]
  },
  {
   "cell_type": "code",
   "execution_count": null,
   "id": "960c967d-c4f3-43ca-9f26-39dbee0206da",
   "metadata": {},
   "outputs": [],
   "source": [
    "lista = [1, 6, 10, 25, 100]\n",
    "\n",
    "print(\"Entrada: \", lista)\n",
    "print(\"Saída (sem recursão): \", inverte_lista(lista))\n",
    "print()"
   ]
  },
  {
   "cell_type": "markdown",
   "id": "352b8649-b542-4621-99b4-8c1feab31b4f",
   "metadata": {},
   "source": [
    "### Solução com uso de recursão\n",
    "\n"
   ]
  },
  {
   "cell_type": "markdown",
   "id": "1c611720-957c-400d-9ca1-62a4d211dbf3",
   "metadata": {},
   "source": [
    "Observe que o retorno não precisa ser o passo recursivo! Podem haver mais ações após o passo recursivo.\n",
    "\n"
   ]
  },
  {
   "cell_type": "code",
   "execution_count": null,
   "id": "e54228ab-d292-4d11-8170-90495224d1c2",
   "metadata": {},
   "outputs": [],
   "source": [
    "def inverte_lista_recursivo(lista):\n",
    "\n",
    "    if len(lista) <= 1:\n",
    "        return lista\n",
    "\n",
    "    primeiro_elemento = lista[0]\n",
    "    restante = lista[1:]\n",
    "\n",
    "    lista_invertida = inverte_lista_recursivo(restante)\n",
    "\n",
    "    lista_invertida.append(primeiro_elemento)\n",
    "\n",
    "    return lista_invertida"
   ]
  },
  {
   "cell_type": "markdown",
   "id": "5b629554-6f85-41b6-a30f-65aacdc7412a",
   "metadata": {},
   "source": [
    "**Teste**:\n",
    "\n"
   ]
  },
  {
   "cell_type": "code",
   "execution_count": null,
   "id": "3e6f916d-3f8a-4c0b-957b-59482bbc46e4",
   "metadata": {},
   "outputs": [],
   "source": [
    "lista = [1, 6, 10, 25, 100]\n",
    "\n",
    "print(\"Entrada: \", lista)\n",
    "print(\"Saída (com recursão): \", inverte_lista_recursivo(lista))\n",
    "print()"
   ]
  },
  {
   "cell_type": "markdown",
   "id": "ff23d5f5-9aca-45b3-9ba9-79a949dcfe3c",
   "metadata": {},
   "source": [
    "### Discussão\n",
    "\n"
   ]
  },
  {
   "cell_type": "markdown",
   "id": "f018203e-f522-4ad1-9d80-e595eab64d20",
   "metadata": {},
   "source": [
    "Observe que não é necessário que o passo recursivo ocorra em conjunto com a instrução `return`. Neste exemplo, o passo recursivo ocorre e ainda existem ações adicionais que deve ser realizadas *após* o encerramento do passo recursivo.\n",
    "\n"
   ]
  },
  {
   "cell_type": "markdown",
   "id": "d5e585bc-c370-4111-9c62-2e5be35832c8",
   "metadata": {},
   "source": [
    "## Fatorial\n",
    "\n"
   ]
  },
  {
   "cell_type": "markdown",
   "id": "1c76824e-ce01-4b6d-8b8c-8caf82a9a34b",
   "metadata": {},
   "source": [
    "<hr>\n",
    "\n",
    "**Problema**: calcular o fatorial de um número ($n!$).\n",
    "\n",
    "**Entrada**: número inteiro $n > 0$.\n",
    "\n",
    "**Saída**: fatorial do número $n$.\n",
    "\n",
    "**Conhecimento prévio**: sabemos que $n! = n\\times(n-1)\\times(n-2)\\times(...)\\times 2 \\times 1$.\n",
    "\n",
    "<hr>\n",
    "\n"
   ]
  },
  {
   "cell_type": "markdown",
   "id": "5b05e180-a4bf-4849-8663-df40902d9246",
   "metadata": {},
   "source": [
    "### Solução sem uso de recursão\n",
    "\n"
   ]
  },
  {
   "cell_type": "code",
   "execution_count": null,
   "id": "f9f6dc4e-c60a-456a-9d30-0c4b6895df7b",
   "metadata": {},
   "outputs": [],
   "source": [
    "def fatorial(n):\n",
    "    valor = 1\n",
    "    for i in range(1, n + 1):\n",
    "        valor = valor * i\n",
    "    return valor"
   ]
  },
  {
   "cell_type": "markdown",
   "id": "a079d0e0-90ad-48fd-bcff-c0c60665f95c",
   "metadata": {},
   "source": [
    "**Teste**:\n",
    "\n"
   ]
  },
  {
   "cell_type": "code",
   "execution_count": null,
   "id": "b3bae0b1-a1dc-4d75-883f-905f61662bb5",
   "metadata": {},
   "outputs": [],
   "source": [
    "lista = [1, 6, 10, 25, 100]\n",
    "\n",
    "for n in lista:\n",
    "    print(\"Entrada: \", n)\n",
    "    print(\"Saída (sem recursão): \", fatorial(n))\n",
    "    print()\n",
    "    print(\"---------------------------------------- \")"
   ]
  },
  {
   "cell_type": "markdown",
   "id": "29e9f36d-8ee8-4779-890d-4c0e29fe7db0",
   "metadata": {},
   "source": [
    "### Solução com uso de recursão\n",
    "\n"
   ]
  },
  {
   "cell_type": "code",
   "execution_count": 1,
   "id": "8e9a5e0a-5891-415c-8996-983c258bde24",
   "metadata": {},
   "outputs": [],
   "source": [
    "def fatorial_recursao(n):\n",
    "\n",
    "    if n == 0:\n",
    "        return 1\n",
    "        \n",
    "    return n * fatorial_recursao(n - 1)"
   ]
  },
  {
   "cell_type": "markdown",
   "id": "ed07926d-6d25-4c7d-a706-7430b4221ce7",
   "metadata": {},
   "source": [
    "**Teste**:\n",
    "\n"
   ]
  },
  {
   "cell_type": "code",
   "execution_count": 2,
   "id": "1b0c6379-ef6b-403f-9951-95529ed03458",
   "metadata": {},
   "outputs": [
    {
     "name": "stdout",
     "output_type": "stream",
     "text": [
      "Entrada:  1\n",
      "Saída (com recursão):  1\n",
      "\n",
      "---------------------------------------- \n",
      "Entrada:  6\n",
      "Saída (com recursão):  720\n",
      "\n",
      "---------------------------------------- \n",
      "Entrada:  10\n",
      "Saída (com recursão):  3628800\n",
      "\n",
      "---------------------------------------- \n",
      "Entrada:  25\n",
      "Saída (com recursão):  15511210043330985984000000\n",
      "\n",
      "---------------------------------------- \n",
      "Entrada:  100\n",
      "Saída (com recursão):  93326215443944152681699238856266700490715968264381621468592963895217599993229915608941463976156518286253697920827223758251185210916864000000000000000000000000\n",
      "\n",
      "---------------------------------------- \n"
     ]
    }
   ],
   "source": [
    "lista = [1, 6, 10, 25, 100]\n",
    "\n",
    "for n in lista:\n",
    "    print(\"Entrada: \", n)\n",
    "    print(\"Saída (com recursão): \", fatorial_recursao(n))\n",
    "    print()\n",
    "    print(\"---------------------------------------- \")"
   ]
  },
  {
   "cell_type": "markdown",
   "id": "6f718763-b519-4a24-9391-c15e3ade7c34",
   "metadata": {},
   "source": [
    "## A sequência de Fibonacci\n",
    "\n"
   ]
  },
  {
   "cell_type": "markdown",
   "id": "d82b94fc-ab45-428c-bab7-e6b96a52b3e3",
   "metadata": {},
   "source": [
    "<hr>\n",
    "\n",
    "**Problema**: calcular o $n$-ézimo termo da sequência de Fibonacci.\n",
    "\n",
    "**Entrada**: número natural $n>0$.\n",
    "\n",
    "**Saída**: $n$-ézimo termo da sequência de Fibonacci.\n",
    "\n",
    "<hr>\n",
    "\n"
   ]
  },
  {
   "cell_type": "markdown",
   "id": "6ad298f3-8c6a-4300-9a86-c75fab4218de",
   "metadata": {},
   "source": [
    "### Solução sem uso de recursão\n",
    "\n"
   ]
  },
  {
   "cell_type": "code",
   "execution_count": null,
   "id": "f2ee501b-ff87-4cc1-9a18-1fbee23eec1e",
   "metadata": {},
   "outputs": [],
   "source": [
    "def fibonacci(n):\n",
    "    if n == 1:\n",
    "        return 0\n",
    "    elif n == 2:\n",
    "        return 1\n",
    "    else:\n",
    "        lista = [0, 1]\n",
    "        for i in range(n - 2):\n",
    "            lista.append(lista[i] + lista[i + 1])\n",
    "        return lista[-1]"
   ]
  },
  {
   "cell_type": "markdown",
   "id": "601b27a1-4dde-43ff-82db-005d705b5140",
   "metadata": {},
   "source": [
    "**Teste**:\n",
    "\n"
   ]
  },
  {
   "cell_type": "code",
   "execution_count": null,
   "id": "ca03f932-8793-4edf-b0e7-ec4bb502cb68",
   "metadata": {},
   "outputs": [],
   "source": [
    "lista = [1, 2, 3, 4, 5, 6, 7, 8]\n",
    "\n",
    "for n in lista:\n",
    "    print(\"Entrada: \", n)\n",
    "    print(\"Saída (sem recursão): \", fibonacci(n))\n",
    "    print()\n",
    "    print(\"---------------------------------------- \")"
   ]
  },
  {
   "cell_type": "code",
   "execution_count": null,
   "id": "f3549fc6-39cc-4f5a-8d7c-da3c7a18950e",
   "metadata": {},
   "outputs": [],
   "source": [
    "def fibonacci(n):\n",
    "    if n == 1:\n",
    "        return 0\n",
    "\n",
    "    elif n == 2:\n",
    "        return 1\n",
    "\n",
    "    else:\n",
    "        penultimo = 0\n",
    "        ultimo = 1\n",
    "        for i in range(n - 2):\n",
    "            penultimo, ultimo = ultimo, penultimo + ultimo\n",
    "        return ultimo"
   ]
  },
  {
   "cell_type": "markdown",
   "id": "ce8543bd-f81c-40f1-8b7f-66ec79ba2123",
   "metadata": {},
   "source": [
    "**Teste**:\n",
    "\n"
   ]
  },
  {
   "cell_type": "code",
   "execution_count": null,
   "id": "2829f5d7-3696-4d8c-b6a6-ef738353c0b9",
   "metadata": {},
   "outputs": [],
   "source": [
    "lista = [1, 2, 3, 4, 5, 6, 7, 8]\n",
    "\n",
    "for n in lista:\n",
    "    print(\"Entrada: \", n)\n",
    "    print(\"Saída (sem recursão): \", fibonacci(n))\n",
    "    print()\n",
    "    print(\"---------------------------------------- \")"
   ]
  },
  {
   "cell_type": "markdown",
   "id": "31a0e219-85cc-4ee8-b649-7ea3b1e85758",
   "metadata": {},
   "source": [
    "### Solução com uso de recursão\n",
    "\n"
   ]
  },
  {
   "cell_type": "code",
   "execution_count": null,
   "id": "a36e0e10-5cb3-4c97-944e-35b5cf728475",
   "metadata": {},
   "outputs": [],
   "source": [
    "def fibonacci_recursao(n):\n",
    "    if n == 1:\n",
    "        return 0\n",
    "\n",
    "    elif n == 2:\n",
    "        return 1\n",
    "\n",
    "    else:\n",
    "        return fibonacci_recursao(n - 1) + fibonacci_recursao(n - 2)"
   ]
  },
  {
   "cell_type": "markdown",
   "id": "566cb014-cfc6-4a24-809e-810bca42b4c8",
   "metadata": {},
   "source": [
    "**Teste**:\n",
    "\n"
   ]
  },
  {
   "cell_type": "code",
   "execution_count": null,
   "id": "abdfb3fa-cb2f-467a-80bd-733c77b1d3eb",
   "metadata": {},
   "outputs": [],
   "source": [
    "lista = [1, 2, 3, 4, 5, 6, 7, 8]\n",
    "\n",
    "for n in lista:\n",
    "    print(\"Entrada: \", n)\n",
    "    print(\"Saída (com recursão): \", fibonacci_recursao(n))\n",
    "    print()\n",
    "    print(\"---------------------------------------- \")"
   ]
  },
  {
   "cell_type": "markdown",
   "id": "c9b04ede-e804-481b-9f7d-8cf64558832c",
   "metadata": {},
   "source": [
    "### Discussão\n",
    "\n"
   ]
  },
  {
   "cell_type": "markdown",
   "id": "442031d4-175e-4715-a835-1362e40109ba",
   "metadata": {},
   "source": [
    "Este algoritmo nos mostra que podemos ter quantos casos bases forem necessários. Uma boa prática é não utilizar mais casos base do que o mínimo necessário.\n",
    "\n"
   ]
  },
  {
   "cell_type": "markdown",
   "id": "b93bcb35-b771-46a7-90c0-31fdf2d24cb0",
   "metadata": {},
   "source": [
    "## XKCD relevante\n",
    "\n"
   ]
  },
  {
   "cell_type": "markdown",
   "id": "0653f24e-8f01-41e1-9382-ae71baa45640",
   "metadata": {},
   "source": [
    "![img](https://imgs.xkcd.com/comics/tabletop_roleplaying.png)\n",
    "\n",
    "`Imagem: Tabletop Roleplaying (XKCD) disponível em https://xkcd.com/244`\n",
    "\n"
   ]
  }
 ],
 "metadata": {
  "kernelspec": {
   "display_name": "ilumpy",
   "language": "python",
   "name": "ilumpy"
  },
  "language_info": {
   "codemirror_mode": {
    "name": "ipython",
    "version": 3
   },
   "file_extension": ".py",
   "mimetype": "text/x-python",
   "name": "python",
   "nbconvert_exporter": "python",
   "pygments_lexer": "ipython3",
   "version": "3.12.7"
  },
  "org": null
 },
 "nbformat": 4,
 "nbformat_minor": 5
}
