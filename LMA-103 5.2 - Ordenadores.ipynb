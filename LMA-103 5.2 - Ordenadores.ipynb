{
 "cells": [
  {
   "cell_type": "markdown",
   "id": "69e3f0eb-aa7d-4174-aafb-99eb5d4ef514",
   "metadata": {},
   "source": [
    "Ordenadores\n",
    "===========\n",
    "\n",
    "**Autor:** Daniel R. Cassar\n",
    "\n"
   ]
  },
  {
   "cell_type": "markdown",
   "id": "436459df-3fdd-47c2-9eae-00bce860b60a",
   "metadata": {},
   "source": [
    "## Introdução\n",
    "\n"
   ]
  },
  {
   "cell_type": "markdown",
   "id": "5164d962-9c5c-47ae-86fa-26ed8c81f409",
   "metadata": {},
   "source": [
    "Veja as duas listas abaixo e reflita sobre qual delas é mais fácil identificar qual é o valor mínimo e o valor máximo que elas armazenam.\n",
    "\n"
   ]
  },
  {
   "cell_type": "code",
   "execution_count": null,
   "id": "970fbada-b0ed-47af-8110-fbef3f8d7ad0",
   "metadata": {},
   "outputs": [],
   "source": [
    "lista_1 = [0, 1, 2, 3, 4, 5, 6, 7, 8, 9, 10, 11, 12, 13, 14, 15, 16, 17, 18, 19]\n",
    "\n",
    "lista_2 = [16, 12, 6, 5, 13, 1, 15, 0, 9, 11, 10, 7, 17, 14, 2, 19, 3, 8, 18, 4]"
   ]
  },
  {
   "cell_type": "markdown",
   "id": "d1ebd517-151e-433f-a7ca-2487c16f12e9",
   "metadata": {},
   "source": [
    "As duas listas contém os mesmos valores, porém a primeira está ordenada e a segunda não. Listas ordenadas nos permitem obter facilmente o valor mínimo e máximo, basta olhar nos extremos da lista. Em outras palavras, não precisamos *navegar* pela lista para obter essas informações! Isso significa que podemos escrever certos algoritmos muito mais eficientes se soubermos que nossa lista está ordenada. Por esse motivo, existem diversos algoritmos conhecidos para ordenar listas! Idealmente, queremos ordenar listas com algoritmos eficientes!\n",
    "\n"
   ]
  },
  {
   "cell_type": "code",
   "execution_count": null,
   "id": "3d474be2-c6fc-410b-a054-5a1d3cb02924",
   "metadata": {},
   "outputs": [],
   "source": [
    "def encontra_minimo(lista_ordenada):\n",
    "    \"\"\"Encontra o valor mínimo de uma lista ordenada\"\"\"\n",
    "    return lista_ordenada[0]\n",
    "\n",
    "def encontra_maximo(lista_ordenada):\n",
    "    \"\"\"Encontra o valor máximo de uma lista ordenada\"\"\"\n",
    "    return lista_ordenada[-1]\n",
    "\n",
    "print(encontra_minimo(lista_1))\n",
    "print(encontra_maximo(lista_1))"
   ]
  },
  {
   "cell_type": "markdown",
   "id": "81f44f58-1c5b-419e-9a9f-fede3996ac39",
   "metadata": {},
   "source": [
    "Abaixo veremos algoritmos que resolvem o seguinte problema:\n",
    "\n",
    "<hr>\n",
    "\n",
    "**Problema**: ordenar uma lista numérica de tamanho arbitrário.\n",
    "\n",
    "**Entrada**: lista numérica.\n",
    "\n",
    "**Saída**: lista numérica de entrada, porém com os números em ordem crescente.\n",
    "\n",
    "<hr>\n",
    "\n"
   ]
  },
  {
   "cell_type": "markdown",
   "id": "44afcc66-a317-4070-a461-6561fbdbfb40",
   "metadata": {},
   "source": [
    "## Ordenador por seleção (*selection sort*)\n",
    "\n"
   ]
  },
  {
   "cell_type": "markdown",
   "id": "d9d2a7ee-9f66-486d-a81e-6f861944a1d5",
   "metadata": {},
   "source": [
    "Este é um dos algoritmos mais simples de ordenar uma lista. Veja os passos executados abaixo.\n",
    "\n",
    "1.  Crie uma lista nova chamada `lista_ordenada` (lista vazia)\n",
    "\n",
    "2.  Encontre o valor mínimo da sua lista de entrada\n",
    "\n",
    "3.  Insira o valor encontrado no passo 2 no final da sua lista `lista_ordenada`\n",
    "\n",
    "4.  Remova o valor encontrado no passo 2 da sua lista de entrada\n",
    "\n",
    "5.  Se sua lista de entrada ainda contém itens, retorne ao passo 2. Do contrário, siga para o passo 6\n",
    "\n",
    "6.  Fim, retorne sua lista `lista_ordenada` para o usuário\n",
    "\n",
    "**Dica**: evite alterar variáveis globais mutáveis dentro da sua função a menos que seja exatamente isso que você deseja fazer. Sugestão: crie uma cópia de listas antes de alterá-las.\n",
    "\n"
   ]
  },
  {
   "cell_type": "code",
   "execution_count": 1,
   "id": "27aecba4-f848-41b3-b29d-8a5fe353e02e",
   "metadata": {},
   "outputs": [],
   "source": [
    "def ordenador_por_selecao(lista):\n",
    "\n",
    "    lista_ordenada = []\n",
    "    lista_copia = lista.copy()\n",
    "\n",
    "    while len(lista_copia)>0:\n",
    "        valor_minimo = min(lista_copia)\n",
    "        lista_ordenada.append(valor_minimo)\n",
    "        lista_copia.remove(valor_minimo)\n",
    "\n",
    "    return lista_ordenada"
   ]
  },
  {
   "cell_type": "markdown",
   "id": "bc5967c6-f4e3-475a-b8ce-22d19d71b322",
   "metadata": {},
   "source": [
    "**Teste**:\n",
    "\n"
   ]
  },
  {
   "cell_type": "code",
   "execution_count": 2,
   "id": "91af270c-fd7c-47f5-9284-bd60ae9ff6b6",
   "metadata": {},
   "outputs": [
    {
     "name": "stdout",
     "output_type": "stream",
     "text": [
      "Entrada:  [1, 10, 4, 19, -23, 55, 0, 2]\n",
      "Saída:  [-23, 0, 1, 2, 4, 10, 19, 55]\n",
      "\n"
     ]
    }
   ],
   "source": [
    "lista = [1, 10, 4, 19, -23, 55, 0, 2]\n",
    "\n",
    "print(\"Entrada: \", lista)\n",
    "print(\"Saída: \", ordenador_por_selecao(lista))\n",
    "print()"
   ]
  },
  {
   "cell_type": "markdown",
   "id": "796697d8-60f3-4f9b-810c-a9f27e1cee87",
   "metadata": {},
   "source": [
    "## Ordenador por troca (*exchange sort*)\n",
    "\n"
   ]
  },
  {
   "cell_type": "markdown",
   "id": "4ace9ad6-d320-49a6-8761-3664f0138cd5",
   "metadata": {},
   "source": [
    "Esse é outro algoritmo simples de ordenar uma lista. Veja os passos executados abaixo.\n",
    "\n",
    "1.  Primeiro, precisamos saber quantos itens temos para organizar. Vamos armazenar este número em uma variável chamada `tamanho`.\n",
    "\n",
    "2.  Se temos apenas um elemento na lista (`tamanho <= 1`), então a lista já está ordenada; retorne ela para o usuário.\n",
    "\n",
    "3.  Armazene o índice do primeiro elemento da lista na variável `p`. Logo, `p = 0`. O índice de `p` será o nosso índice de referência.\n",
    "\n",
    "4.  Armazene o índice do *vizinho da direita* de `p` na variável `q`. Logo, `q = p + 1`.\n",
    "\n",
    "5.  Compare os valores dos elementos da lista nos índices `p` e `q`. Se `lista[p] > lista[q]`, então troque os valores `lista[p]` e `lista[q]` de lugar.\n",
    "\n",
    "6.  Acrescente 1 ao valor de `q`.\n",
    "\n",
    "7.  Se `q <= tamanho - 1`, então retorne ao passo 5. (Em outras palavras, aqui estamos checando se `q` representa um valor de índice válido, uma vez que o Python começa a contar do 0).\n",
    "\n",
    "8.  Acrescente 1 ao valor de `p`.\n",
    "\n",
    "9.  Se `p <= tamanho - 2` então retorne ao passo 4.\n",
    "\n",
    "10. Retorne a lista para o usuário\n",
    "\n"
   ]
  },
  {
   "cell_type": "code",
   "execution_count": 6,
   "id": "ea025d27-f997-403c-b71a-853498ce99e8",
   "metadata": {},
   "outputs": [],
   "source": [
    "def ordenador_por_troca(lista):\n",
    "\n",
    "    lista_ordenada = lista\n",
    "    n = len(lista_ordenada)\n",
    "    for i in range(n - 1):\n",
    "        for j in range(i + 1, n):\n",
    "            if lista_ordenada[i] > lista_ordenada[j]:\n",
    "                lista_ordenada[i], lista_ordenada[j] = lista_ordenada[j], lista_ordenada[i]\n",
    "\n",
    "\n",
    "    return lista_ordenada"
   ]
  },
  {
   "cell_type": "markdown",
   "id": "2bb21c2b-e7fd-4980-8a0f-45d408c33f16",
   "metadata": {},
   "source": [
    "**Teste**:\n",
    "\n"
   ]
  },
  {
   "cell_type": "code",
   "execution_count": 7,
   "id": "f2a2d381-44bc-4474-9074-2967356077e7",
   "metadata": {},
   "outputs": [
    {
     "name": "stdout",
     "output_type": "stream",
     "text": [
      "Entrada:  [1, 10, 4, 19, -23, 55, 0, 2]\n",
      "Saída:  [-23, 0, 1, 2, 4, 10, 19, 55]\n",
      "\n"
     ]
    }
   ],
   "source": [
    "lista = [1, 10, 4, 19, -23, 55, 0, 2]\n",
    "\n",
    "print(\"Entrada: \", lista)\n",
    "print(\"Saída: \", ordenador_por_troca(lista))\n",
    "print()"
   ]
  },
  {
   "cell_type": "markdown",
   "id": "fddd3133-9004-4d41-802b-cef6c38e77a1",
   "metadata": {},
   "source": [
    "## Ordenador estou com sort (*bogosort*)\n",
    "\n"
   ]
  },
  {
   "cell_type": "markdown",
   "id": "d357b698-5553-4ab5-b923-2d326afdfce4",
   "metadata": {},
   "source": [
    "Você é uma pessoa sortuda? Se sim, este algoritmo é para você! Ele funciona basicamente embaralhando os elementos da lista de forma aleatória e checando se o produto final é uma lista ordenada. Absurdamente ineficiente. Praticamente ofensivo. Objetivamente tragicômico. Jamais use ele. Como cortesia, segue uma implementação possível abaixo.\n",
    "\n"
   ]
  },
  {
   "cell_type": "code",
   "execution_count": null,
   "id": "c916b1a6-1153-42c7-85ed-890645ca1e02",
   "metadata": {},
   "outputs": [],
   "source": [
    "import random\n",
    "\n",
    "\n",
    "def checa_se_lista_esta_ordenada(lista):\n",
    "    \"\"\"Checa se uma lista está ordenada.\"\"\"\n",
    "\n",
    "    for i in range(len(lista) - 1):\n",
    "        if lista[i] > lista[i + 1]:\n",
    "            return False\n",
    "\n",
    "    return True\n",
    "\n",
    "\n",
    "def ordenador_por_sorte(lista):\n",
    "    \"\"\"Ordena os valores de uma lista em ordem crescente.\"\"\"\n",
    "\n",
    "    while True:\n",
    "        random.shuffle(lista)\n",
    "        if checa_se_lista_esta_ordenada(lista):\n",
    "            break\n",
    "\n",
    "    return lista"
   ]
  },
  {
   "cell_type": "markdown",
   "id": "4102e2bf-dea8-463c-a7f2-30ce27ee0abb",
   "metadata": {},
   "source": [
    "**Teste**:\n",
    "\n"
   ]
  },
  {
   "cell_type": "code",
   "execution_count": null,
   "id": "0b9ff132-56e1-40c4-92a6-38c3d1c5732a",
   "metadata": {},
   "outputs": [],
   "source": [
    "lista = [1, 10, 4, 19, -23, 55, 0, 2]\n",
    "\n",
    "print(\"Entrada: \", lista)\n",
    "print(\"Saída: \", ordenador_por_sorte(lista))\n",
    "print()"
   ]
  },
  {
   "cell_type": "markdown",
   "id": "9644f0b8-3391-443f-a76b-364f50895f08",
   "metadata": {},
   "source": [
    "## Exercícios\n",
    "\n"
   ]
  },
  {
   "cell_type": "markdown",
   "id": "a066163c-a36a-4376-8888-57c5a961c9ba",
   "metadata": {},
   "source": [
    "### Ordenador por flutuação (*bubble sort*)\n",
    "\n"
   ]
  },
  {
   "cell_type": "markdown",
   "id": "048330ed-bc8c-4e17-895e-a8f599d344fc",
   "metadata": {},
   "source": [
    "O algoritmo abaixo é chamado de **ordenador por flutuação**. Sua tarefa é explicar em português o funcionamento deste algoritmo.\n",
    "\n"
   ]
  },
  {
   "cell_type": "code",
   "execution_count": null,
   "id": "fd2125ec-7a85-42f4-a60b-678710b4e47f",
   "metadata": {},
   "outputs": [],
   "source": [
    "def ordenador_por_flutuacao(lista):\n",
    "\n",
    "    tamanho = len(lista)\n",
    "\n",
    "    lista_copia = lista.copy()\n",
    "\n",
    "    while True:\n",
    "        fez_alteracao = False\n",
    "\n",
    "        for i in range(tamanho - 1):\n",
    "\n",
    "            if lista_copia[i] > lista_copia[i + 1]:\n",
    "                lista_copia[i], lista_copia[i + 1] = lista_copia[i + 1], lista_copia[i]\n",
    "\n",
    "                fez_alteracao = True\n",
    "\n",
    "        if not fez_alteracao:\n",
    "            break\n",
    "\n",
    "    return lista_copia"
   ]
  },
  {
   "cell_type": "markdown",
   "id": "dca38d5a-2c89-435c-91ee-8663e2985481",
   "metadata": {},
   "source": [
    "### Ordenador por inserção (*insertion sort*)\n",
    "\n"
   ]
  },
  {
   "cell_type": "markdown",
   "id": "f961d9fc-62b0-4707-a552-6611e351638f",
   "metadata": {},
   "source": [
    "O algoritmo abaixo é chamado de **ordenador por inserção**. Sua tarefa é explicar em português o funcionamento deste algoritmo.\n",
    "\n"
   ]
  },
  {
   "cell_type": "code",
   "execution_count": null,
   "id": "3aeb3f50-8b3a-463d-aeea-8c28dead8ce9",
   "metadata": {},
   "outputs": [],
   "source": [
    "def ordenador_por_insercao(lista):\n",
    "\n",
    "    tamanho = len(lista)\n",
    "\n",
    "    if tamanho <= 1:\n",
    "        return lista\n",
    "\n",
    "    lista_copia = lista.copy()\n",
    "\n",
    "    for p in range(2, tamanho):\n",
    "        for i in range(p, 0, -1):\n",
    "            if lista_copia[i - 1] > lista_copia[i]:\n",
    "                lista_copia[i], lista_copia[i - 1] = lista_copia[i - 1], lista_copia[i]\n",
    "\n",
    "    return lista_copia"
   ]
  },
  {
   "cell_type": "markdown",
   "id": "2e3ed65a-1237-4d90-b5df-7fe8bebf0d47",
   "metadata": {},
   "source": [
    "## XKCD relevante\n",
    "\n"
   ]
  },
  {
   "cell_type": "markdown",
   "id": "e2acc319-953f-4cab-8a83-b41f52042b36",
   "metadata": {},
   "source": [
    "![img](https://imgs.xkcd.com/comics/ineffective_sorts.png)\n",
    "\n",
    "`Imagem: Ineffective Sorts (XKCD) disponível em https://xkcd.com/1185`\n",
    "\n"
   ]
  }
 ],
 "metadata": {
  "kernelspec": {
   "display_name": "ilumpy",
   "language": "python",
   "name": "ilumpy"
  },
  "language_info": {
   "codemirror_mode": {
    "name": "ipython",
    "version": 3
   },
   "file_extension": ".py",
   "mimetype": "text/x-python",
   "name": "python",
   "nbconvert_exporter": "python",
   "pygments_lexer": "ipython3",
   "version": "3.12.7"
  },
  "org": null
 },
 "nbformat": 4,
 "nbformat_minor": 5
}
