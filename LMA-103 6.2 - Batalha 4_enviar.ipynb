{
 "cells": [
  {
   "cell_type": "markdown",
   "id": "aa140196-8524-4ebe-82fc-06358498e5d4",
   "metadata": {},
   "source": [
    "Batalha 4\n",
    "=========\n",
    "\n"
   ]
  },
  {
   "cell_type": "markdown",
   "id": "927c92b4-d7f8-45e8-9dad-ec0687b52104",
   "metadata": {},
   "source": [
    "## Leia com atenção antes de começar\n",
    "\n"
   ]
  },
  {
   "cell_type": "markdown",
   "id": "8399eaf5-d188-4ee6-b085-c881da3e4c3c",
   "metadata": {},
   "source": [
    "Preencha as células de código abaixo (o local para preencher está com um comentário \"`# preencher`\"). Fique à vontade para criar células para testar as funções caso queira.\n",
    "\n",
    "<div class=\"alert alert-warning\" style=\"background-color: #66B2FF; color: #004400;\">Não é permitido usar a instrução `import` em nenhum local deste notebook.\n",
    "</div>\n",
    "\n",
    "<div class=\"alert alert-warning\">Não altere os nomes das funções já definidas.\n",
    "</div>\n",
    "\n",
    "<div class=\"alert alert-warning\">Quer escrever um texto? Então crie uma célula de texto (markdown). Não escreva texto corrido em célula de código. Comentários são permitidos (e incentivados), mas estes são textos breves.\n",
    "</div>\n",
    "\n",
    "<div class=\"alert alert-warning\">Caso exista mais de uma função com mesmo nome, apenas a função definida por último (considerando a ordem sequencial do documento) será considerada.\n",
    "</div>\n",
    "\n",
    "<div class=\"alert alert-warning\" style=\"background-color: #ffeeba; color: #856404;\">Quer usar IA ou debater as questões com colegas? Então leia o contrato didático para evitar problemas.\n",
    "</div>\n",
    "\n"
   ]
  },
  {
   "cell_type": "markdown",
   "id": "f13cbe38-3b4e-4c03-9f87-abcb856bdb0b",
   "metadata": {},
   "source": [
    "## Contando o número de arestas\n",
    "\n"
   ]
  },
  {
   "cell_type": "markdown",
   "id": "6d121e50-6a4d-43f2-9147-121a1cbda57d",
   "metadata": {},
   "source": [
    "**Problema**: contar o número de arestas de um grafo não-direcional.\n",
    "\n",
    "**Entrada**: um grafo não-direcional representado por um dicionário (usar a mesma estrutura de dados usada na aula).\n",
    "\n",
    "**Saída**: um inteiro representando o número de arestas do grafo de entrada.\n",
    "\n",
    "**Alguns exemplos de entradas e retornos**:\n",
    "\n",
    "\n",
    "| Entrada <code>grafo</code>|Retorno|\n",
    "|---|---|\n",
    "| {\"A\": [\"B\", \"C\"], \"B\": [\"A\"], \"C\": [\"A\"]}|2|\n",
    "| {\"A\": [\"B\", \"C\"], \"B\": [\"A\", \"C\"], \"C\": [\"A\", \"B\"]}|3|\n",
    "| {\"A\": [], \"B\": [\"C\"], \"C\": [\"B\"]}|1|\n",
    "| {\"A\": [], \"B\": []}|0|\n",
    "\n",
    "**Algoritmo**:\n",
    "\n"
   ]
  },
  {
   "cell_type": "code",
   "execution_count": 16,
   "id": "ba7e4d68-7311-4261-aecc-54b0eda8d43a",
   "metadata": {},
   "outputs": [
    {
     "name": "stdout",
     "output_type": "stream",
     "text": [
      "Entrada:  {'A': ['B', 'C'], 'B': ['A'], 'C': ['A']}\n",
      "Saída:  2\n",
      "\n",
      "---------------------------------------- \n",
      "Entrada:  {'A': ['B', 'C'], 'B': ['A', 'C'], 'C': ['A', 'B']}\n",
      "Saída:  3\n",
      "\n",
      "---------------------------------------- \n",
      "Entrada:  {'A': [], 'B': ['C'], 'C': ['B']}\n",
      "Saída:  1\n",
      "\n",
      "---------------------------------------- \n",
      "Entrada:  {'A': [], 'B': []}\n",
      "Saída:  0\n",
      "\n",
      "---------------------------------------- \n"
     ]
    }
   ],
   "source": [
    "def conta_arestas(grafo):\n",
    "    arestas = 0 #elemento neutro da adição\n",
    "    chaves = [] #lista vazia\n",
    "    \n",
    "    for chave in grafo: #variando nas chaves do dicionario\n",
    "        chaves.append(chave) #lista de chaves para verificação\n",
    "        for valor in grafo[chave]: #variando nos valores de cada chave\n",
    "            if valor not in chaves: #é necessária essa condição para que o número de arestas esteja correto\n",
    "                arestas += 1\n",
    "\n",
    "    return arestas\n",
    "\n",
    "   #lista para testar os valores\n",
    "lista_grafos = [{\"A\": [\"B\", \"C\"], \"B\": [\"A\"], \"C\": [\"A\"]}, {\"A\": [\"B\", \"C\"], \"B\": [\"A\", \"C\"], \"C\": [\"A\", \"B\"]}, {\"A\": [], \"B\": [\"C\"], \"C\": [\"B\"]}, {\"A\": [], \"B\": []}] \n",
    "\n",
    "#loop para enviar todos os valores da lista para a função, exibindo os valores de entrada e saída da função\n",
    "for grafo in lista_grafos: \n",
    "    print(\"Entrada: \", grafo)\n",
    "    print(\"Saída: \", conta_arestas(grafo)) #enviamos o grafo para a função\n",
    "    print()\n",
    "    print(\"---------------------------------------- \") #linha divisória, por fins de organização\n",
    "\n"
   ]
  },
  {
   "cell_type": "markdown",
   "id": "18bd1f08-28e2-4e5e-a576-2af62a1d75d0",
   "metadata": {},
   "source": [
    "## Removendo um vértice do grafo\n",
    "\n"
   ]
  },
  {
   "cell_type": "markdown",
   "id": "4999233f-1bae-4fee-b203-c81d01454609",
   "metadata": {},
   "source": [
    "**Problema**: remover um vértice de um grafo.\n",
    "\n",
    "**Entradas**: um grafo representado por um dicionário (usar a mesma estrutura de dados usada na aula) e o vértice que será removido.\n",
    "\n",
    "**Saída**: um dicionário representando o grafo de entrada sem o vértice escolhido para remoção.\n",
    "\n",
    "**Exemplo**:\n",
    "\n"
   ]
  },
  {
   "cell_type": "code",
   "execution_count": null,
   "id": "682c77fd-c989-48ce-ab02-c7bc78b1eb05",
   "metadata": {},
   "outputs": [],
   "source": [
    "entrada_grafo = {\n",
    "    1: [5, 2],\n",
    "    2: [1, 5, 3],\n",
    "    3: [4, 2],\n",
    "    4: [5, 3, 6],\n",
    "    5: [1, 2, 4],\n",
    "    6: [4],\n",
    "}\n",
    "\n",
    "entrada_vertice = 5\n",
    "\n",
    "saida_grafo = {\n",
    "    1: [2],\n",
    "    2: [1, 3],\n",
    "    3: [4, 2],\n",
    "    4: [3, 6],\n",
    "    6: [4],\n",
    "}"
   ]
  },
  {
   "cell_type": "markdown",
   "id": "67b5bd80-24ef-4c9c-9128-e465c4900424",
   "metadata": {},
   "source": [
    "**Algoritmo**:\n",
    "\n"
   ]
  },
  {
   "cell_type": "code",
   "execution_count": 42,
   "id": "eccf62a3-0a7f-470f-9c88-beb17f6b9ffa",
   "metadata": {},
   "outputs": [
    {
     "name": "stdout",
     "output_type": "stream",
     "text": [
      "Grafo de Entrada:  {1: [5, 2], 2: [1, 5, 3], 3: [4, 2], 4: [5, 3, 6], 5: [1, 2, 4], 6: [4]} Vertice:  5\n",
      "Saída:  {1: [2], 2: [1, 3], 3: [4, 2], 4: [3, 6], 6: [4]}\n",
      "\n",
      "---------------------------------------- \n"
     ]
    }
   ],
   "source": [
    "def remove_vertice(grafo, vertice):\n",
    "\n",
    "    grafo_resultado = {} #grafo vazio para retorno    \n",
    "\n",
    "    #loop para gerar o grafo de retorno   \n",
    "    for chave in grafo: #iterando todas as chaves do grafo de entrada\n",
    "        if chave != vertice: #se a chave for o vértice dado, não adiciona no grafo para retorno\n",
    "            valores = []  #a lista representa os valores de cada chave\n",
    "            for valor in grafo[chave]: #iterando em cada valor da chave\n",
    "                if valor != vertice:\n",
    "                    valores.append(valor) #só adiciona os valores que não são iguais ao vértice\n",
    "            \n",
    "            grafo_resultado[chave] = valores\n",
    "\n",
    "\n",
    "                    \n",
    "    return grafo_resultado\n",
    "    \n",
    "#lista de grafos para testar os valores\n",
    "lista_grafos = [{1: [5, 2], 2: [1, 5, 3], 3: [4, 2], 4: [5, 3, 6], 5: [1, 2, 4], 6: [4],}] \n",
    "lista_vertices = [5]\n",
    "\n",
    "#loop para enviar todos os grafos da lista para a função, junto com os vertices, exibindo os valores de entrada e saída da função\n",
    "for grafo, vertice in zip(lista_grafos, lista_vertices):\n",
    "    print(\"Grafo de Entrada: \", grafo, \"Vertice: \", vertice)\n",
    "    print(\"Saída: \", remove_vertice(grafo, vertice)) #enviamos o grafo e o vertice para a função\n",
    "    print()\n",
    "    print(\"---------------------------------------- \") #linha divisória, por fins de organização"
   ]
  },
  {
   "cell_type": "markdown",
   "id": "44bee3e5-a9af-4b83-b172-246324a1b95a",
   "metadata": {},
   "source": [
    "## Grafo de palavras\n",
    "\n"
   ]
  },
  {
   "cell_type": "markdown",
   "id": "8c975dfb-d209-4f07-bdac-8520d094a19a",
   "metadata": {},
   "source": [
    "**Problema**: criar um grafo de palavras.\n",
    "\n",
    "**Entrada**: uma lista de strings com pelo menos um elemento, todas as strings desta lista têm o mesmo tamanho.\n",
    "\n",
    "**Saída**: um dicionário representando o grafo das palavras da lista de entrada.\n",
    "\n",
    "**Observação**: em um grafo de palavras, os vértices são palavras válidas da língua portuguesa e as arestas ligam palavras que têm distância de Hamming igual a 1 (ver exercício da Batalha 2). Exemplo: um vizinho do vértice `pato` é o vértice `pano`, pois a distância de Hamming entre estas palavras é igual a 1. No entanto, o vértice `laço` não pode ser vizinho do vértice `pato` pois a distância de Hamming entre eles é igual a 2.\n",
    "\n",
    "**Exemplo**:\n",
    "\n"
   ]
  },
  {
   "cell_type": "code",
   "execution_count": null,
   "id": "d4b1c763-8bc0-4c23-b349-1708c905f97c",
   "metadata": {},
   "outputs": [],
   "source": [
    "entrada_exemplo = [\"mote\", \"bota\", \"maio\", \"pato\", \"paço\", \"moço\",\n",
    "                   \"laço\", \"ralo\", \"rota\", \"bote\", \"rata\", \"paio\",\n",
    "                   \"rato\", \"poço\", \"moça\", \"raio\", \"moto\", \"pano\"]\n",
    "\n",
    "saida_exemplo = {\n",
    "    \"mote\": [\"bote\", \"moto\"],\n",
    "    \"bota\": [\"rota\", \"bote\"],\n",
    "    \"maio\": [\"paio\", \"raio\"],\n",
    "    \"pato\": [\"paço\", \"paio\", \"rato\", \"pano\"],\n",
    "    \"paço\": [\"pato\", \"laço\", \"paio\", \"poço\", \"pano\"],\n",
    "    \"moço\": [\"poço\", \"moça\", \"moto\"],\n",
    "    \"laço\": [\"paço\"],\n",
    "    \"ralo\": [\"rato\", \"raio\"],\n",
    "    \"rota\": [\"bota\", \"rata\"],\n",
    "    \"bote\": [\"mote\", \"bota\"],\n",
    "    \"rata\": [\"rota\", \"rato\"],\n",
    "    \"paio\": [\"maio\", \"pato\", \"paço\", \"raio\", \"pano\"],\n",
    "    \"rato\": [\"pato\", \"ralo\", \"rata\", \"raio\"],\n",
    "    \"poço\": [\"paço\", \"moço\"],\n",
    "    \"moça\": [\"moço\"],\n",
    "    \"raio\": [\"maio\", \"ralo\", \"paio\", \"rato\"],\n",
    "    \"moto\": [\"mote\", \"moço\"],\n",
    "    \"pano\": [\"pato\", \"paço\", \"paio\"],\n",
    "}"
   ]
  },
  {
   "cell_type": "markdown",
   "id": "d2cc161d-615a-4c02-96f8-b0417fd0b83d",
   "metadata": {},
   "source": [
    "**Algoritmo**:\n",
    "\n"
   ]
  },
  {
   "cell_type": "code",
   "execution_count": 20,
   "id": "fafb13d4-cd16-45df-8f00-0d1410018c98",
   "metadata": {},
   "outputs": [],
   "source": [
    "def distancia_hamming(string1, string2):\n",
    "    #começamos com zero, pois é o elemento neutro da adição\n",
    "    qtd_letras_diferentes = 0\n",
    "\n",
    "    #iteramos as duas strings ao mesmo tempo, e comparamos cada caractere. Se forem diferentes, somamos 1 à variável qtd_letras_diferentes\n",
    "    for letra1, letra2 in zip(string1, string2):\n",
    "        if letra1 != letra2:\n",
    "            qtd_letras_diferentes += 1\n",
    "\n",
    "    return qtd_letras_diferentes"
   ]
  },
  {
   "cell_type": "code",
   "execution_count": 23,
   "id": "b5f52ae2-6cea-430f-9d24-fe74d72c7c0f",
   "metadata": {},
   "outputs": [
    {
     "name": "stdout",
     "output_type": "stream",
     "text": [
      "Entrada:  ['mote', 'bota', 'maio', 'pato', 'paço', 'moço', 'laço', 'ralo', 'rota', 'bote', 'rata', 'paio', 'rato', 'poço', 'moça', 'raio', 'moto', 'pano']\n",
      "\n",
      "Saída:  {'mote': ['bote', 'moto'], 'bota': ['rota', 'bote'], 'maio': ['paio', 'raio'], 'pato': ['paço', 'paio', 'rato', 'pano'], 'paço': ['pato', 'laço', 'paio', 'poço', 'pano'], 'moço': ['poço', 'moça', 'moto'], 'laço': ['paço'], 'ralo': ['rato', 'raio'], 'rota': ['bota', 'rata'], 'bote': ['mote', 'bota'], 'rata': ['rota', 'rato'], 'paio': ['maio', 'pato', 'paço', 'raio', 'pano'], 'rato': ['pato', 'ralo', 'rata', 'raio'], 'poço': ['paço', 'moço'], 'moça': ['moço'], 'raio': ['maio', 'ralo', 'paio', 'rato'], 'moto': ['mote', 'moço'], 'pano': ['pato', 'paço', 'paio']}\n",
      "\n",
      "---------------------------------------- \n"
     ]
    }
   ],
   "source": [
    "def grafo_de_palavras(lista_de_palavras):\n",
    "\n",
    "    grafo = {} #grafo vazio\n",
    "    palavras_temporarias = [] #lista vazia\n",
    "\n",
    "    #é preciso comparar todas as palavras com todas as outras. Dessa forma, precisamos de 2 for loops:\n",
    "    for palavra in lista_de_palavras:\n",
    "        palavras_temporarias = [] #armazena as palavras que serão os valores de cada palavre (chave)\n",
    "        for outra_palavra in lista_de_palavras:\n",
    "            if distancia_hamming(palavra, outra_palavra) == 1:\n",
    "                palavras_temporarias.append(outra_palavra)\n",
    "        #montando o grafo:        \n",
    "        grafo[palavra] = palavras_temporarias\n",
    "\n",
    "    return grafo\n",
    "                \n",
    "\n",
    "entrada_exemplo = [[\"mote\", \"bota\", \"maio\", \"pato\", \"paço\", \"moço\",\n",
    "                   \"laço\", \"ralo\", \"rota\", \"bote\", \"rata\", \"paio\",\n",
    "                   \"rato\", \"poço\", \"moça\", \"raio\", \"moto\", \"pano\"]]\n",
    "\n",
    "\n",
    "#loop para enviar todos os valores da lista para a função, exibindo os valores de entrada e saída da função\n",
    "for palavras in entrada_exemplo: \n",
    "    print(\"Entrada: \", palavras)\n",
    "    print (\"\")\n",
    "    print(\"Saída: \", grafo_de_palavras(palavras)) #enviamos o grafo para a função\n",
    "    print()\n",
    "    print(\"---------------------------------------- \") #linha divisória, por fins de organização\n",
    "\n",
    "    "
   ]
  },
  {
   "cell_type": "markdown",
   "id": "f93c356a-691d-426e-9b45-d59ea2d44edc",
   "metadata": {},
   "source": [
    "## Criando um grafo a partir de uma matriz de adjacência\n",
    "\n"
   ]
  },
  {
   "cell_type": "markdown",
   "id": "05ec8685-ac5b-4598-a924-a32ac05e9094",
   "metadata": {},
   "source": [
    "**Problema**: criar um grafo a partir de uma matriz de adjacência.\n",
    "\n",
    "**Entradas**: uma lista de listas representando uma matriz de adjacência (rever aula de estrutura de dados) e uma lista representando a ordem das linhas e colunas da matriz de adjacência.\n",
    "\n",
    "**Saída**: um dicionário representando um grafo gerado a partir da matriz de adjacência.\n",
    "\n",
    "**Consideração**: considere apenas grafos não-ponderados neste exercício.\n",
    "\n",
    "**Leitura adicional**: a matriz de adjacência é uma forma de representar um grafo usando uma matriz. A matriz de adjacência $A$ de um grafo tem $n$ linhas e $n$ colunas (logo, é uma matriz quadrada), onde $n$ é o número de vértices do grafo. Para quaisquer dois vértices $u$ e $v$ do grafo, o valor de $A[u,v]$ vale 1 caso seja possível chegar em $v$ saindo de $u$ (sem passar por outro vértice) ou vale 0 caso contrário. Cada linha da matriz e cada coluna da matriz está relacionada com um vértice. É por isso que, além da matriz de adjacência, precisamos saber a ordem das linhas e colunas.\n",
    "\n",
    "**Exemplo**:\n",
    "\n"
   ]
  },
  {
   "cell_type": "code",
   "execution_count": null,
   "id": "a42fe595-6708-4ead-8dd7-55a44109b197",
   "metadata": {},
   "outputs": [],
   "source": [
    "entrada_matriz = [\n",
    "    [0, 1, 1],\n",
    "    [1, 0, 0],\n",
    "    [1, 0, 0],\n",
    "]\n",
    "\n",
    "entrada_ordem = [\"A\", \"B\", \"C\"]\n",
    "\n",
    "saida_grafo = {\n",
    "    \"A\": [\"B\", \"C\"],\n",
    "    \"B\": [\"A\"],\n",
    "    \"C\": [\"A\"],\n",
    "}"
   ]
  },
  {
   "cell_type": "markdown",
   "id": "09e3032f-2e79-44df-ac3f-60543684f6c7",
   "metadata": {},
   "source": [
    "**Algoritmo**:\n",
    "\n"
   ]
  },
  {
   "cell_type": "code",
   "execution_count": 46,
   "id": "613d8652-69c6-4fde-9278-f6b516f41579",
   "metadata": {},
   "outputs": [
    {
     "name": "stdout",
     "output_type": "stream",
     "text": [
      "Matriz de Entrada:  [[0, 1, 1], [1, 0, 0], [1, 0, 0]] ; Ordem:  ['A', 'B', 'C']\n",
      "Saída:  {'A': ['B', 'C'], 'B': ['A'], 'C': ['A']}\n"
     ]
    }
   ],
   "source": [
    "def matriz_para_grafo(matriz, ordem):\n",
    "    \n",
    "    grafo = {} #grafo vazio\n",
    "    \n",
    "    for u in range(len(ordem)): #representa a variação da linha na matriz\n",
    "        palavras_temporarias = []\n",
    "        for v in range(len(ordem)): # representa a variação da coluna na matriz\n",
    "            if matriz[u][v]: #se o elemento na posição u,v da matriz é 1, incluimos a letra correspondente à lista temporária\n",
    "                palavras_temporarias.append(ordem[v]) \n",
    "        grafo[ordem[u]] = palavras_temporarias #ordem[u] representa a chave do dicionario\n",
    "\n",
    "    return grafo\n",
    "\n",
    "#matriz para testar os valores\n",
    "matrizes = [[\n",
    "    [0, 1, 1],\n",
    "    [1, 0, 0],\n",
    "    [1, 0, 0],\n",
    "]] \n",
    "entrada_ordem = [[\"A\", \"B\", \"C\"]]\n",
    "\n",
    "#loop para enviar todas as matrizes e ordens das listas para a função, exibindo os valores de entrada e saída da função\n",
    "for matriz, ordem in zip(matrizes, entrada_ordem):\n",
    "    print(\"Matriz de Entrada: \", matriz, \"; Ordem: \", ordem)\n",
    "    print(\"Saída: \", matriz_para_grafo(matriz, ordem)) #enviamos a matriz e a ordem para a função\n",
    "    #print()\n",
    "    #print(\"---------------------------------------- \") #linha divisória, por fins de organização   \n",
    "            \n",
    "            "
   ]
  },
  {
   "cell_type": "code",
   "execution_count": null,
   "id": "cecb3245-efce-4fb4-82d2-bd2e8186c9da",
   "metadata": {},
   "outputs": [],
   "source": []
  }
 ],
 "metadata": {
  "kernelspec": {
   "display_name": "ilumpy",
   "language": "python",
   "name": "ilumpy"
  },
  "language_info": {
   "codemirror_mode": {
    "name": "ipython",
    "version": 3
   },
   "file_extension": ".py",
   "mimetype": "text/x-python",
   "name": "python",
   "nbconvert_exporter": "python",
   "pygments_lexer": "ipython3",
   "version": "3.12.7"
  },
  "org": null
 },
 "nbformat": 4,
 "nbformat_minor": 5
}
