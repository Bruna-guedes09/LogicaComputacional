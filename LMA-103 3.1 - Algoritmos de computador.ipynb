{
 "cells": [
  {
   "cell_type": "markdown",
   "id": "b8ac21fc-fada-4cc5-bdcd-740873a310d7",
   "metadata": {},
   "source": [
    "Algoritmos de computador\n",
    "========================\n",
    "\n",
    "**Autor:** Daniel R. Cassar\n",
    "\n"
   ]
  },
  {
   "cell_type": "markdown",
   "id": "ca5692d2-6bae-44a7-8c16-5165bbf01c09",
   "metadata": {},
   "source": [
    "## Algoritmos de computador\n",
    "\n"
   ]
  },
  {
   "cell_type": "markdown",
   "id": "fa4ed48d-be16-416f-b617-8b72db529bd9",
   "metadata": {},
   "source": [
    "### Definição\n",
    "\n"
   ]
  },
  {
   "cell_type": "markdown",
   "id": "2c6a1953-502c-4c2d-aab8-84eeffee96a6",
   "metadata": {},
   "source": [
    "Algoritmo de computador é uma sequência finita de etapas para executar uma tarefa onde todas as etapas são descritas com precisão suficiente para que um computador possa executá-las.\n",
    "\n"
   ]
  },
  {
   "cell_type": "markdown",
   "id": "2d6eaf2f-164e-4f1f-a6f0-2a80fbc5cf11",
   "metadata": {},
   "source": [
    "### Algoritmo de computador: converter Celsius em Fahrenheit\n",
    "\n"
   ]
  },
  {
   "cell_type": "markdown",
   "id": "a11791e3-5690-4380-a00d-e3cd871b65c5",
   "metadata": {},
   "source": [
    "**Problema**: converter uma temperatura $T$ de Celsius para Fahrenheit.\n",
    "\n",
    "**Entrada**: temperatura $T$ em Celsius.\n",
    "\n",
    "**Saída**: temperatura $T$ em Fahrenheit.\n",
    "\n",
    "**Conhecimento prévio**: sabemos que\n",
    "\n",
    "$$\n",
    "T_F = \\frac{9T_C}{5} + 32\n",
    "$$\n",
    "\n",
    "**Algoritmo**:\n",
    "\n"
   ]
  },
  {
   "cell_type": "code",
   "execution_count": 1,
   "id": "31d1c73f-375b-4d07-ad92-37b5d9011099",
   "metadata": {},
   "outputs": [],
   "source": [
    "def celsius_para_fahrenheit(T_C):\n",
    "\n",
    "    T_F = (9 * T_C / 5) + 32\n",
    "\n",
    "    return T_F"
   ]
  },
  {
   "cell_type": "markdown",
   "id": "f15af6b8-70be-4da2-a143-16ddfedfb299",
   "metadata": {},
   "source": [
    "**Teste**:\n"
   ]
  },
  {
   "cell_type": "code",
   "execution_count": 2,
   "id": "e8efd887-8daf-45a3-a002-8eb3a792c7fc",
   "metadata": {},
   "outputs": [
    {
     "name": "stdout",
     "output_type": "stream",
     "text": [
      "Entrada:  -40\n",
      "Saída:  -40.0\n",
      "\n",
      "---------------------------------------- \n",
      "Entrada:  -3\n",
      "Saída:  26.6\n",
      "\n",
      "---------------------------------------- \n",
      "Entrada:  0\n",
      "Saída:  32.0\n",
      "\n",
      "---------------------------------------- \n",
      "Entrada:  10\n",
      "Saída:  50.0\n",
      "\n",
      "---------------------------------------- \n",
      "Entrada:  25\n",
      "Saída:  77.0\n",
      "\n",
      "---------------------------------------- \n",
      "Entrada:  100\n",
      "Saída:  212.0\n",
      "\n",
      "---------------------------------------- \n"
     ]
    }
   ],
   "source": [
    "lista = [-40, -3, 0, 10, 25, 100]\n",
    "\n",
    "for T in lista:\n",
    "    print(\"Entrada: \", T)\n",
    "    print(\"Saída: \", celsius_para_fahrenheit(T))\n",
    "    print()\n",
    "    print(\"---------------------------------------- \")\n",
    "#para comprovar que o algoritmo está certo, é preciso checar os resultados com uma tabela de dados de conversão de temperaturas"
   ]
  },
  {
   "cell_type": "markdown",
   "id": "d1933883-7c0d-451d-ae7a-418144e5d31c",
   "metadata": {},
   "source": [
    "**Reflexão**: Veja que assim como algoritmos na vida real (como fazer café), algoritmos de computador também resolvem problemas. Aqui resolvemos o problema de conversão de unidades. Observe que cada passo da solução é uma expressão válida e bem definida em Python.\n",
    "\n"
   ]
  },
  {
   "cell_type": "markdown",
   "id": "9c5a1955-9d86-43c1-99b4-f6d6291ee34a",
   "metadata": {},
   "source": [
    "### Algoritmo de computador: área de um retângulo\n",
    "\n"
   ]
  },
  {
   "cell_type": "markdown",
   "id": "3136fabe-9b01-41ce-b46f-59a1919281c5",
   "metadata": {},
   "source": [
    "**Problema**: calcular a área de um retângulo de lados $m$ e $n$.\n",
    "\n",
    "**Entrada**: os lados $m$ e $n$ de um retângulo.\n",
    "\n",
    "**Saída**: área do retângulo.\n",
    "\n",
    "**Algoritmo**:\n",
    "\n"
   ]
  },
  {
   "cell_type": "code",
   "execution_count": 3,
   "id": "98556f23-bcd6-4bd3-96b8-7ed5fba8dc06",
   "metadata": {},
   "outputs": [],
   "source": [
    "def area_retangulo(m, n):\n",
    "\n",
    "    area = m * n\n",
    "\n",
    "    return area"
   ]
  },
  {
   "cell_type": "markdown",
   "id": "54061c96-def5-4639-a6e0-fa9ef08c706e",
   "metadata": {},
   "source": [
    "**Teste**:\n",
    "\n"
   ]
  },
  {
   "cell_type": "code",
   "execution_count": 4,
   "id": "7ca64245-6e06-4fc5-a3a5-eee94fbffe42",
   "metadata": {},
   "outputs": [
    {
     "name": "stdout",
     "output_type": "stream",
     "text": [
      "Entrada:  10 5\n",
      "Saída:  50\n",
      "\n",
      "---------------------------------------- \n",
      "Entrada:  10 10\n",
      "Saída:  100\n",
      "\n",
      "---------------------------------------- \n",
      "Entrada:  1.5 1000.1\n",
      "Saída:  1500.15\n",
      "\n",
      "---------------------------------------- \n"
     ]
    }
   ],
   "source": [
    "m = 10\n",
    "n = 5\n",
    "\n",
    "print(\"Entrada: \", m, n)\n",
    "print(\"Saída: \", area_retangulo(m, n))\n",
    "print()\n",
    "print(\"---------------------------------------- \")\n",
    "\n",
    "\n",
    "m = 10\n",
    "n = 10\n",
    "\n",
    "print(\"Entrada: \", m, n)\n",
    "print(\"Saída: \", area_retangulo(m, n))\n",
    "print()\n",
    "print(\"---------------------------------------- \")\n",
    "\n",
    "\n",
    "m = 1.5\n",
    "n = 1000.1\n",
    "\n",
    "print(\"Entrada: \", m, n)\n",
    "print(\"Saída: \", area_retangulo(m, n))\n",
    "print()\n",
    "print(\"---------------------------------------- \")"
   ]
  },
  {
   "cell_type": "markdown",
   "id": "48989d0a-54de-4424-a1c1-ce293138b09d",
   "metadata": {},
   "source": [
    "**Reflexão**: podemos usar valores negativos para os lados do retângulo? Pensando em matemática a resposta é não, mas o que acontece se usarmos valores negativos na função que fizemos?\n",
    "\n"
   ]
  },
  {
   "cell_type": "markdown",
   "id": "bb9de0a1-43f9-4954-8e49-37b72d62e497",
   "metadata": {},
   "source": [
    "### Algoritmo de computador: valor absoluto\n",
    "\n"
   ]
  },
  {
   "cell_type": "markdown",
   "id": "778ef61c-17d7-4e53-b56a-e762c8f3944e",
   "metadata": {},
   "source": [
    "**Problema**: calcular o valor absoluto de um número.\n",
    "\n",
    "**Entrada**: número $n$.\n",
    "\n",
    "**Saída**: valor absoluto do número $n$.\n",
    "\n",
    "**Restrição**: nesta tarefa, não podemos utilizar a função embutida `abs` (do contrário, seria trivial).\n",
    "\n",
    "**Algoritmo**:\n",
    "\n"
   ]
  },
  {
   "cell_type": "code",
   "execution_count": 8,
   "id": "e92a0841-f10b-48e3-a8f6-34bff0e7f590",
   "metadata": {},
   "outputs": [],
   "source": [
    "def absoluto(n):\n",
    "\n",
    "    if n < 0:\n",
    "        valor_absoluto = n * (-1)\n",
    "    else:\n",
    "        valor_absoluto = n\n",
    "\n",
    "    return valor_absoluto"
   ]
  },
  {
   "cell_type": "markdown",
   "id": "8d88f533-c08c-4dd2-a3fd-caedc8fc6cfc",
   "metadata": {},
   "source": [
    "**Teste**:\n",
    "\n"
   ]
  },
  {
   "cell_type": "code",
   "execution_count": 9,
   "id": "ac5e57e2-4518-4373-84d1-b8d16186140a",
   "metadata": {},
   "outputs": [
    {
     "name": "stdout",
     "output_type": "stream",
     "text": [
      "Entrada:  1\n",
      "Saída:  1\n",
      "\n",
      "---------------------------------------- \n",
      "Entrada:  8\n",
      "Saída:  8\n",
      "\n",
      "---------------------------------------- \n",
      "Entrada:  -209\n",
      "Saída:  209\n",
      "\n",
      "---------------------------------------- \n",
      "Entrada:  16\n",
      "Saída:  16\n",
      "\n",
      "---------------------------------------- \n",
      "Entrada:  -7\n",
      "Saída:  7\n",
      "\n",
      "---------------------------------------- \n",
      "Entrada:  0\n",
      "Saída:  0\n",
      "\n",
      "---------------------------------------- \n",
      "Entrada:  2.4\n",
      "Saída:  2.4\n",
      "\n",
      "---------------------------------------- \n",
      "Entrada:  -1024\n",
      "Saída:  1024\n",
      "\n",
      "---------------------------------------- \n"
     ]
    }
   ],
   "source": [
    "lista = [1, 8, -209, 16, -7, 0, 2.4, -1024]\n",
    "\n",
    "for n in lista:\n",
    "    print(\"Entrada: \", n)\n",
    "    print(\"Saída: \", absoluto(n))\n",
    "    print()\n",
    "    print(\"---------------------------------------- \")"
   ]
  },
  {
   "cell_type": "markdown",
   "id": "8f19281b-6ccc-4120-883f-f755b6532a26",
   "metadata": {},
   "source": [
    "### Algoritmo de computador: valor máximo de uma lista\n",
    "\n"
   ]
  },
  {
   "cell_type": "markdown",
   "id": "c887052e-df33-4117-b8c4-977f1fdd28e0",
   "metadata": {},
   "source": [
    "**Problema**: encontrar o valor máximo em uma lista de números.\n",
    "\n",
    "**Entrada**: uma lista numérica.\n",
    "\n",
    "**Saída**: um número representando o valor máximo da lista de entrada.\n",
    "\n",
    "**Restrição**: nesta tarefa, não podemos usar funções embutidas como `max` e `sorted` (do contrário, seria trivial).\n",
    "\n",
    "**Algoritmo**:\n",
    "\n"
   ]
  },
  {
   "cell_type": "code",
   "execution_count": 12,
   "id": "3b4170d0-58fd-48ee-a87f-0eca61a1c8ca",
   "metadata": {},
   "outputs": [],
   "source": [
    "def encontra_maximo(lista):\n",
    "    \n",
    "    candidato = lista[0]\n",
    "    \n",
    "    for numero in lista:\n",
    "        if numero > candidato:\n",
    "            candidato = numero\n",
    "            \n",
    "    valor_maximo = candidato\n",
    "    \n",
    "    return valor_maximo"
   ]
  },
  {
   "cell_type": "markdown",
   "id": "fde857d0-fa8e-49fc-b8ef-4d4ef1b434c5",
   "metadata": {},
   "source": [
    "**Teste**:\n",
    "\n"
   ]
  },
  {
   "cell_type": "code",
   "execution_count": 13,
   "id": "1e0def95-b311-4aff-88d1-57bfdacd1853",
   "metadata": {},
   "outputs": [
    {
     "name": "stdout",
     "output_type": "stream",
     "text": [
      "Entrada:  [-3, 1, 2, 4, 5, 10, 101]\n",
      "Saída:  101\n",
      "\n",
      "---------------------------------------- \n",
      "Entrada:  [-2, -5, -100, -304938]\n",
      "Saída:  -2\n",
      "\n",
      "---------------------------------------- \n",
      "Entrada:  [1, 1, 1, 1, 1, 1]\n",
      "Saída:  1\n",
      "\n",
      "---------------------------------------- \n"
     ]
    }
   ],
   "source": [
    "lista = [-3, 1, 2, 4, 5, 10, 101]\n",
    "\n",
    "print(\"Entrada: \", lista)\n",
    "print(\"Saída: \", encontra_maximo(lista))\n",
    "print()\n",
    "print(\"---------------------------------------- \")\n",
    "\n",
    "\n",
    "lista = [-2, -5, -100, -304938]\n",
    "\n",
    "print(\"Entrada: \", lista)\n",
    "print(\"Saída: \", encontra_maximo(lista))\n",
    "print()\n",
    "print(\"---------------------------------------- \")\n",
    "\n",
    "\n",
    "lista = [1, 1, 1, 1, 1, 1]\n",
    "\n",
    "print(\"Entrada: \", lista)\n",
    "print(\"Saída: \", encontra_maximo(lista))\n",
    "print()\n",
    "print(\"---------------------------------------- \")"
   ]
  },
  {
   "cell_type": "markdown",
   "id": "a079893a-0d41-4d3f-af84-e221e0d15768",
   "metadata": {},
   "source": [
    "### Algoritmo de computador: fatorial\n",
    "\n"
   ]
  },
  {
   "cell_type": "markdown",
   "id": "208c7424-7c10-4ad8-bc38-9bd0726f83c0",
   "metadata": {},
   "source": [
    "**Problema**: calcular o fatorial de um número.\n",
    "\n",
    "**Entrada**: número inteiro $n > 0$.\n",
    "\n",
    "**Saída**: fatorial do número $n$.\n",
    "\n",
    "**Conhecimento prévio**: sabemos que $n! = n\\times(n-1)\\times(n-2)\\times(...)\\times 2 \\times 1$.\n",
    "\n",
    "**Restrição**: nesta tarefa, não podemos importar a função `factorial` do módulo `math` (do contrário, seria trivial).\n",
    "\n",
    "**Algoritmo**:\n",
    "\n"
   ]
  },
  {
   "cell_type": "code",
   "execution_count": 1,
   "id": "02e1367f-9e38-4b32-b2fb-30cb29958646",
   "metadata": {},
   "outputs": [],
   "source": [
    "def fatorial(n):\n",
    "    \n",
    "    valor = 1\n",
    "    \n",
    "    for numero in range(1, n + 1 ):\n",
    "        valor = valor * numero\n",
    "\n",
    "    return valor"
   ]
  },
  {
   "cell_type": "markdown",
   "id": "a10d89e1-5f8f-461c-852e-0aac1265b829",
   "metadata": {},
   "source": [
    "**Teste**:\n",
    "\n"
   ]
  },
  {
   "cell_type": "code",
   "execution_count": 2,
   "id": "b533f1f9-fc38-4839-a76f-d728036da41e",
   "metadata": {},
   "outputs": [
    {
     "name": "stdout",
     "output_type": "stream",
     "text": [
      "Entrada:  1\n",
      "Saída:  1\n",
      "\n",
      "---------------------------------------- \n",
      "Entrada:  2\n",
      "Saída:  2\n",
      "\n",
      "---------------------------------------- \n",
      "Entrada:  5\n",
      "Saída:  120\n",
      "\n",
      "---------------------------------------- \n",
      "Entrada:  10\n",
      "Saída:  3628800\n",
      "\n",
      "---------------------------------------- \n",
      "Entrada:  100\n",
      "Saída:  93326215443944152681699238856266700490715968264381621468592963895217599993229915608941463976156518286253697920827223758251185210916864000000000000000000000000\n",
      "\n",
      "---------------------------------------- \n"
     ]
    }
   ],
   "source": [
    "lista = [1, 2, 5, 10, 100]\n",
    "\n",
    "for n in lista:\n",
    "    print(\"Entrada: \", n)\n",
    "    print(\"Saída: \", fatorial(n))\n",
    "    print()\n",
    "    print(\"---------------------------------------- \")"
   ]
  },
  {
   "cell_type": "markdown",
   "id": "460a4988-9b52-460f-8e2b-de08cf2ab913",
   "metadata": {},
   "source": [
    "**Reflexão**: qual é o fatorial de um número negativo? Qual é o fatorial de um número real? O que acontece se usarmos estes valores na função que fizemos?\n",
    "\n"
   ]
  },
  {
   "cell_type": "markdown",
   "id": "fa300356-c46d-4239-a801-65e0d348842a",
   "metadata": {},
   "source": [
    "### Algoritmo de computador: checar primos\n",
    "\n"
   ]
  },
  {
   "cell_type": "markdown",
   "id": "68c6ac52-87cf-4de7-abba-43a0fa17cd4e",
   "metadata": {},
   "source": [
    "**Problema**: checar se um número $n$ é primo.\n",
    "\n",
    "**Entrada**: número inteiro $n$.\n",
    "\n",
    "**Saída**: `True` se $n$ for primo, `False` se $n$ não for primo.\n",
    "\n",
    "**Conhecimento prévio**: sabemos que números primos são divisíveis apenas por 1 e por eles mesmos. Um número é dito divisível por outro número se o resto dessa divisão é zero.\n",
    "\n",
    "**Algoritmo**:\n",
    "\n"
   ]
  },
  {
   "cell_type": "code",
   "execution_count": 16,
   "id": "e2426b34-eb52-45c8-8d30-dbe8852c8565",
   "metadata": {},
   "outputs": [],
   "source": [
    "def checa_primo(n):\n",
    "\n",
    "    for divisor in range (2, n):\n",
    "        if n % divisor == 0:\n",
    "            return False\n",
    "\n",
    "    return True"
   ]
  },
  {
   "cell_type": "markdown",
   "id": "8d10dff9-2c90-4e47-b301-fe2de73c0b7d",
   "metadata": {},
   "source": [
    "**Teste**:\n",
    "\n"
   ]
  },
  {
   "cell_type": "code",
   "execution_count": 17,
   "id": "e9d380e8-5409-4533-bce9-4c3fd59fcdbd",
   "metadata": {},
   "outputs": [
    {
     "name": "stdout",
     "output_type": "stream",
     "text": [
      "Entrada:  1\n",
      "Saída:  True\n",
      "\n",
      "---------------------------------------- \n",
      "Entrada:  2\n",
      "Saída:  True\n",
      "\n",
      "---------------------------------------- \n",
      "Entrada:  4\n",
      "Saída:  False\n",
      "\n",
      "---------------------------------------- \n",
      "Entrada:  5\n",
      "Saída:  True\n",
      "\n",
      "---------------------------------------- \n",
      "Entrada:  10\n",
      "Saída:  False\n",
      "\n",
      "---------------------------------------- \n",
      "Entrada:  101\n",
      "Saída:  True\n",
      "\n",
      "---------------------------------------- \n",
      "Entrada:  1827\n",
      "Saída:  False\n",
      "\n",
      "---------------------------------------- \n",
      "Entrada:  1001\n",
      "Saída:  False\n",
      "\n",
      "---------------------------------------- \n"
     ]
    }
   ],
   "source": [
    "lista = [1, 2, 4, 5, 10, 101, 1827, 1001]\n",
    "\n",
    "for n in lista:\n",
    "    print(\"Entrada: \", n)\n",
    "    print(\"Saída: \", checa_primo(n))\n",
    "    print()\n",
    "    print(\"---------------------------------------- \")"
   ]
  },
  {
   "cell_type": "markdown",
   "id": "a38b35b0-4718-4ab3-9f1b-113f373118f3",
   "metadata": {},
   "source": [
    "**Reflexão**: um número negativo pode ser primo? O que acontece se colocarmos um número negativo na função que criamos?\n",
    "\n"
   ]
  },
  {
   "cell_type": "markdown",
   "id": "d3c1d3cf-5eb9-419f-80b0-aa7a7b12f84e",
   "metadata": {},
   "source": [
    "### Algoritmo de computador: sequência de Fibonacci\n",
    "\n"
   ]
  },
  {
   "cell_type": "markdown",
   "id": "e7d4e2d1-c45f-43bd-844d-1ab8254436e3",
   "metadata": {},
   "source": [
    "**Problema**: gerar a sequência de Fibonacci com $n$ termos.\n",
    "\n",
    "**Entrada**: número inteiro $n \\geq 0$.\n",
    "\n",
    "**Saída**: lista com $n$ itens contendo a sequência de Fibonacci.\n",
    "\n",
    "**Conhecimento prévio**: a sequência de Fibonacci começa com os números 0 e 1. O próximo número da sequência é sempre a soma dos dois anteriores. Logo, o terceiro número é 0+1 que é igual a 1 (a sequência até o terceiro número é [0, 1, 1]). O quarto número é 1+1 que é igual a 2 (a sequência até o quarto número é [0, 1, 1, 2])&#x2026; e assim por diante.\n",
    "\n",
    "**Algoritmo**:\n",
    "\n"
   ]
  },
  {
   "cell_type": "code",
   "execution_count": 25,
   "id": "f0f88fed-2f2c-4d10-95b6-b6bea0197f63",
   "metadata": {},
   "outputs": [],
   "source": [
    "def fibonacci(n):\n",
    "\n",
    "    if n == 0:\n",
    "        return [] # caso particular\n",
    "        \n",
    "    elif n == 1:\n",
    "        return [0] # caso particular\n",
    "\n",
    "    elif n == 2:\n",
    "        return [0, 1] # caso particular\n",
    "\n",
    "    else: \n",
    "        fib = [0, 1]\n",
    "\n",
    "        for i in range (n - 2):\n",
    "            print (fib[-1], fib[-2] )\n",
    "            fib.append(fib[-1] + fib[-2])\n",
    "        return fib\n",
    "            "
   ]
  },
  {
   "cell_type": "markdown",
   "id": "e0954229-b3d6-4243-81e4-d42e213ad563",
   "metadata": {},
   "source": [
    "**Teste**:\n",
    "\n"
   ]
  },
  {
   "cell_type": "code",
   "execution_count": 26,
   "id": "71b44a8a-54e9-46df-b4d3-0e9680ddf360",
   "metadata": {},
   "outputs": [
    {
     "name": "stdout",
     "output_type": "stream",
     "text": [
      "Entrada:  3\n",
      "1 0\n",
      "Saída:  [0, 1, 1]\n",
      "\n",
      "---------------------------------------- \n",
      "Entrada:  1\n",
      "Saída:  [0]\n",
      "\n",
      "---------------------------------------- \n",
      "Entrada:  2\n",
      "Saída:  [0, 1]\n",
      "\n",
      "---------------------------------------- \n",
      "Entrada:  4\n",
      "1 0\n",
      "1 1\n",
      "Saída:  [0, 1, 1, 2]\n",
      "\n",
      "---------------------------------------- \n",
      "Entrada:  5\n",
      "1 0\n",
      "1 1\n",
      "2 1\n",
      "Saída:  [0, 1, 1, 2, 3]\n",
      "\n",
      "---------------------------------------- \n",
      "Entrada:  10\n",
      "1 0\n",
      "1 1\n",
      "2 1\n",
      "3 2\n",
      "5 3\n",
      "8 5\n",
      "13 8\n",
      "21 13\n",
      "Saída:  [0, 1, 1, 2, 3, 5, 8, 13, 21, 34]\n",
      "\n",
      "---------------------------------------- \n",
      "Entrada:  101\n",
      "1 0\n",
      "1 1\n",
      "2 1\n",
      "3 2\n",
      "5 3\n",
      "8 5\n",
      "13 8\n",
      "21 13\n",
      "34 21\n",
      "55 34\n",
      "89 55\n",
      "144 89\n",
      "233 144\n",
      "377 233\n",
      "610 377\n",
      "987 610\n",
      "1597 987\n",
      "2584 1597\n",
      "4181 2584\n",
      "6765 4181\n",
      "10946 6765\n",
      "17711 10946\n",
      "28657 17711\n",
      "46368 28657\n",
      "75025 46368\n",
      "121393 75025\n",
      "196418 121393\n",
      "317811 196418\n",
      "514229 317811\n",
      "832040 514229\n",
      "1346269 832040\n",
      "2178309 1346269\n",
      "3524578 2178309\n",
      "5702887 3524578\n",
      "9227465 5702887\n",
      "14930352 9227465\n",
      "24157817 14930352\n",
      "39088169 24157817\n",
      "63245986 39088169\n",
      "102334155 63245986\n",
      "165580141 102334155\n",
      "267914296 165580141\n",
      "433494437 267914296\n",
      "701408733 433494437\n",
      "1134903170 701408733\n",
      "1836311903 1134903170\n",
      "2971215073 1836311903\n",
      "4807526976 2971215073\n",
      "7778742049 4807526976\n",
      "12586269025 7778742049\n",
      "20365011074 12586269025\n",
      "32951280099 20365011074\n",
      "53316291173 32951280099\n",
      "86267571272 53316291173\n",
      "139583862445 86267571272\n",
      "225851433717 139583862445\n",
      "365435296162 225851433717\n",
      "591286729879 365435296162\n",
      "956722026041 591286729879\n",
      "1548008755920 956722026041\n",
      "2504730781961 1548008755920\n",
      "4052739537881 2504730781961\n",
      "6557470319842 4052739537881\n",
      "10610209857723 6557470319842\n",
      "17167680177565 10610209857723\n",
      "27777890035288 17167680177565\n",
      "44945570212853 27777890035288\n",
      "72723460248141 44945570212853\n",
      "117669030460994 72723460248141\n",
      "190392490709135 117669030460994\n",
      "308061521170129 190392490709135\n",
      "498454011879264 308061521170129\n",
      "806515533049393 498454011879264\n",
      "1304969544928657 806515533049393\n",
      "2111485077978050 1304969544928657\n",
      "3416454622906707 2111485077978050\n",
      "5527939700884757 3416454622906707\n",
      "8944394323791464 5527939700884757\n",
      "14472334024676221 8944394323791464\n",
      "23416728348467685 14472334024676221\n",
      "37889062373143906 23416728348467685\n",
      "61305790721611591 37889062373143906\n",
      "99194853094755497 61305790721611591\n",
      "160500643816367088 99194853094755497\n",
      "259695496911122585 160500643816367088\n",
      "420196140727489673 259695496911122585\n",
      "679891637638612258 420196140727489673\n",
      "1100087778366101931 679891637638612258\n",
      "1779979416004714189 1100087778366101931\n",
      "2880067194370816120 1779979416004714189\n",
      "4660046610375530309 2880067194370816120\n",
      "7540113804746346429 4660046610375530309\n",
      "12200160415121876738 7540113804746346429\n",
      "19740274219868223167 12200160415121876738\n",
      "31940434634990099905 19740274219868223167\n",
      "51680708854858323072 31940434634990099905\n",
      "83621143489848422977 51680708854858323072\n",
      "135301852344706746049 83621143489848422977\n",
      "218922995834555169026 135301852344706746049\n",
      "Saída:  [0, 1, 1, 2, 3, 5, 8, 13, 21, 34, 55, 89, 144, 233, 377, 610, 987, 1597, 2584, 4181, 6765, 10946, 17711, 28657, 46368, 75025, 121393, 196418, 317811, 514229, 832040, 1346269, 2178309, 3524578, 5702887, 9227465, 14930352, 24157817, 39088169, 63245986, 102334155, 165580141, 267914296, 433494437, 701408733, 1134903170, 1836311903, 2971215073, 4807526976, 7778742049, 12586269025, 20365011074, 32951280099, 53316291173, 86267571272, 139583862445, 225851433717, 365435296162, 591286729879, 956722026041, 1548008755920, 2504730781961, 4052739537881, 6557470319842, 10610209857723, 17167680177565, 27777890035288, 44945570212853, 72723460248141, 117669030460994, 190392490709135, 308061521170129, 498454011879264, 806515533049393, 1304969544928657, 2111485077978050, 3416454622906707, 5527939700884757, 8944394323791464, 14472334024676221, 23416728348467685, 37889062373143906, 61305790721611591, 99194853094755497, 160500643816367088, 259695496911122585, 420196140727489673, 679891637638612258, 1100087778366101931, 1779979416004714189, 2880067194370816120, 4660046610375530309, 7540113804746346429, 12200160415121876738, 19740274219868223167, 31940434634990099905, 51680708854858323072, 83621143489848422977, 135301852344706746049, 218922995834555169026, 354224848179261915075]\n",
      "\n",
      "---------------------------------------- \n"
     ]
    }
   ],
   "source": [
    "lista = [3, 1, 2, 4, 5, 10, 101]\n",
    "\n",
    "for n in lista:\n",
    "    print(\"Entrada: \", n)\n",
    "    print(\"Saída: \", fibonacci(n))\n",
    "    print()\n",
    "    print(\"---------------------------------------- \")"
   ]
  },
  {
   "cell_type": "markdown",
   "id": "9c515135-a78a-42da-9586-cfe4a48988ae",
   "metadata": {},
   "source": [
    "**Reflexão**: a sequência de Fibonacci tem uma propriedade interessante quando dividimos o elemento na posição $p$ pelo elemento da posição $p-1$. Quanto maior for o valor de $p$, mais essa divisão tende para uma constante. Você sabe qual constante é essa?\n",
    "\n"
   ]
  },
  {
   "cell_type": "markdown",
   "id": "4afbf2dd-836b-4123-93ff-595e2ed7f730",
   "metadata": {},
   "source": [
    "## XKCD relevante\n",
    "\n"
   ]
  },
  {
   "cell_type": "markdown",
   "id": "41fa7e45-4f8c-4d13-a096-912d4eabfb17",
   "metadata": {},
   "source": [
    "![img](https://imgs.xkcd.com/comics/here_to_help.png)\n",
    "\n",
    "`Imagem: Here to Help (XKCD) disponível em https://xkcd.com/1831`\n",
    "\n"
   ]
  }
 ],
 "metadata": {
  "kernelspec": {
   "display_name": "ilumpy",
   "language": "python",
   "name": "ilumpy"
  },
  "language_info": {
   "codemirror_mode": {
    "name": "ipython",
    "version": 3
   },
   "file_extension": ".py",
   "mimetype": "text/x-python",
   "name": "python",
   "nbconvert_exporter": "python",
   "pygments_lexer": "ipython3",
   "version": "3.12.7"
  },
  "org": null
 },
 "nbformat": 4,
 "nbformat_minor": 5
}
