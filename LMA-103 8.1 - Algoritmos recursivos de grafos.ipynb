{
 "cells": [
  {
   "cell_type": "markdown",
   "id": "3f2b0304-1798-4275-843a-c5d86d4a0e68",
   "metadata": {},
   "source": [
    "Algoritmos recursivos de grafos\n",
    "===============================\n",
    "\n",
    "**Autor:** Daniel R. Cassar\n",
    "\n"
   ]
  },
  {
   "cell_type": "markdown",
   "id": "e72466d3-ec0b-4214-acea-6331b5bf364e",
   "metadata": {},
   "source": [
    "## Uma breve pausa\n",
    "\n"
   ]
  },
  {
   "cell_type": "markdown",
   "id": "31791793-42e5-4279-b985-6edf1f8a2754",
   "metadata": {},
   "source": [
    "O que acontece quando o **valor padrão de um argumento** de uma função é um objeto mutável? Veja o código abaixo e reflita sobre isso.\n",
    "\n"
   ]
  },
  {
   "cell_type": "code",
   "execution_count": null,
   "id": "1f51a0b5-87e2-46c5-9d5c-8200db146fb6",
   "metadata": {},
   "outputs": [],
   "source": [
    "def minha_funcao(lista=[]):\n",
    "    lista.append(1)\n",
    "    return lista\n",
    "\n",
    "print(minha_funcao([1,2,3]))\n",
    "print(minha_funcao())\n",
    "print(minha_funcao())\n",
    "print(minha_funcao())"
   ]
  },
  {
   "cell_type": "markdown",
   "id": "06f30684-6a99-41d6-aa21-aa8378af13f3",
   "metadata": {},
   "source": [
    "**Sugestão**: evite utilizar valores padrão que são objetos mutáveis de Python. Listas e dicionários são objetos mutáveis, mas inteiros, floats e strings não são.\n",
    "\n",
    "**Sugestão 2**: evite alterar argumentos mutáveis dentro das funções para evitar problemas. Tanto listas quanto dicionários têm o método `copy` que pode ser utilizado para copiar o argumento de entrada e evitar alterá-lo no corpo da função.\n",
    "\n"
   ]
  },
  {
   "cell_type": "markdown",
   "id": "6f5c25d5-7ba2-4a8b-8087-9ee3ca90a295",
   "metadata": {},
   "source": [
    "## Busca em profundidade\n",
    "\n"
   ]
  },
  {
   "cell_type": "markdown",
   "id": "b8f35460-d613-4cae-8805-b01411c698b5",
   "metadata": {},
   "source": [
    "### Problema a ser resolvido\n",
    "\n"
   ]
  },
  {
   "cell_type": "markdown",
   "id": "576df93b-22fe-4745-852a-a8bad48207f7",
   "metadata": {},
   "source": [
    "<hr>\n",
    "\n",
    "**Problema**: encontrar todos os vértices de um grafo que podem ser visitados a partir de um vértice inicial.\n",
    "\n",
    "**Entradas**: um grafo representado por um dicionário e um vértice inicial.\n",
    "\n",
    "**Saída**: lista contendo todos os vértices que podem ser visitados a partir de um vértice inicial.\n",
    "\n",
    "<hr>\n",
    "\n"
   ]
  },
  {
   "cell_type": "markdown",
   "id": "f90538b9-5f30-4d7f-84f1-99fbc09676da",
   "metadata": {},
   "source": [
    "### Sobre o algoritmo\n",
    "\n"
   ]
  },
  {
   "cell_type": "markdown",
   "id": "8914e016-b8ea-44a1-b8f5-05f5e92c67bf",
   "metadata": {},
   "source": [
    "Assim como o algoritmo de **busca em largura** que estudamos em uma aula anterior, o algoritmo de **busca em profundidade** [1] também é um algoritmo para navegar grafos.\n",
    "\n",
    "Esse algoritmo inicia sua busca em um vértice inicial e se &ldquo;aprofunda&rdquo; em cada ramo o máximo possível antes de voltar atrás e explorar outro ramo. Ele é outro algoritmo de travessia de grafos, junto com a busca em largura.\n",
    "\n",
    "Diferente da busca em largura, a busca em profundidade não é capaz de resolver o problema de encontrar a menor distância entre dois vértices de um grafo. No entanto, a busca em largura é capaz de resolver outros problemas, como a ordenação topológica que será vista na próxima seção.\n",
    "\n"
   ]
  },
  {
   "cell_type": "markdown",
   "id": "43630b33-d2d7-47e9-ab9e-a8ebb1bf9bdd",
   "metadata": {},
   "source": [
    "### Implementação com recursão\n",
    "\n"
   ]
  },
  {
   "cell_type": "markdown",
   "id": "72e7a461-30a7-4eac-ab10-7af86e6af2b9",
   "metadata": {},
   "source": [
    "O algoritmo abaixo recebe um grafo e um vértice inicial e retorna a ordem de visitação dos vértices a partir do vértice inicial seguindo a estratégia da busca em profundidade.\n",
    "\n",
    "**Caso base**: ocorre quando o vértice já foi visitado, ou seja, a função não precisa continuar a busca a partir dele.\n",
    "\n",
    "**Passo recursivo**: ocorre quando a função encontra um vizinho ainda não visitado e chama a si mesma para continuar a busca a partir desse vizinho.\n",
    "\n",
    "**Nota**: o argumento `visitados` dessa função é utilizado apenas durante o *passo recursivo*, por isso ele tem um valor padrão de `None`.\n",
    "\n"
   ]
  },
  {
   "cell_type": "code",
   "execution_count": null,
   "id": "81778ef0-0a6c-4478-a6d9-b58fede28409",
   "metadata": {},
   "outputs": [],
   "source": [
    "def busca_em_profundidade(grafo, vertice, visitados=None):\n",
    "    \"\"\"Realiza busca em profundidade em um grafo.\"\"\"\n",
    "\n",
    "    if visitados is None:\n",
    "        visitados = []\n",
    "\n",
    "    # Caso base: se o vértice já foi visitado, a função não entra no if\n",
    "    if vertice not in visitados:\n",
    "        visitados.append(vertice)\n",
    "        lista_vizinhos = grafo.get(vertice, [])\n",
    "\n",
    "        for vizinho in lista_vizinhos:\n",
    "            # Passo recursivo: encontrou um vizinho ainda não visitado\n",
    "            visitados = busca_em_profundidade(grafo, vizinho, visitados)\n",
    "\n",
    "    return visitados"
   ]
  },
  {
   "cell_type": "markdown",
   "id": "b67883bf-69a1-42ea-b83d-97697a0abf21",
   "metadata": {},
   "source": [
    "**Teste**:\n",
    "\n"
   ]
  },
  {
   "cell_type": "code",
   "execution_count": null,
   "id": "39d0b461-8fdf-4410-9a6c-a31ba75daec9",
   "metadata": {},
   "outputs": [],
   "source": [
    "from networkx import DiGraph, draw\n",
    "\n",
    "grafo = {\n",
    "    1: [2, 3],\n",
    "    2: [4],\n",
    "    3: [4],\n",
    "    5: [6],\n",
    "}\n",
    "\n",
    "g = DiGraph(grafo)\n",
    "draw(g, with_labels=True)"
   ]
  },
  {
   "cell_type": "code",
   "execution_count": null,
   "id": "5bc161ed-0082-44cb-bcc6-f28cf100ecd6",
   "metadata": {},
   "outputs": [],
   "source": [
    "vertice_inicial = 1\n",
    "\n",
    "busca_em_profundidade(grafo, vertice_inicial)"
   ]
  },
  {
   "cell_type": "markdown",
   "id": "d4df1c22-7eb2-40b3-995d-f29b0a4645bd",
   "metadata": {},
   "source": [
    "### Implementação sem recursão\n",
    "\n"
   ]
  },
  {
   "cell_type": "markdown",
   "id": "35607208-174b-42ca-9e02-f8216ea311dc",
   "metadata": {},
   "source": [
    "A implementação sem recursão da busca em profundidade usa a **estrutura de pilha** (último que entra é o primeiro que sai).\n",
    "\n"
   ]
  },
  {
   "cell_type": "code",
   "execution_count": null,
   "id": "69e5f918-ca12-4b23-b2da-7b45f612e00c",
   "metadata": {},
   "outputs": [],
   "source": [
    "def busca_em_profundidade_sem_recursao(grafo, vertice):\n",
    "\n",
    "    pilha = [vertice]\n",
    "    vertices_visitados = []\n",
    "\n",
    "    while len(pilha) > 0:\n",
    "        onde_estou = pilha.pop()\n",
    "        if onde_estou not in vertices_visitados:\n",
    "            vertices_visitados.append(onde_estou)\n",
    "            vizinhos = grafo.get(onde_estou, [])\n",
    "            pilha.extend(vizinhos)\n",
    "\n",
    "    return vertices_visitados"
   ]
  },
  {
   "cell_type": "markdown",
   "id": "90e50894-2c11-4dc8-98cf-cc26642c1b32",
   "metadata": {},
   "source": [
    "**Teste**:\n",
    "\n"
   ]
  },
  {
   "cell_type": "code",
   "execution_count": null,
   "id": "3a13b2a5-83eb-45e3-aa71-d85da8d42d7f",
   "metadata": {},
   "outputs": [],
   "source": [
    "vertice_inicial = 1\n",
    "\n",
    "busca_em_profundidade_sem_recursao(grafo, vertice_inicial)"
   ]
  },
  {
   "cell_type": "markdown",
   "id": "db211dee-d52c-481e-b783-723096115726",
   "metadata": {},
   "source": [
    "## Grafos cíclicos e acíclicos\n",
    "\n"
   ]
  },
  {
   "cell_type": "markdown",
   "id": "97acbf20-003e-4382-a340-d48c1e96d4db",
   "metadata": {},
   "source": [
    "Um grafo é chamado de **cíclico** se contém pelo menos um ciclo, ou seja, um caminho fechado em que um vértice é visitado mais de uma vez sem repetir arestas.\n",
    "\n",
    "Um grafo que não tem nenhum ciclo é chamado de **acíclico**.\n",
    "\n",
    "O grafo abaixo é um exemplo de grafo **direcional cíclico**. Observe que é possível sair do vértice $A$ e retornar nesse mesmo vértice seguindo um caminho fechado que não repete nenhuma aresta.\n",
    "\n"
   ]
  },
  {
   "cell_type": "code",
   "execution_count": null,
   "id": "94f3b720-cfa1-4b5a-a458-0dc4191feabd",
   "metadata": {},
   "outputs": [],
   "source": [
    "grafo = {\n",
    "    \"A\": [\"B\"],\n",
    "    \"B\": [\"C\"],\n",
    "    \"C\": [\"D\"],\n",
    "    \"D\": [\"E\", \"G\", \"C\"],\n",
    "    \"E\": [\"A\"],\n",
    "    \"F\": [\"C\"],\n",
    "}\n",
    "\n",
    "g = DiGraph(grafo)\n",
    "draw(g, with_labels=True)"
   ]
  },
  {
   "cell_type": "markdown",
   "id": "33ab5d4c-22a0-4bcc-9d33-9a4257b69f67",
   "metadata": {},
   "source": [
    "## Ordenador topológico\n",
    "\n"
   ]
  },
  {
   "cell_type": "markdown",
   "id": "4b2d5b20-435d-49f5-9148-feb41d4d5d1b",
   "metadata": {},
   "source": [
    "### Problema a ser resolvido\n",
    "\n"
   ]
  },
  {
   "cell_type": "markdown",
   "id": "ca1efedc-251a-496c-ab94-42e3f24b50a5",
   "metadata": {},
   "source": [
    "Podemos ordenar os vértices de um **grafo direcional acíclico**. Ordenar, neste caso, significa listar os vértices de forma que todas as setas tenham sentido da esquerda para a direita. Veja um exemplo na imagem abaixo.\n",
    "\n",
    "![img](https://i.imgur.com/Q3MA6dZ.png)\n",
    "\n",
    "É possível que exista **mais de uma solução** para ordenar os vértices de um certo grafo. Isso não é um problema. Em geral, neste caso precisamos apenas encontrar uma solução qualquer, usualmente não precisamos encontrar *todas* as soluções.\n",
    "\n"
   ]
  },
  {
   "cell_type": "markdown",
   "id": "ced597bb-4f33-4553-b2f4-c619c74d49e1",
   "metadata": {},
   "source": [
    "### Sobre o algoritmo\n",
    "\n"
   ]
  },
  {
   "cell_type": "markdown",
   "id": "3ffafe76-051f-4737-9415-e5f61bc4b79e",
   "metadata": {},
   "source": [
    "O algoritmo que usaremos é um [*ordenador recursivo de grafos*](https://media2.giphy.com/media/v1.Y2lkPTc5MGI3NjExanJyYXFkZmNwam43NXV5MmJqZzlzdTg5dDBvb2czNHZ0NWdpbTY3YiZlcD12MV9pbnRlcm5hbF9naWZfYnlfaWQmY3Q9Zw/lXu72d4iKwqek/giphy.gif)!\n",
    "\n",
    "Este algoritmo é baseado na busca em profundidade, mas em vez de começar de um vértice fornecido pelo usuário, ele garante que todos os vértices do grafo sejam explorados, mesmo que estejam em componentes desconexas.\n",
    "\n",
    "**Passo recursivo**: ocorre quando a função encontra um vizinho ainda não visitado e chama a si mesma para continuar a busca a partir desse vizinho.\n",
    "\n",
    "**Critério de parada**: ocorre quando todos os vizinhos do vértice atual já foram visitados, ou seja, não há mais chamadas recursivas a fazer.\n",
    "\n"
   ]
  },
  {
   "cell_type": "code",
   "execution_count": null,
   "id": "e40d2fb2-c888-4558-b85e-2f6e3ce11b55",
   "metadata": {},
   "outputs": [],
   "source": [
    "def ordenador_topologico(grafo):\n",
    "    \"\"\"Realiza ordenação topológica de um grafo.\"\"\"\n",
    "\n",
    "    visitados = []\n",
    "    resultado = []\n",
    "\n",
    "    def busca_em_profundidade(vertice):\n",
    "        if vertice not in visitados:\n",
    "            visitados.append(vertice)\n",
    "            lista_vizinhos = grafo.get(vertice, [])\n",
    "\n",
    "            for vizinho in lista_vizinhos:\n",
    "                busca_em_profundidade(vizinho)\n",
    "\n",
    "            resultado.append(vertice)\n",
    "\n",
    "    for vertice in grafo:\n",
    "        busca_em_profundidade(vertice)\n",
    "\n",
    "    return list(reversed(resultado))"
   ]
  },
  {
   "cell_type": "markdown",
   "id": "eb1d438c-d321-4b94-a749-9f50a427bfe3",
   "metadata": {},
   "source": [
    "**Teste**:\n",
    "\n"
   ]
  },
  {
   "cell_type": "code",
   "execution_count": null,
   "id": "7c3daa4d-8c8a-413f-bccb-5faf99154735",
   "metadata": {},
   "outputs": [],
   "source": [
    "grafo = {\n",
    "    0: [1, 2],\n",
    "    1: [5, 2],\n",
    "    2: [3],\n",
    "    5: [3, 4],\n",
    "    6: [1, 5],\n",
    "}\n",
    "\n",
    "ordenador_topologico(grafo)"
   ]
  },
  {
   "cell_type": "markdown",
   "id": "80fba6cc-7442-4b1b-ba70-4d80686e88b6",
   "metadata": {},
   "source": [
    "Observe que a solução do algoritmo não é igual à solução apresentada na imagem. Isso vem do fato que podem existir diversas soluções válidas para a ordenação topológica de grafos. Novamente, quando utilizamos esse algoritmo estamos interessados em encontrar uma solução qualquer, não uma solução específica.\n",
    "\n"
   ]
  },
  {
   "cell_type": "markdown",
   "id": "c329c9be-ff0e-41ef-a0e1-5e8bd1128b64",
   "metadata": {},
   "source": [
    "## XKCD relevante\n",
    "\n"
   ]
  },
  {
   "cell_type": "markdown",
   "id": "edf7a629-5e1b-448c-8c4d-897df9bb5c41",
   "metadata": {},
   "source": [
    "![img](https://imgs.xkcd.com/comics/dfs.png)\n",
    "\n",
    "`Imagem: DFS (XKCD) disponível em https://xkcd.com/761`\n",
    "\n"
   ]
  },
  {
   "cell_type": "markdown",
   "id": "8443d3db-296e-4da6-ba45-e3c4da6c0d4c",
   "metadata": {},
   "source": [
    "## Referências\n",
    "\n"
   ]
  },
  {
   "cell_type": "markdown",
   "id": "11004395-0aaf-4c2b-9637-74eb1113241d",
   "metadata": {},
   "source": [
    "1.  Artigo da Wikipédia sobre busca em profundidade [https://en.wikipedia.org/wiki/Depth-first_search](https://en.wikipedia.org/wiki/Depth-first_search)\n",
    "\n",
    "2.  Fonte da imagem da ordenação topológica [https://imgur.com/Q3MA6dZ](https://imgur.com/Q3MA6dZ)\n",
    "\n"
   ]
  }
 ],
 "metadata": {
  "kernelspec": {
   "display_name": "ilumpy",
   "language": "python",
   "name": "ilumpy"
  },
  "language_info": {
   "codemirror_mode": {
    "name": "ipython",
    "version": 3
   },
   "file_extension": ".py",
   "mimetype": "text/x-python",
   "name": "python",
   "nbconvert_exporter": "python",
   "pygments_lexer": "ipython3",
   "version": "3.12.7"
  },
  "org": null
 },
 "nbformat": 4,
 "nbformat_minor": 5
}
