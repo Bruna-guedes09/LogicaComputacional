{
 "cells": [
  {
   "cell_type": "markdown",
   "id": "eea8529a-6271-4fd5-8d19-b49168a2e258",
   "metadata": {},
   "source": [
    "Navegando grafos com busca em largura\n",
    "=====================================\n",
    "\n",
    "**Autor:** Daniel R. Cassar\n",
    "\n"
   ]
  },
  {
   "cell_type": "markdown",
   "id": "b84f830d-fe0a-4cf1-83ef-4a39320cc281",
   "metadata": {},
   "source": [
    "## Introdução\n",
    "\n"
   ]
  },
  {
   "cell_type": "markdown",
   "id": "7a69fad7-71b7-4386-b07e-05a80fea3d63",
   "metadata": {},
   "source": [
    "Suponha que $A$ e $B$ sejam vértices quaisquer de um grafo. Existem duas perguntas que usualmente surgem no contexto de grafos:\n",
    "\n",
    "1.  Existe conexão entre o vértice $A$ e o vértice $B$?\n",
    "\n",
    "2.  Qual é o caminho mais curto entre o vértice $A$ e o vértice $B$? Isto é, qual é o percurso que liga $A$ e $B$ que visita menos vértices.\n",
    "\n",
    "Por exemplo, considere o grafo abaixo.\n",
    "\n"
   ]
  },
  {
   "cell_type": "code",
   "execution_count": 8,
   "id": "5aa3d5d7-da44-4b85-a49e-217fb4f53953",
   "metadata": {},
   "outputs": [],
   "source": [
    "grafo = {\n",
    "    \"Casa\": [\"Padaria\", \"Escola\"],\n",
    "    \"Padaria\": [\"Casa\", \"Mercado\", \"Praça\"],\n",
    "    \"Escola\": [\"Casa\", \"Biblioteca\"],\n",
    "    \"Mercado\": [\"Padaria\", \"Hospital\"],\n",
    "    \"Praça\": [\"Padaria\", \"Biblioteca\", \"Cinema\"],\n",
    "    \"Biblioteca\": [\"Escola\", \"Praça\"],\n",
    "    \"Cinema\": [\"Praça\", \"Hospital\"],\n",
    "    \"Hospital\": [\"Mercado\", \"Cinema\"],\n",
    "}"
   ]
  },
  {
   "cell_type": "markdown",
   "id": "ea3d28dc-2cb4-43a5-a8ca-6f4bd80c96ba",
   "metadata": {},
   "source": [
    "**Pergunta**: existe conexão entre a biblioteca e o mercado? Se sim, qual a menor distância entre eles?\n",
    "\n",
    "Uma forma de responder esta pergunta é observando a representação visual deste grafo. Observamos que a menor distância entre a biblioteca e o mercado é de 3 (isto é, devemos percorrer 3 vértices para realizar este trajeto).\n",
    "\n"
   ]
  },
  {
   "cell_type": "code",
   "execution_count": 1,
   "id": "6df04b83-2a10-48bf-85ac-c52d35e9370f",
   "metadata": {},
   "outputs": [],
   "source": [
    "from networkx import Graph, draw\n",
    "\n",
    "g = Graph(grafo)\n",
    "draw(g, with_labels=True)"
   ]
  },
  {
   "cell_type": "markdown",
   "id": "9c5ade9f-9346-4beb-a3ba-fb2293deb5a6",
   "metadata": {},
   "source": [
    "## Problema a ser resolvido\n",
    "\n"
   ]
  },
  {
   "cell_type": "markdown",
   "id": "41ef2b1a-ffb9-4234-83a8-e0732a6012b0",
   "metadata": {},
   "source": [
    "**Problema**: encontrar a menor distância para chegar em cada vértice de um grafo partindo de um vértice inicial.\n",
    "\n",
    "**Entradas**: um grafo representado por um dicionário e um vértice inicial.\n",
    "\n",
    "**Saída**: dicionário relacionando os vértices com as distâncias em relação ao vértice inicial.\n",
    "\n",
    "**Exemplo**:\n",
    "\n",
    "A célula de código abaixo mostra um grafo de entrada (`grafo`), um vértice inicial (`vertice_inicial`) e o resultado do algoritmo (`resultado`). A célula de código também mostra a representação gráfica do grafo.\n",
    "\n"
   ]
  },
  {
   "cell_type": "code",
   "execution_count": 6,
   "id": "25b6a858-27cf-4bf7-9ade-b0140f22789c",
   "metadata": {},
   "outputs": [
    {
     "ename": "NameError",
     "evalue": "name 'Graph' is not defined",
     "output_type": "error",
     "traceback": [
      "\u001b[1;31m---------------------------------------------------------------------------\u001b[0m",
      "\u001b[1;31mNameError\u001b[0m                                 Traceback (most recent call last)",
      "Cell \u001b[1;32mIn[6], line 23\u001b[0m\n\u001b[0;32m     12\u001b[0m vertice_inicial \u001b[38;5;241m=\u001b[39m \u001b[38;5;241m1\u001b[39m\n\u001b[0;32m     14\u001b[0m resultado \u001b[38;5;241m=\u001b[39m {\n\u001b[0;32m     15\u001b[0m     \u001b[38;5;241m1\u001b[39m: \u001b[38;5;241m0\u001b[39m,\n\u001b[0;32m     16\u001b[0m     \u001b[38;5;241m5\u001b[39m: \u001b[38;5;241m1\u001b[39m,\n\u001b[1;32m   (...)\u001b[0m\n\u001b[0;32m     20\u001b[0m     \u001b[38;5;241m6\u001b[39m: \u001b[38;5;241m3\u001b[39m,\n\u001b[0;32m     21\u001b[0m }\n\u001b[1;32m---> 23\u001b[0m g \u001b[38;5;241m=\u001b[39m \u001b[43mGraph\u001b[49m(grafo)\n\u001b[0;32m     24\u001b[0m draw(g, with_labels\u001b[38;5;241m=\u001b[39m\u001b[38;5;28;01mTrue\u001b[39;00m)\n\u001b[0;32m     26\u001b[0m pprint(resultado)\n",
      "\u001b[1;31mNameError\u001b[0m: name 'Graph' is not defined"
     ]
    }
   ],
   "source": [
    "from pprint import pprint\n",
    "\n",
    "grafo = {\n",
    "    1: [5, 2],\n",
    "    2: [1, 5, 3],\n",
    "    3: [4, 2],\n",
    "    4: [5, 3, 6],\n",
    "    5: [1, 2, 4],\n",
    "    6: [4],\n",
    "}\n",
    "\n",
    "vertice_inicial = 1\n",
    "\n",
    "resultado = {\n",
    "    1: 0,\n",
    "    5: 1,\n",
    "    2: 1,\n",
    "    4: 2,\n",
    "    3: 2,\n",
    "    6: 3,\n",
    "}\n",
    "\n",
    "g = Graph(grafo)\n",
    "draw(g, with_labels=True)\n",
    "\n",
    "pprint(resultado)"
   ]
  },
  {
   "cell_type": "markdown",
   "id": "1a1ebb8d-e365-427f-864d-41e579fef083",
   "metadata": {},
   "source": [
    "## Algoritmo de busca em largura\n",
    "\n"
   ]
  },
  {
   "cell_type": "markdown",
   "id": "8789961f-e825-4731-955d-d2960624cf19",
   "metadata": {},
   "source": [
    "A busca em largura é um algoritmo de travessia de grafos onde iniciamos nossa busca em um vértice e navegamos o grafo visitando primeiramente os vizinhos deste vértice, depois os vizinhos dos vizinhos, depois os vizinhos dos vizinhos dos vizinhos, etc&#x2026; Veja a página da Wikipedia sobre o tema para uma visualização do algoritmo [1].\n",
    "\n",
    "Uma analogia para a busca em largura é o jogar de uma pedra em um lago: as ondas do impacto da pedra na superfície do lago começam no ponto de impacto e vão se propagando para distâncias cada vez maiores do ponto de impacto.\n",
    "\n",
    "O algoritmo de busca em largura garante que você **visitará todos os vértices conectados ao seu vértice inicial**. Não apenas isso, mas cada vez que ele chega em um vértice ainda não visitado, sabemos que ele chega nele com a **menor distância possível**.\n",
    "\n",
    "Vamos usar um algoritmo de busca em largura para resolver o problema apresentado na seção anterior.\n",
    "\n",
    "Uma sequência de etapas para resolver este problema é:\n",
    "\n",
    "<hr>\n",
    "\n",
    "1.  Cheque se o vértice inicial é um vértice do grafo de entrada. Se ele não for um vértice do grafo, então retorne um dicionário vazio ao usuário.\n",
    "\n",
    "2.  Registre em um dicionário `distancia` que a distância para chegar ao vértice inicial é zero.\n",
    "\n",
    "3.  Crie uma lista chamada `fila` que deve conter o vértice inicial.\n",
    "\n",
    "4.  Enquanto a lista `fila` tiver pelo menos um item:\n",
    "    1.  Remova o primeiro elemento da lista `fila` e armazene ele em uma variável chamada `posicao_atual`.\n",
    "    \n",
    "    2.  Crie uma variável chamada `distancia_ate_onde_estou`, esta deve armazenar a distância para chegar até a `posicao_atual`.\n",
    "    \n",
    "    3.  Defina a variável `distancia_vizinho` como sendo `distancia_ate_onde_estou + 1`.\n",
    "    \n",
    "    4.  Para cada vizinho do vértice `posicao_atual` (ver **nota 1** abaixo):\n",
    "        1.  Se este vizinho *não* está contemplado em `distancia`, então acrescente este vizinho ao final da lista `fila` e atualize o dicionário `distancia` com a informação que a distância para chegar até este vizinho é de `distancia_vizinho`.\n",
    "\n",
    "5.  Retorne o dicionário `distancia` para o usuário.\n",
    "\n",
    "**Nota 1**: é interessante que o código não dê erro caso o vértice `posicao_atual` *não* seja uma chave no grafo de entrada.\n",
    "\n",
    "<hr>\n",
    "\n",
    "**Algoritmo**:\n",
    "\n"
   ]
  },
  {
   "cell_type": "code",
   "execution_count": 11,
   "id": "e181ac6e-02e1-47e4-844f-d014de7eda08",
   "metadata": {},
   "outputs": [],
   "source": [
    "def calcula_distancias(grafo, vertice_inicial):\n",
    "    \"\"\"Calcula as distâncias entre o vértice inicial e os demais vértices de um grafo\"\"\"\n",
    "\n",
    "    if vertice_inicial not in grafo:\n",
    "        return []\n",
    "        \n",
    "    distancia = {\n",
    "        vertice_inicial: 0,\n",
    "    }\n",
    "\n",
    "    fila = [vertice_inicial]\n",
    "\n",
    "    while len(fila) > 0:\n",
    "        posicao_atual = fila.pop(0)\n",
    "        distancia_ate_onde_estou = distancia[posicao_atual]\n",
    "        distancia_vizinho = distancia_ate_onde_estou + 1\n",
    "\n",
    "        for vizinho in grafo.get(posicao_atual, []):\n",
    "            if vizinho not in distancia:\n",
    "                fila.append(vizinho)\n",
    "                distancia[vizinho] = distancia_vizinho\n",
    "                \n",
    "    return distancia\n",
    "    "
   ]
  },
  {
   "cell_type": "markdown",
   "id": "fcf05803-50a3-488a-b764-cb05673d3c2c",
   "metadata": {},
   "source": [
    "**Teste**:\n",
    "\n"
   ]
  },
  {
   "cell_type": "code",
   "execution_count": 12,
   "id": "1bea4887-73b0-4c77-82c5-ca3d3a1278c1",
   "metadata": {},
   "outputs": [
    {
     "name": "stdout",
     "output_type": "stream",
     "text": [
      "{'Biblioteca': 0, 'Escola': 1, 'Praça': 1, 'Casa': 2, 'Padaria': 2, 'Cinema': 2, 'Mercado': 3, 'Hospital': 3}\n"
     ]
    }
   ],
   "source": [
    "vertice = \"Biblioteca\"\n",
    "\n",
    "distancias = calcula_distancias(grafo, vertice)\n",
    "\n",
    "print(distancias)"
   ]
  },
  {
   "cell_type": "markdown",
   "id": "493ca8dd-0572-4f87-93ec-9586f6eff631",
   "metadata": {},
   "source": [
    "## XKCD relevante\n",
    "\n"
   ]
  },
  {
   "cell_type": "markdown",
   "id": "cfe911a6-f212-4891-877c-7a55365a3135",
   "metadata": {},
   "source": [
    "![img](https://imgs.xkcd.com/comics/depth_and_breadth.png)\n",
    "\n",
    "`Imagem: Depth and Breadth (XKCD) disponível em https://xkcd.com/2407`\n",
    "\n"
   ]
  },
  {
   "cell_type": "markdown",
   "id": "a618aca4-47d2-457e-b1e1-44d94610e2d6",
   "metadata": {},
   "source": [
    "## Referências\n",
    "\n"
   ]
  },
  {
   "cell_type": "markdown",
   "id": "b2a37baf-b2c0-489b-9ac5-488af87fb644",
   "metadata": {},
   "source": [
    "1.  Artigo da Wikipédia busca em largura [https://pt.wikipedia.org/wiki/Busca_em_largura](https://pt.wikipedia.org/wiki/Busca_em_largura)\n",
    "\n"
   ]
  }
 ],
 "metadata": {
  "kernelspec": {
   "display_name": "ilumpy",
   "language": "python",
   "name": "ilumpy"
  },
  "language_info": {
   "codemirror_mode": {
    "name": "ipython",
    "version": 3
   },
   "file_extension": ".py",
   "mimetype": "text/x-python",
   "name": "python",
   "nbconvert_exporter": "python",
   "pygments_lexer": "ipython3",
   "version": "3.12.7"
  },
  "org": null
 },
 "nbformat": 4,
 "nbformat_minor": 5
}
