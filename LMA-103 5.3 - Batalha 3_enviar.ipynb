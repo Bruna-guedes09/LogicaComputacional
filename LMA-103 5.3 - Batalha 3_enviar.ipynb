{
 "cells": [
  {
   "cell_type": "markdown",
   "id": "37ea5024-7547-4e54-a084-0d70f6ede652",
   "metadata": {},
   "source": [
    "Batalha 3\n",
    "=========\n",
    "\n"
   ]
  },
  {
   "cell_type": "markdown",
   "id": "d7add91c-8846-4418-9ddb-c32e20216a24",
   "metadata": {},
   "source": [
    "## Leia com atenção antes de começar\n",
    "\n"
   ]
  },
  {
   "cell_type": "markdown",
   "id": "48767cbf-62a5-43b7-bce0-724c064b6b30",
   "metadata": {},
   "source": [
    "Preencha as células de código abaixo (o local para preencher está com um comentário \"`# preencher`\"). Fique à vontade para criar células para testar as funções caso queira.\n",
    "\n",
    "<div class=\"alert alert-warning\" style=\"background-color: #66B2FF; color: #004400;\">Não é permitido usar a instrução `import` em nenhum local deste notebook.\n",
    "</div>\n",
    "\n",
    "<div class=\"alert alert-warning\">Não altere os nomes das funções já definidas.\n",
    "</div>\n",
    "\n",
    "<div class=\"alert alert-warning\">Caso exista mais de uma função com mesmo nome, apenas a função definida por último (considerando a ordem sequencial do documento) será considerada.\n",
    "</div>\n",
    "\n",
    "<div class=\"alert alert-warning\" style=\"background-color: #ffeeba; color: #856404;\">Quer usar IA ou debater as questões com colegas? Então leia o contrato didático para evitar problemas.\n",
    "</div>\n",
    "\n"
   ]
  },
  {
   "cell_type": "markdown",
   "id": "12024a94-4835-4cf2-b1aa-f9a029e9ccdb",
   "metadata": {},
   "source": [
    "## Computando a mediana\n",
    "\n"
   ]
  },
  {
   "cell_type": "markdown",
   "id": "efa08a1d-043d-42b0-b7c6-c6a27bdbf7a8",
   "metadata": {},
   "source": [
    "**Problema**: encontrar a mediana de uma lista ordenada.\n",
    "\n",
    "**Entrada**: uma lista contendo um ou mais valores numéricos ordenados em ordem crescente.\n",
    "\n",
    "**Saída**: um número representando a mediana dos valores da lista de entrada.\n",
    "\n",
    "**Sugestão**: se informe sobre como calcular a mediana. Existe uma consideração importante que deve ser levada em conta dependendo do número de itens da lista.\n",
    "\n",
    "**Alguns exemplos de entradas e retornos**:\n",
    "\n",
    "\n",
    "| Entrada <code>lista_ordenada</code>|Retorno|\n",
    "|---|---|\n",
    "| [1, 2, 3, 4, 5]|3|\n",
    "| [1, 2, 3, 4]|2.5|\n",
    "| [-100, 1, 2]|1|\n",
    "| [10]|10|\n",
    "| [0, 0, 0, 0, 5, 6, 7, 8]|2.5|\n",
    "\n",
    "**Algoritmo**:\n",
    "\n"
   ]
  },
  {
   "cell_type": "code",
   "execution_count": 9,
   "id": "e7048519-36d9-47b2-90ac-055bbfdbcdbf",
   "metadata": {},
   "outputs": [
    {
     "name": "stdout",
     "output_type": "stream",
     "text": [
      "Entrada:  [1, 2, 3, 4, 5]\n",
      "Saída:  3\n",
      "\n",
      "---------------------------------------- \n",
      "Entrada:  [3, 6, 8]\n",
      "Saída:  6\n",
      "\n",
      "---------------------------------------- \n",
      "Entrada:  [7, 77, 3222]\n",
      "Saída:  77\n",
      "\n",
      "---------------------------------------- \n",
      "Entrada:  [2, 4]\n",
      "Saída:  3.0\n",
      "\n",
      "---------------------------------------- \n",
      "Entrada:  [3, 4, 5, 5, 6, 7]\n",
      "Saída:  5.0\n",
      "\n",
      "---------------------------------------- \n",
      "Entrada:  [1, 2, 3, 4]\n",
      "Saída:  2.5\n",
      "\n",
      "---------------------------------------- \n",
      "Entrada:  [-100, 1, 2]\n",
      "Saída:  1\n",
      "\n",
      "---------------------------------------- \n",
      "Entrada:  [10]\n",
      "Saída:  10\n",
      "\n",
      "---------------------------------------- \n",
      "Entrada:  [0, 0, 0, 0, 5, 6, 7, 8]\n",
      "Saída:  2.5\n",
      "\n",
      "---------------------------------------- \n"
     ]
    }
   ],
   "source": [
    "def encontra_mediana(lista_ordenada):\n",
    "    lista_ordenada_copia = lista_ordenada.copy()\n",
    "    n = len(lista_ordenada_copia) #numero de elementos da lista\n",
    "    \n",
    "    if (n % 2 == 0): #se o numero de itens for par, soma os dois elementos centrais e divide o resultado por 2\n",
    "        mediana = (lista_ordenada_copia[n//2 - 1] + lista_ordenada_copia[n//2]) / 2 \n",
    "    else: #caso o numero de itens for ímpar, seleciona o item central\n",
    "        mediana = lista_ordenada_copia[n//2]\n",
    "\n",
    "    return mediana\n",
    "\n",
    "#listas para testar a função \n",
    "lista = [[1, 2, 3, 4, 5], [3, 6, 8], [7, 77, 3222], [2,4], [3, 4, 5, 5, 6, 7], [1, 2, 3, 4], [-100, 1, 2], [10], [0, 0, 0, 0, 5, 6, 7, 8]]\n",
    "\n",
    "#loop para enviar todos os valores das listas para a função, exibindo os valores de entrada e saída da função\n",
    "for elemento in lista: \n",
    "    print(\"Entrada: \", elemento)\n",
    "    print(\"Saída: \", encontra_mediana(elemento)) #enviamos o valor das listas para a função\n",
    "    print()\n",
    "    print(\"---------------------------------------- \") #linha divisória, por fins de organização\n",
    "\n",
    "        \n",
    "\n",
    "    # preencher"
   ]
  },
  {
   "cell_type": "markdown",
   "id": "b1d1d503-f70a-4c42-b75a-b4320355db47",
   "metadata": {},
   "source": [
    "## Frequência dos valores\n",
    "\n"
   ]
  },
  {
   "cell_type": "markdown",
   "id": "19872954-5c81-4d27-bf36-4fc0c186e051",
   "metadata": {},
   "source": [
    "**Problema**: encontrar a frequência de valores de uma lista.\n",
    "\n",
    "**Entrada**: uma lista numérica de tamanho $n \\geq 0$.\n",
    "\n",
    "**Saída**: um dicionário onde as chaves representam itens da lista de entrada (sem repetição) e os valores representam a quantidade que cada item aparece na lista de entrada.\n",
    "\n",
    "**Alguns exemplos de entradas e retornos**:\n",
    "\n",
    "\n",
    "| Entrada <code>lista</code>|Retorno|\n",
    "|---|---|\n",
    "| [1, 2, 3]|{1: 1, 2: 1, 3: 1}|\n",
    "| [2, 2, 3]|{2: 2, 3: 1}|\n",
    "| [7]|{7: 1}|\n",
    "| [0, 0, -1, 0, 10, 0, -1]|{0: 4, -1: 2, 10: 1}|\n",
    "| []|{}|\n",
    "\n",
    "**Algoritmo**:\n",
    "\n"
   ]
  },
  {
   "cell_type": "code",
   "execution_count": 37,
   "id": "6c521206-d234-43d3-82db-950bd84777f9",
   "metadata": {},
   "outputs": [
    {
     "name": "stdout",
     "output_type": "stream",
     "text": [
      "Entrada:  [1, 2, 3]\n",
      "1\n",
      "2\n",
      "3\n",
      "Saída:  {1: 1, 2: 1, 3: 1}\n",
      "\n",
      "---------------------------------------- \n",
      "Entrada:  [2, 2, 3]\n",
      "1\n",
      "2\n",
      "Saída:  {2: 2, 3: 1}\n",
      "\n",
      "---------------------------------------- \n",
      "Entrada:  [7]\n",
      "1\n",
      "Saída:  {7: 1}\n",
      "\n",
      "---------------------------------------- \n",
      "Entrada:  [0, 0, -1, 0, 10, 0, -1]\n",
      "1\n",
      "2\n",
      "3\n",
      "Saída:  {0: 4, 10: 1, -1: 2}\n",
      "\n",
      "---------------------------------------- \n",
      "Entrada:  []\n",
      "Saída:  {}\n",
      "\n",
      "---------------------------------------- \n"
     ]
    }
   ],
   "source": [
    "def computa_frequencia(lista):\n",
    "\n",
    "    lista_chaves = [] #lista com todos as chaves, inclusive as repetidas\n",
    "    chaves = [] #lista de chaves sem repetição\n",
    "    lista_valores = [] #lista de valores para o dicionario\n",
    "    dicionario = {} #dicionario com as informacoes para retorno\n",
    "    \n",
    "    for elemento in lista: #cada elemento da lista recebida é adicionado em outra lista: lista_chaves\n",
    "        lista_chaves.append(elemento)\n",
    "    \n",
    "    chaves = list(set(lista_chaves)) #a lista chaves não possui valores repetidos, pois é proveniente de um conjunto\n",
    "\n",
    "    for quantidade in chaves: #para cada elemento da lista de chaves sem repetição, contamos quantas vezes esse elemento aparece na lista com repetição. Os valores são adicionados na lista_valores\n",
    "        lista_valores.append(lista_chaves.count(quantidade))\n",
    "    \n",
    "    for chave in range(len(chaves)): #iteramos de 0 ao numero de itens no conjunto sem repetição chaves \n",
    "            dicionario[chaves[chave]] = lista_valores[chave] #montamos o dicionario com as chaves presentes na lista sem repeticao chaves, por meio da iteração, correlacionando com os elementos da lista_valores, por meio do índice de iteração.\n",
    "\n",
    "    return dicionario\n",
    "\n",
    "#listas para testar a função \n",
    "lista = [[1, 2, 3], [2, 2, 3], [7], [0, 0, -1, 0, 10, 0, -1 ], []]\n",
    "#loop para enviar todos os valores das listas para a função, exibindo os valores de entrada e saída da função\n",
    "for elemento in lista: \n",
    "    print(\"Entrada: \", elemento)\n",
    "    print(\"Saída: \", computa_frequencia(elemento)) #enviamos o valor das listas para a função\n",
    "    print()\n",
    "    print(\"---------------------------------------- \") #linha divisória, por fins de organização"
   ]
  },
  {
   "cell_type": "markdown",
   "id": "a1efbcc0-13ef-43f5-8138-7b24ab38878b",
   "metadata": {},
   "source": [
    "## Soma específica\n",
    "\n"
   ]
  },
  {
   "cell_type": "markdown",
   "id": "54a028aa-1edb-4eb9-9296-0bae528a428a",
   "metadata": {},
   "source": [
    "**Problema**: dada uma lista que contém apenas números, identificar os índices de dois valores que, quando somados, resultam em um certo valor dado.\n",
    "\n",
    "**Entradas**: lista numérica contendo apenas números inteiros e um número inteiro $n$.\n",
    "\n",
    "**Saída**: uma tupla contendo dois números inteiros em ordem crescente. Estes números são diferentes e representam índices da lista de entrada. Quando somamos os elementos da lista de entrada referentes a estes índices, obtemos o valor de $n$. Retornar `False` caso não seja possível construir a soma desejada com os números da lista. Pode retornar qualquer resposta que satisfaça as condições para o caso de existir mais de uma resposta (ver um exemplo nas últimas duas linhas da tabela abaixo). No entanto, observe que o enunciado pede apenas uma resposta como retorno, não pede para listar todas as respostas possíveis.\n",
    "\n",
    "**Lembrete**: o Python considera que o primeiro elemento de uma lista tem índice zero.\n",
    "\n",
    "**Alguns exemplos de entradas e retornos**:\n",
    "\n",
    "\n",
    "| Entrada <code>lista</code>|Entrada <code>n</code>|Retorno|\n",
    "|---|---|---|\n",
    "| [1, 2, 3]|5|(1, 2)|\n",
    "| [1, 2, 3]|3|(0, 1)|\n",
    "| [1, 2, 3]|6|False|\n",
    "| [0, 0, -1, 0, 10, 0, -1]|9|(2, 4)|\n",
    "| [0, 0, -1, 0, 10, 0, -1]|9|(4, 6)|\n",
    "\n",
    "**Algoritmo**:\n",
    "\n"
   ]
  },
  {
   "cell_type": "code",
   "execution_count": 3,
   "id": "0aabf03e-b946-4429-8766-18b9a8ddda0f",
   "metadata": {},
   "outputs": [
    {
     "name": "stdout",
     "output_type": "stream",
     "text": [
      "Entrada:  [1, 2, 3] 5\n",
      "Saída:  (1, 2)\n",
      "\n",
      "---------------------------------------- \n",
      "Entrada:  [1, 2, 3] 3\n",
      "Saída:  (0, 1)\n",
      "\n",
      "---------------------------------------- \n",
      "Entrada:  [1, 2, 3] 6\n",
      "Saída:  False\n",
      "\n",
      "---------------------------------------- \n",
      "Entrada:  [0, 0, -1, 0, 10, 0, -1] 9\n",
      "Saída:  (2, 4)\n",
      "\n",
      "---------------------------------------- \n",
      "Entrada:  [0, 0, -1, 0, 10, 0, -1] 9\n",
      "Saída:  (2, 4)\n",
      "\n",
      "---------------------------------------- \n"
     ]
    }
   ],
   "source": [
    "def soma_especifica(lista, n):\n",
    "    \n",
    "    lista_interna = lista\n",
    "    indices = ()\n",
    "    qtd = 0\n",
    "    comp = len(lista_interna)\n",
    "    flag_achei = False\n",
    "\n",
    "    #com esses 2 for loops, comparamos cada elemento da lista com todos os outros\n",
    "    for i in range(comp - 1): #i precisa ser até comp - 1 porque, no próximo for loop, somamos  i + 1\n",
    "        for j in range(i + 1, comp):\n",
    "            if lista_interna[i] + lista_interna[j] == n: #se a soma dos elementos for igual a n\n",
    "                indices = (i, j) # atualizamos a tupla para retorno\n",
    "                flag_achei = True\n",
    "                break\n",
    "        if flag_achei: #com essa condicao, impedimos que tenha mais de uma resposta possível\n",
    "            break\n",
    "                \n",
    "    #com essa condicao, se a lista for vazia falamos que a lista é falsa\n",
    "    if indices == ():\n",
    "        indices = False\n",
    "        \n",
    "    return indices\n",
    "\n",
    "\n",
    "\n",
    "#listas para testar a função \n",
    "lista = [[1, 2, 3], [1, 2, 3], [1, 2, 3], [0, 0, -1, 0, 10, 0, -1 ], [0, 0, -1, 0, 10, 0, -1 ]]\n",
    "numeros = [5, 3, 6, 9, 9]\n",
    "#loop para enviar todos os valores das listas para a função, exibindo os valores de entrada e saída da função\n",
    "for l, n in zip(lista, numeros): \n",
    "    print(\"Entrada: \", l, n)\n",
    "    print(\"Saída: \", soma_especifica(l, n)) #enviamos o valor das listas para a função\n",
    "    print()\n",
    "    print(\"---------------------------------------- \") #linha divisória, por fins de organização"
   ]
  },
  {
   "cell_type": "markdown",
   "id": "64fa8dfa-e281-42b0-a4b4-9618bad45285",
   "metadata": {},
   "source": [
    "## Intersecção de duas listas\n",
    "\n"
   ]
  },
  {
   "cell_type": "markdown",
   "id": "782ab8a0-0fbb-46ec-9eee-4e8dd4d69b38",
   "metadata": {},
   "source": [
    "**Problema**: encontrar itens em comum entre duas listas.\n",
    "\n",
    "**Entrada**: duas listas numéricas.\n",
    "\n",
    "**Saída**: uma lista representando a intersecção das listas de entrada. Caso hajam elementos repetidos presentes nas duas listas, eles devem estar repetidos também no retorno (ver última linha da tabela abaixo).\n",
    "\n",
    "**Alguns exemplos de entradas e retornos**:\n",
    "\n",
    "\n",
    "| Entrada <code>lista1</code>|Entrada <code>lista2</code>|Retorno|\n",
    "|---|---|---|\n",
    "| [1, 2, 3]|[5, 3, 6, 7]|[3]|\n",
    "| [10, 50, 100]|[-2, 7, 4]|[]|\n",
    "| [22, -5, 90, 37, 2, 2]|[2, 49, 2, 90, -5]|[2, 2, 90, -5]|\n",
    "\n",
    "**Algoritmo**:\n",
    "\n"
   ]
  },
  {
   "cell_type": "code",
   "execution_count": 39,
   "id": "c66331fb-0f8d-4a6f-bf3f-f36eec52b2c6",
   "metadata": {},
   "outputs": [
    {
     "name": "stdout",
     "output_type": "stream",
     "text": [
      "Entrada:  [1, 2, 3] , [5, 3, 6, 7]\n",
      "Saída:  [3]\n",
      "\n",
      "---------------------------------------- \n",
      "Entrada:  [10, 50, 100] , [-2, 7, 4]\n",
      "Saída:  []\n",
      "\n",
      "---------------------------------------- \n",
      "Entrada:  [22, -5, 90, 37, 2, 2] , [2, 49, 2, 90, -5]\n",
      "Saída:  [-5, 90, 2, 2]\n",
      "\n",
      "---------------------------------------- \n"
     ]
    }
   ],
   "source": [
    "def interseccao(lista1, lista2):\n",
    "\n",
    "    lista_interna1 = lista1\n",
    "    lista_interna2 = lista2\n",
    "    retorno = [] #lista vazia\n",
    "\n",
    "    #iteramos a lista_interna1. Se i estiver na lista_interna_2, adicionamos o elemento na lista de retorno\n",
    "    for i in lista_interna1:\n",
    "        if i in lista_interna2:\n",
    "            retorno.append(i)\n",
    "\n",
    "    return retorno\n",
    "\n",
    "\n",
    "#listas para testar a funcao \n",
    "lista1 = [[1, 2, 3], [10, 50, 100], [22, -5, 90, 37, 2, 2]]\n",
    "lista2 = [[5, 3, 6, 7], [-2, 7, 4], [2, 49, 2, 90, -5]]\n",
    "\n",
    "#loop para enviar todos os valores das listas para a função, exibindo os valores de entrada e saída da função\n",
    "for l1, l2 in zip(lista1, lista2): \n",
    "    print(\"Entrada: \", l1,\",\", l2)\n",
    "    print(\"Saída: \", interseccao(l1, l2)) #enviamos o valor das listas para a função\n",
    "    print()\n",
    "    print(\"---------------------------------------- \") #linha divisória, por fins de organização"
   ]
  },
  {
   "cell_type": "code",
   "execution_count": null,
   "id": "decc2cd8-ac37-41df-be00-4d6458b23a16",
   "metadata": {},
   "outputs": [],
   "source": []
  }
 ],
 "metadata": {
  "kernelspec": {
   "display_name": "ilumpy",
   "language": "python",
   "name": "ilumpy"
  },
  "language_info": {
   "codemirror_mode": {
    "name": "ipython",
    "version": 3
   },
   "file_extension": ".py",
   "mimetype": "text/x-python",
   "name": "python",
   "nbconvert_exporter": "python",
   "pygments_lexer": "ipython3",
   "version": "3.12.7"
  },
  "org": null
 },
 "nbformat": 4,
 "nbformat_minor": 5
}
