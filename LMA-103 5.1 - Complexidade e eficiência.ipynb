{
 "cells": [
  {
   "cell_type": "markdown",
   "id": "70c099d3-5348-4807-b925-3378fd6d4497",
   "metadata": {},
   "source": [
    "Complexidade e eficiência\n",
    "=========================\n",
    "\n",
    "**Autor:** Daniel R. Cassar\n",
    "\n"
   ]
  },
  {
   "cell_type": "markdown",
   "id": "97ceecaf-f9bc-4278-a863-25fe29ef3088",
   "metadata": {},
   "source": [
    "## Introdução\n",
    "\n"
   ]
  },
  {
   "cell_type": "markdown",
   "id": "d28cfd4a-7afa-4e7c-a7cc-de27b70bb70f",
   "metadata": {},
   "source": [
    "Dado um certo problema, existem diversas formas de escrever um algoritmo de computador que resolve esse problema de maneira correta.\n",
    "\n",
    "Nós vivemos em um momento bastante peculiar, onde o poder de processamento dos nossos computadores pessoais é razoavelmente grande. Isso quer dizer que muitas vezes podemos nos dar o luxo de não nos preocuparmos sobre a *eficiência* dos algoritmos que escrevemos, uma vez que fará pouca diferença para nós se nosso código rodar em poucos segundos ou alguns minutos&#x2026; o que costuma importar para nós é apenas que o algoritmo entregue o resultado correto.\n",
    "\n",
    "Em certas situações, no entanto, não queremos esperar! Imagina se seu GPS demorasse 5 minutos para recalcular uma rota caso você tenha entrado na rua errada&#x2026; isso é considerado inaceitável nos dias de hoje. Imagina se o seu resultado de busca no seu site de buscas favorito demorasse 5 minutos para ser exibido&#x2026; Imagina se a resposta de um modelo de linguagem (ChatGPT, por exemplo) demorasse 1 hora para ficar pronta&#x2026;\n",
    "\n",
    "Em outras situações, não *podemos* esperar! O algoritmo que cuida dos voos de aviões em aeroportos deve ser rápido o suficiente para evitar acidentes. O algoritmo que os bancos usam deve ser rápido o suficiente para evitar que transações financeiras fraudulentas sejam realizadas.\n",
    "\n"
   ]
  },
  {
   "cell_type": "markdown",
   "id": "4c315f13-5089-4096-81e1-e99c874eb662",
   "metadata": {},
   "source": [
    "## Complexidade\n",
    "\n"
   ]
  },
  {
   "cell_type": "markdown",
   "id": "594ec68b-1a4f-4cbd-8f06-f8e1587da52b",
   "metadata": {},
   "source": [
    "O cerne da **complexidade de algoritmos** é quantificar o quanto um algoritmo consome de recursos quando há um aumento no tamanho do dado de entrada.\n",
    "\n",
    "Complexidade não está relacionada com o **tempo absoluto de execução** (isso será visto na próxima seção).\n",
    "\n",
    "Uma analogia seria: dentro do estudo de complexidade, não estamos preocupados com o tempo e os ingredientes que gastamos para fazer um bolo para 10 pessoas, mas sim com a forma que o tempo e os ingredientes *aumentam* em função do aumento do número de pessoas que devem ser atendidas pelo bolo.\n",
    "\n",
    "Existem dois tipos principais de complexidade:\n",
    "\n",
    "-   **Complexidade de tempo**: relacionada com a forma que o *número de operações* aumenta com o aumento do tamanho do dado de entrada\n",
    "\n",
    "-   **Complexidade de memória**: relacionada com a forma que a *memória de armazenamento necessária* aumenta com o aumento do tamanho do dado de entrada\n",
    "\n",
    "Neste notebook, focaremos na complexidade de tempo.\n",
    "\n"
   ]
  },
  {
   "cell_type": "markdown",
   "id": "4d01422a-cbc7-4fa4-b967-d67de5a47700",
   "metadata": {},
   "source": [
    "### Complexidade de tempo linear\n",
    "\n"
   ]
  },
  {
   "cell_type": "markdown",
   "id": "589c4cb1-d0e4-4401-92a5-faf2b673a442",
   "metadata": {},
   "source": [
    "O algoritmo abaixo encontra o valor máximo em uma lista de valores.\n",
    "\n",
    "<hr>\n",
    "\n",
    "**Problema**: encontrar o valor máximo em uma lista de números.\n",
    "\n",
    "**Entrada**: uma lista de números.\n",
    "\n",
    "**Saída**: um número representando o valor máximo da lista de entrada.\n",
    "\n",
    "**Algoritmo**:\n",
    "\n"
   ]
  },
  {
   "cell_type": "code",
   "execution_count": null,
   "id": "e07ee860-48ea-4dea-b414-a1c1e5a247c1",
   "metadata": {},
   "outputs": [],
   "source": [
    "def encontra_maximo(lista):\n",
    "    '''Retorna o valor máximo de uma lista de valores numéricos.'''\n",
    "\n",
    "    candidato = lista[0]\n",
    "\n",
    "    for numero in lista:\n",
    "        if numero > candidato:\n",
    "            candidato = numero\n",
    "\n",
    "    valor_maximo = candidato\n",
    "\n",
    "    return valor_maximo"
   ]
  },
  {
   "cell_type": "markdown",
   "id": "9f91f7b2-a691-47ac-9048-d6b917ead27b",
   "metadata": {},
   "source": [
    "<hr>\n",
    "\n",
    "Para fins puramente didáticos, vamos modificar um pouco o algoritmo para contar quantas vezes nós entramos no laço de repetição. Vamos registrar essa informação em uma variável chamada `contador`.\n",
    "\n"
   ]
  },
  {
   "cell_type": "code",
   "execution_count": null,
   "id": "9ecb9b5b-a22e-4836-92e1-c6ebbe7ff538",
   "metadata": {},
   "outputs": [],
   "source": [
    "def encontra_maximo(lista):\n",
    "    '''Retorna o valor máximo de uma lista de valores numéricos.'''\n",
    "\n",
    "    contador = 0\n",
    "    candidato = lista[0]\n",
    "\n",
    "    for numero in lista:\n",
    "        contador += 1\n",
    "        if numero > candidato:\n",
    "            candidato = numero\n",
    "\n",
    "    valor_maximo = candidato\n",
    "\n",
    "    return valor_maximo, contador"
   ]
  },
  {
   "cell_type": "markdown",
   "id": "13dcf9ae-f4a4-40fe-9c4b-e085634f0f8a",
   "metadata": {},
   "source": [
    "Com essa modificação, agora podemos responder a seguinte pergunta: *como a função `encontra_maximo` se comporta quando aumentamos o tamanho do argumento* `lista`?\n",
    "\n",
    "Podemos investigar essa questão com um laço de repetição e instrução `print`.\n",
    "\n"
   ]
  },
  {
   "cell_type": "code",
   "execution_count": null,
   "id": "dfd9d5da-7284-4310-bc72-d5a5a3d3c64e",
   "metadata": {},
   "outputs": [],
   "source": [
    "for tamanho_da_lista in [10, 100, 1000, 1000000]:\n",
    "\n",
    "    lista = [0] * tamanho_da_lista\n",
    "    maximo, contador = encontra_maximo(lista)\n",
    "\n",
    "    print(\n",
    "        f\"Uma lista de tamanho {len(lista)} itens \"\n",
    "        f\"entrou no laço {contador} vezes\"\n",
    "    )"
   ]
  },
  {
   "cell_type": "markdown",
   "id": "f23adb2a-62b0-406f-9df0-db025f42303e",
   "metadata": {},
   "source": [
    "Podemos investigar visualmente também.\n",
    "\n"
   ]
  },
  {
   "cell_type": "code",
   "execution_count": null,
   "id": "5b339929-ebb5-4875-9296-1b826d2d567b",
   "metadata": {},
   "outputs": [],
   "source": [
    "import seaborn as sns\n",
    "\n",
    "x = list(range(1, 1000))\n",
    "y = [encontra_maximo([0] * n)[1] for n in x]\n",
    "\n",
    "eixo = sns.lineplot(x=x, y=y)\n",
    "\n",
    "eixo.set_xlabel(\"Tamanho da lista de entrada\")\n",
    "eixo.set_ylabel(\"Contador\");"
   ]
  },
  {
   "cell_type": "markdown",
   "id": "83a2a814-230c-4625-b7d9-519280ca8709",
   "metadata": {},
   "source": [
    "Percebeu o padrão? Uma lista de tamanho $n$ entra no laço de repetição do algoritmo $n$ vezes! A ação de entrar no laço e executar o código lá dentro pode ser até considerada rápida, porém certamente não é instantânea. Como essa é a ação mais custosa do nosso algoritmo, dizemos que este algoritmo executa sua tarefa em **tempo linear**. Em outras palavras, o tempo de execução deste algoritmo aumenta linearmente com o aumento do tamanho da lista de entrada.\n",
    "\n"
   ]
  },
  {
   "cell_type": "markdown",
   "id": "a3d4e0c8-80c6-457e-a2e5-5fed0364aaee",
   "metadata": {},
   "source": [
    "### Complexidade de tempo constante\n",
    "\n"
   ]
  },
  {
   "cell_type": "markdown",
   "id": "210c1d7f-a5b0-47af-a71d-f8ba8e3a30aa",
   "metadata": {},
   "source": [
    "Existem algoritmos *menos* complexos do que os de tempo linear. O algoritmo abaixo, por exemplo, encontra o primeiro elemento de uma lista.\n",
    "\n",
    "<hr>\n",
    "\n",
    "**Problema**: encontrar o primeiro elemento de uma lista.\n",
    "\n",
    "**Entrada**: uma lista com pelo menos um elemento.\n",
    "\n",
    "**Saída**: um objeto de Python que representa o primeiro elemento da lista de entrada.\n",
    "\n",
    "**Algoritmo**:\n",
    "\n"
   ]
  },
  {
   "cell_type": "code",
   "execution_count": null,
   "id": "38446f37-d7b9-40a5-ba5e-447c076e4b5f",
   "metadata": {},
   "outputs": [],
   "source": [
    "def encontra_primeiro(lista):\n",
    "\n",
    "    primeiro_elemento = lista[0]\n",
    "\n",
    "    return primeiro_elemento"
   ]
  },
  {
   "cell_type": "markdown",
   "id": "074eba8d-7966-4135-9963-c4abcfa4af8a",
   "metadata": {},
   "source": [
    "<hr>\n",
    "\n",
    "Para fins puramente didáticos, vamos modificar um pouco o algoritmo para contar quantas vezes nós executamos a ação mais interna do algoritmo. Vamos registrar essa informação em uma variável chamada `contador`.\n",
    "\n"
   ]
  },
  {
   "cell_type": "code",
   "execution_count": null,
   "id": "a6b7a71d-8afa-4653-bf1f-fce9d50cce1f",
   "metadata": {},
   "outputs": [],
   "source": [
    "def encontra_primeiro(lista):\n",
    "\n",
    "    contador = 0\n",
    "\n",
    "    primeiro_elemento = lista[0]\n",
    "\n",
    "    contador += 1\n",
    "\n",
    "    return primeiro_elemento, contador"
   ]
  },
  {
   "cell_type": "markdown",
   "id": "8d7371b4-c870-4f6f-8c3f-a279ca0e3aaf",
   "metadata": {},
   "source": [
    "Com essa modificação, agora podemos responder a seguinte pergunta: *como a função `encontra_primeiro` se comporta quando aumentamos o tamanho do argumento* `lista`?\n",
    "\n",
    "Podemos investigar esta questão com um laço de repetição e instrução `print`.\n",
    "\n"
   ]
  },
  {
   "cell_type": "code",
   "execution_count": null,
   "id": "7a5cbef7-b0c7-4c8b-a12d-c7212670dae5",
   "metadata": {},
   "outputs": [],
   "source": [
    "for tamanho_da_lista in [10, 100, 1000, 1000000]:\n",
    "\n",
    "    lista = [0] * tamanho_da_lista\n",
    "    primeiro_valor, contador = encontra_primeiro(lista)\n",
    "\n",
    "    print(\n",
    "        f\"Uma lista de tamanho {len(lista)} itens \"\n",
    "        f\"resultou em um contador de: {contador}\"\n",
    "    )"
   ]
  },
  {
   "cell_type": "markdown",
   "id": "420a0502-4ac0-440c-8745-31019bfd514e",
   "metadata": {},
   "source": [
    "Podemos investigar visualmente também.\n",
    "\n"
   ]
  },
  {
   "cell_type": "code",
   "execution_count": null,
   "id": "ea9fd3fe-0239-4fe6-ae95-474563be39aa",
   "metadata": {},
   "outputs": [],
   "source": [
    "import seaborn as sns\n",
    "\n",
    "x = list(range(1, 1000))\n",
    "y = [encontra_primeiro([0] * n)[1] for n in x]\n",
    "\n",
    "eixo = sns.lineplot(x=x, y=y)\n",
    "\n",
    "eixo.set_xlabel(\"Tamanho da lista de entrada\")\n",
    "eixo.set_ylabel(\"Contador\");"
   ]
  },
  {
   "cell_type": "markdown",
   "id": "bf82d56a-906a-4e6c-872d-0eaa59182845",
   "metadata": {},
   "source": [
    "Percebeu o padrão? O valor do contador *independe* do tamanho da lista de entrada. Dizemos que este algoritmo executa sua tarefa em **tempo constante**.\n",
    "\n"
   ]
  },
  {
   "cell_type": "markdown",
   "id": "50db4d13-f582-4188-abcf-21ca535075f1",
   "metadata": {},
   "source": [
    "### Complexidade de tempo polinomial\n",
    "\n"
   ]
  },
  {
   "cell_type": "markdown",
   "id": "7c08f54a-5e77-4ad8-9474-b5b0b9fea2f1",
   "metadata": {},
   "source": [
    "Existem algoritmos *mais complexos* do que os de tempo linear. O algoritmo abaixo, por exemplo, encontra os índices duplicados de uma lista.\n",
    "\n",
    "<hr>\n",
    "\n",
    "**Problema**: encontrar os índices dos números duplicados em uma lista.\n",
    "\n",
    "**Entrada**: uma lista numérica.\n",
    "\n",
    "**Saída**: uma lista com tuplas indicando os índices dos elementos duplicados\n",
    "\n",
    "**Algoritmo**:\n",
    "\n"
   ]
  },
  {
   "cell_type": "code",
   "execution_count": null,
   "id": "41690b91-e37c-4ffa-8d2f-f88236cf48f9",
   "metadata": {},
   "outputs": [],
   "source": [
    "def indices_duplicados(lista):\n",
    "    \"\"\"Retorna os índices dos itens duplicados em uma lista\"\"\"\n",
    "\n",
    "    indice_dos_duplicados = []\n",
    "\n",
    "    for i in range(len(lista)):\n",
    "        for j in range(len(lista)):\n",
    "\n",
    "            if i != j and lista[i] == lista[j]:\n",
    "                indice_dos_duplicados.append((i, j))\n",
    "\n",
    "    return indice_dos_duplicados"
   ]
  },
  {
   "cell_type": "markdown",
   "id": "0b22cf46-cdd7-4281-9e83-a2e157389ba3",
   "metadata": {},
   "source": [
    "<hr>\n",
    "\n",
    "Para fins puramente didáticos, vamos modificar um pouco o algoritmo para contar quantas vezes nós entramos no laço de repetição mais profundo. Vamos registrar essa informação em uma variável chamada `contador`.\n",
    "\n"
   ]
  },
  {
   "cell_type": "code",
   "execution_count": null,
   "id": "22b9c730-ea7c-4529-b213-aaa82500e921",
   "metadata": {},
   "outputs": [],
   "source": [
    "def indices_duplicados(lista):\n",
    "    \"\"\"Retorna os índices dos itens duplicados em uma lista\"\"\"\n",
    "\n",
    "    contador = 0\n",
    "    indice_dos_duplicados = []\n",
    "\n",
    "    for i in range(len(lista)):\n",
    "        for j in range(len(lista)):\n",
    "\n",
    "            contador += 1\n",
    "\n",
    "            if i != j and lista[i] == lista[j]:\n",
    "                indice_dos_duplicados.append((i, j))\n",
    "\n",
    "    return indice_dos_duplicados, contador"
   ]
  },
  {
   "cell_type": "markdown",
   "id": "31027bc9-6bdc-4f2d-bade-34cf911ddecd",
   "metadata": {},
   "source": [
    "Com essa modificação, agora podemos responder a seguinte pergunta: *como a função `indices_duplicados` se comporta quando aumentamos o tamanho do argumento* `lista`?\n",
    "\n",
    "Podemos investigar esta questão com um laço de repetição e instrução `print`.\n",
    "\n"
   ]
  },
  {
   "cell_type": "code",
   "execution_count": null,
   "id": "b0e23346-124b-421c-9669-491aa0aaa674",
   "metadata": {},
   "outputs": [],
   "source": [
    "for tamanho_da_lista in [10, 100, 1000]:\n",
    "\n",
    "    lista = [0] * tamanho_da_lista\n",
    "    indices, contador = indices_duplicados(lista)\n",
    "\n",
    "    print(\n",
    "        f\"Uma lista de tamanho {len(lista)} itens \"\n",
    "        f\"entrou no laço mais interno {contador} vezes\"\n",
    "    )"
   ]
  },
  {
   "cell_type": "markdown",
   "id": "25c13cbb-c9e0-48c0-80e2-4705b707f9e4",
   "metadata": {},
   "source": [
    "Podemos investigar visualmente também.\n",
    "\n"
   ]
  },
  {
   "cell_type": "code",
   "execution_count": null,
   "id": "6dcc3964-fa56-48df-9475-2a16ac17e179",
   "metadata": {},
   "outputs": [],
   "source": [
    "import seaborn as sns\n",
    "\n",
    "x = list(range(1, 100))\n",
    "y = [indices_duplicados([0] * n)[1] for n in x]\n",
    "\n",
    "eixo = sns.lineplot(x=x, y=y)\n",
    "\n",
    "eixo.set_xlabel(\"Tamanho da lista de entrada\")\n",
    "eixo.set_ylabel(\"Contador\");"
   ]
  },
  {
   "cell_type": "markdown",
   "id": "23287d86-748d-4ea1-9d07-75e97881e90a",
   "metadata": {},
   "source": [
    "Percebeu o padrão? Como vemos no teste acima, uma lista com $n$ elementos entra no laço mais interno $n^2$ vezes!! Dizemos que esse algoritmo executa sua tarefa em **tempo polinomial**.\n",
    "\n"
   ]
  },
  {
   "cell_type": "markdown",
   "id": "8b240062-063d-4c5a-8266-ecfe9ba1f96b",
   "metadata": {},
   "source": [
    "### Notação do $O$ grande\n",
    "\n"
   ]
  },
  {
   "cell_type": "markdown",
   "id": "e6ec963b-d6ec-4cb5-a91f-ef34f897bc04",
   "metadata": {},
   "source": [
    "Em termos de complexidade, um algoritmo que executa sua tarefa em tempo linear é (geralmente) preferível do que um algoritmo que executa sua tarefa em tempo polinomial. Melhor ainda que estes dois tipos de algoritmos, é o que executa sua tarefa em tempo constante. Existem outras complexidades de algoritmos como veremos abaixo.\n",
    "\n",
    "O conceito por trás do que discutimos nesta seção é a análise da **complexidade de algoritmos**. Existem diversas formas de calcular a complexidade de algoritmos, sendo que a mais famosa é a notação $O$ grande (*big* $O$, em inglês).\n",
    "\n",
    "Uma visão matemática sobre a notação $O$ grande pode ser encontrada no capítulo 3 da referência [1]. Uma introdução amigável sobre este tema pode ser vista no vídeo da referência [2].\n",
    "\n",
    "Veja abaixo como representar as complexidades estudadas na notação $O$ grande:\n",
    "\n",
    "-   Complexidade de tempo constante: $O(1)$\n",
    "-   Complexidade de tempo linear: $O(n)$\n",
    "-   Complexidade de tempo polinomial quadrático: $O(n^2)$\n",
    "-   Complexidade de tempo polinomial cúbico: $O(n^3)$\n",
    "\n",
    "Conceitos importantes para se ter em mente:\n",
    "\n",
    "-   A notação $O$ grande considera sempre o **pior caso possível**. Neste sentido, um algoritmo para buscar um certo item em uma lista pode ter a &ldquo;sorte&rdquo; deste item ser logo o primeiro da lista. Para a notação $O$ grande, devemos considerar a situação mais &ldquo;azarada&rdquo; possível, isto é, o item desejado é o último da lista e vamos ter que procurar do início ao fim até encontrar o item desejado.\n",
    "\n",
    "-   A notação $O$ grande apresenta apenas o **termo dominante**. Isto é, não escrevemos $O(n^2 + 3n -2)$, mas sim apenas $O(n^2)$ pois é o termo dominante.\n",
    "\n",
    "-   A notação $O$ grande **ignora constantes**. Isto é, não escrevemos $O(10 n^3)$, mas sim $O(n^3)$.\n",
    "\n",
    "O código abaixo foi gerado com auxílio do Gemini [3] e mostra o comportamento de algoritmos com diferentes complexidades.\n",
    "\n"
   ]
  },
  {
   "cell_type": "code",
   "execution_count": null,
   "id": "96ee2580-2589-4571-a3f8-06732417151d",
   "metadata": {},
   "outputs": [],
   "source": [
    "import numpy as np\n",
    "import pandas as pd\n",
    "from scipy.special import gamma\n",
    "\n",
    "n = np.linspace(1, 100, 400)\n",
    "\n",
    "constante = np.ones_like(n)\n",
    "logaritmico = np.log(n)\n",
    "linear = n\n",
    "linearitmico = n * np.log(n)\n",
    "polinomial = n**2\n",
    "exponencial = 2**n\n",
    "fatorial = gamma(n+1)\n",
    "\n",
    "df = pd.DataFrame(\n",
    "    {\n",
    "        \"Tamanho entrada (n)\": n,\n",
    "        \"O(1) - Constante\": constante,\n",
    "        \"O(log(n)) - Logarítmico\": logaritmico,\n",
    "        \"O(n) - Linear\": linear,\n",
    "        \"O(n log(n)) - Linearítmico\": linearitmico,\n",
    "        \"O($n^2$) - Polinomial\": polinomial,\n",
    "        \"O($2^n$) - Exponencial\": exponencial,\n",
    "        \"O(n!) - Fatorial\": fatorial,\n",
    "    }\n",
    ")\n",
    "\n",
    "df = pd.melt(\n",
    "    df,\n",
    "    id_vars=[\"Tamanho entrada (n)\"],\n",
    "    var_name=\"Complexidade\",\n",
    "    value_name=\"Operações\",\n",
    ")\n",
    "\n",
    "eixo = sns.lineplot(\n",
    "    data=df,\n",
    "    x=\"Tamanho entrada (n)\",\n",
    "    y=\"Operações\",\n",
    "    hue=\"Complexidade\",\n",
    ")\n",
    "\n",
    "eixo.set_xlabel(\"Tamanho entrada (n)\")\n",
    "eixo.set_ylabel(\"Número de operações\")\n",
    "eixo.legend(title=\"Complexidade\", loc=1)\n",
    "eixo.set_xlim(0, 100)\n",
    "eixo.set_ylim(0, 1e2);"
   ]
  },
  {
   "cell_type": "markdown",
   "id": "20230b6d-3a69-472a-bcee-df2e5d32c0f4",
   "metadata": {},
   "source": [
    "## Eficiência\n",
    "\n"
   ]
  },
  {
   "cell_type": "markdown",
   "id": "bd02d330-d3b7-42dd-bbd7-d93016b1bb4a",
   "metadata": {},
   "source": [
    "Enquanto a complexidade de algoritmos é um conceito mais matemático/teórico, a **eficiência de algoritmos** é uma medida mais *prática*. Dado um mesmo contexto (um mesmo computador, por exemplo), um algoritmo que realiza uma tarefa em menos tempo é mais eficiente temporalmente do que um que demora mais para realizar esta tarefa.\n",
    "\n",
    "Assim como complexidade, podemos medir a eficiência de algoritmos também com relação a memória necessária para a execução dos mesmos.\n",
    "\n",
    "Vamos retornar para nossa função que encontra o valor máximo.\n",
    "\n",
    "<hr>\n",
    "\n",
    "**Problema**: encontrar o valor máximo em uma lista de números.\n",
    "\n",
    "**Entrada**: uma lista de números.\n",
    "\n",
    "**Saída**: um número representando o valor máximo da lista de entrada.\n",
    "\n",
    "**Algoritmo**:\n",
    "\n"
   ]
  },
  {
   "cell_type": "code",
   "execution_count": null,
   "id": "9cc803e6-037e-41c7-8fd1-a380a6334b6a",
   "metadata": {},
   "outputs": [],
   "source": [
    "def encontra_maximo(lista):\n",
    "    '''Retorna o valor máximo de uma lista de valores numéricos.'''\n",
    "\n",
    "    candidato = lista[0]\n",
    "\n",
    "    for numero in lista:\n",
    "        if numero > candidato:\n",
    "            candidato = numero\n",
    "\n",
    "    valor_maximo = candidato\n",
    "\n",
    "    return valor_maximo"
   ]
  },
  {
   "cell_type": "markdown",
   "id": "410c7436-aaa2-4f14-bcea-ff565e0da0aa",
   "metadata": {},
   "source": [
    "<hr>\n",
    "\n",
    "Podemos medir o tempo que essa função demora para executar usando o módulo `timeit`. Veja o exemplo abaixo e observe como o tempo aumenta quando aumentamos o tamanho da lista.\n",
    "\n"
   ]
  },
  {
   "cell_type": "code",
   "execution_count": null,
   "id": "c229e338-1939-45d8-a566-0d87fd7eaaf5",
   "metadata": {},
   "outputs": [],
   "source": [
    "import timeit\n",
    "\n",
    "for tamanho_da_lista in [10, 100, 1000, 1000000]:\n",
    "\n",
    "    lista = [0] * tamanho_da_lista\n",
    "\n",
    "    tempo_inicio = timeit.default_timer()\n",
    "    maximo = encontra_maximo(lista)\n",
    "    tempo_fim = timeit.default_timer()\n",
    "\n",
    "    tempo_gasto = tempo_fim - tempo_inicio\n",
    "\n",
    "    print(\n",
    "        f\"Uma lista de tamanho {len(lista)} itens \"\n",
    "        f\"demorou {tempo_gasto} segundos\"\n",
    "    )"
   ]
  },
  {
   "cell_type": "markdown",
   "id": "7d4a5cbd-5c82-4a27-9f6d-8da2ef2f04f5",
   "metadata": {},
   "source": [
    "O tempo gasto para executar um código pode variar por diversos fatores. Uma estratégia interessante é medir o tempo várias vezes e observar as estatísticas dessa distribuição (como a média e o desvio padrão dos tempos gastos). Uma forma de fazer isso é com um laço de repetição.\n",
    "\n"
   ]
  },
  {
   "cell_type": "code",
   "execution_count": null,
   "id": "9cab6f8c-f6fc-4a01-8976-a463f1c857d8",
   "metadata": {},
   "outputs": [],
   "source": [
    "import statistics\n",
    "\n",
    "TAMANHO_DA_LISTA = 1000\n",
    "NUM_REPETICOES = 100\n",
    "\n",
    "lista = [0] * TAMANHO_DA_LISTA\n",
    "\n",
    "tempos_gastos = []\n",
    "\n",
    "for _ in range(NUM_REPETICOES):\n",
    "\n",
    "    tempo_inicio = timeit.default_timer()\n",
    "    maximo = encontra_maximo(lista)\n",
    "    tempo_fim = timeit.default_timer()\n",
    "\n",
    "    tempos_gastos.append(tempo_fim - tempo_inicio)\n",
    "\n",
    "media = statistics.mean(tempos_gastos)\n",
    "desvio_padrao = statistics.stdev(tempos_gastos)\n",
    "\n",
    "print(f\"Tempo gasto: {media} +- {desvio_padrao} segundos\")"
   ]
  },
  {
   "cell_type": "markdown",
   "id": "002ef585-fcbb-4e82-848a-14ea3b2b3af4",
   "metadata": {},
   "source": [
    "## XKCD relevante\n",
    "\n"
   ]
  },
  {
   "cell_type": "markdown",
   "id": "83339af2-0c47-48d8-add8-626de01489c5",
   "metadata": {},
   "source": [
    "![img](https://imgs.xkcd.com/comics/efficiency.png)\n",
    "\n",
    "`Imagem: Efficiency (XKCD) disponível em https://xkcd.com/1445`\n",
    "\n"
   ]
  },
  {
   "cell_type": "markdown",
   "id": "05f9de92-ee21-4aee-9e20-34ef885fbd2a",
   "metadata": {},
   "source": [
    "## Referências\n",
    "\n"
   ]
  },
  {
   "cell_type": "markdown",
   "id": "9f765ac8-3de3-43a0-90c9-ecfcf5213b50",
   "metadata": {},
   "source": [
    "1.  CORMEN, Thomas H. Algoritmos - Teoria e Prática. 2012.\n",
    "\n",
    "2.  Vídeo sobre notação $O$ grande [https://www.youtube.com/watch?v=X_6LTVkymVM](https://www.youtube.com/watch?v=X_6LTVkymVM)\n",
    "\n",
    "3.  Gemini [https://gemini.google.com](https://gemini.google.com)\n",
    "\n"
   ]
  }
 ],
 "metadata": {
  "kernelspec": {
   "display_name": "ilumpy",
   "language": "python",
   "name": "ilumpy"
  },
  "language_info": {
   "codemirror_mode": {
    "name": "ipython",
    "version": 3
   },
   "file_extension": ".py",
   "mimetype": "text/x-python",
   "name": "python",
   "nbconvert_exporter": "python",
   "pygments_lexer": "ipython3",
   "version": "3.12.7"
  },
  "org": null
 },
 "nbformat": 4,
 "nbformat_minor": 5
}
