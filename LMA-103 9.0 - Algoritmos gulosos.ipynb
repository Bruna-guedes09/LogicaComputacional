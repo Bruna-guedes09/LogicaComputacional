{
 "cells": [
  {
   "cell_type": "markdown",
   "id": "f3608db5-8868-47a5-a87e-11783b1596bb",
   "metadata": {},
   "source": [
    "Algoritmos gulosos\n",
    "==================\n",
    "\n",
    "**Autor:** Daniel R. Cassar\n",
    "\n"
   ]
  },
  {
   "cell_type": "markdown",
   "id": "f4ac226e-a621-462a-97cc-046f65f0f448",
   "metadata": {},
   "source": [
    "## Introdução\n",
    "\n"
   ]
  },
  {
   "cell_type": "markdown",
   "id": "f791c79d-8011-4010-af3f-fbe55240f354",
   "metadata": {},
   "source": [
    "Em diversos problemas que precisamos resolver, nós temos o interesse de **maximizar** ou **minimizar** um certo resultado. Vamos ver alguns exemplos.\n",
    "\n"
   ]
  },
  {
   "cell_type": "markdown",
   "id": "370b85e6-91f9-41f3-b193-2d9da0d641a5",
   "metadata": {},
   "source": [
    "### Exemplos de situações onde queremos maximizar algo\n",
    "\n"
   ]
  },
  {
   "cell_type": "markdown",
   "id": "1d7401f2-49ed-431c-9157-f9daee87a2d5",
   "metadata": {},
   "source": [
    "1.  Maximizar o tempo de bateria do celular: podemos alterar o brilho, fechar aplicativos que estão ativos, ligar o modo avião, etc.\n",
    "\n",
    "2.  Maximizando a eficiência do estudo: podemos escolher fontes mais didáticas, realizar pausas estratégicas para reter o conhecimento, priorizar disciplinas com relação a afinidade, debater o assunto com algum colega, etc.\n",
    "\n",
    "3.  Maximizando a velocidade da internet: escolhemos onde colocar o roteador de internet considerando os cômodos da casa a fim de ter uma boa velocidade nos lugares que mais ficamos.\n",
    "\n"
   ]
  },
  {
   "cell_type": "markdown",
   "id": "82ea7a27-9d66-4d23-8c96-a52f9097bc5a",
   "metadata": {},
   "source": [
    "### Exemplos de situações onde queremos minimizar algo\n",
    "\n"
   ]
  },
  {
   "cell_type": "markdown",
   "id": "f5ead27e-aa81-443e-b5f4-5d6f3eb03489",
   "metadata": {},
   "source": [
    "1.  Minimizar o tempo ou o percurso: escolhemos o menor caminho ou o caminho mais rápido quando vamos nos locomover de um local a outro.\n",
    "\n",
    "2.  Minimizando o tempo de fila: no supermercado, buscamos escolher uma fila que tenha menos pessoas ou pessoas com menos itens na frente.\n",
    "\n",
    "3.  Minimizando gasto energético: desligamos as luzes e certos aparelhos (ventiladores, por exemplo) quando saímos de um cômodo para economizar energia e reduzir o valor pago ao final do mês.\n",
    "\n"
   ]
  },
  {
   "cell_type": "markdown",
   "id": "3074d231-b501-477b-800e-00d58ea1b84b",
   "metadata": {},
   "source": [
    "### Definição\n",
    "\n"
   ]
  },
  {
   "cell_type": "markdown",
   "id": "c4b073cd-9756-47a6-bf99-be0559f0c4a3",
   "metadata": {},
   "source": [
    "Problemas onde queremos maximizar ou minimizar um ou mais objetivos são chamados de **problemas de otimização**.\n",
    "\n",
    "Existem diversas estratégias para resolver problemas de otimização. A escolha da estratégia a ser utilizada depende do problema. Existem diversos **algoritmos de otimização**, porém nem todo algoritmo de otimização pode ser utilizado em todo problema de otimização.\n",
    "\n"
   ]
  },
  {
   "cell_type": "markdown",
   "id": "906df5b2-e301-4e46-9578-699749c4ffbe",
   "metadata": {},
   "source": [
    "## Algoritmos gulosos\n",
    "\n"
   ]
  },
  {
   "cell_type": "markdown",
   "id": "7751c0d5-755d-43a4-bc17-476d1d9ffea7",
   "metadata": {},
   "source": [
    "Existe uma estratégia para resolver problemas de otimização chamada de *greedy algorithms* que, por incrível que pareça, não são chamados de *algoritmos gananciosos* (como a tradução sugeriria), mas sim são chamados de **algoritmos gulosos**&#x2026;\n",
    "\n",
    "A estratégia de um algoritmo guloso é muito simples: a cada passo do problema, opte pela &ldquo;melhor escolha&rdquo; dentre as existentes (o conceito de &ldquo;melhor escolha&rdquo; ficará mais claro ao longo do texto). Após a escolha ter sido realizada, não olhe para trás, siga em frente e realize outra &ldquo;melhor escolha&rdquo; caso necessário. Repita esse processo até não existirem mais escolhas para serem feitas. Relativamente simples, não é? Vamos alguns exemplos.\n",
    "\n"
   ]
  },
  {
   "cell_type": "markdown",
   "id": "dc724531-17e7-49a9-9a94-371fc2e75f03",
   "metadata": {},
   "source": [
    "## O problema dos cursos (maximização)\n",
    "\n"
   ]
  },
  {
   "cell_type": "markdown",
   "id": "71b1eef6-1ae0-44ab-9c14-78d24285351e",
   "metadata": {},
   "source": [
    "### Contextualização\n",
    "\n"
   ]
  },
  {
   "cell_type": "markdown",
   "id": "bcb0f8c7-edb1-47a3-89fb-7965327d933d",
   "metadata": {},
   "source": [
    "Suponha que chegaram as férias e você quer fazer alguns cursos para complementar seus estudos. Seu objetivo é fazer o **máximo** de cursos possível! Chamamos este tipo de problema de **problema de maximização**.\n",
    "\n",
    "Os cursos oferecidos nestas férias (e seus respectivos horários) são:\n",
    "\n",
    "-   Curso de cálculo quântico 5: das 11:00 às 12:30\n",
    "-   Curso de peteca medieval: das 9:00 às 10:30\n",
    "-   Curso de poesia de elevador: das 10:00 às 11:30\n",
    "-   Curso de biologia da antimatéria: das 8:00 às 9:30\n",
    "-   Curso de paleontologia para tabeliões: das 12:00 às 13:30\n",
    "\n",
    "Oh não! Não é possível fazer todos os cursos por conta de conflito de horários! Como escolher os cursos de forma a *fazer o máximo de cursos possível*? Uma solução para este problema é usar um algoritmo guloso!\n",
    "\n"
   ]
  },
  {
   "cell_type": "markdown",
   "id": "812df0ae-5a9c-40b0-b5a6-eafb9003d32b",
   "metadata": {},
   "source": [
    "### Formalização\n",
    "\n"
   ]
  },
  {
   "cell_type": "markdown",
   "id": "2eac07c6-be86-41b2-a7a1-80b4973be71d",
   "metadata": {},
   "source": [
    "**Problema**: escolher a maior quantidade de cursos disponíveis sem que haja conflito de horário.\n",
    "\n",
    "**Entrada**: a relação de cursos disponíveis com seus respectivos horários.\n",
    "\n",
    "**Saída**: uma lista de cursos que podem ser cursados sem que haja conflito de horário.\n",
    "\n"
   ]
  },
  {
   "cell_type": "markdown",
   "id": "a555be9b-117b-414a-be1d-d530256f349d",
   "metadata": {},
   "source": [
    "### Algoritmo\n",
    "\n"
   ]
  },
  {
   "cell_type": "markdown",
   "id": "5aa6bb53-d018-4b99-8a14-da0449fcf716",
   "metadata": {},
   "source": [
    "1.  Escolha o curso que termina mais cedo;\n",
    "\n",
    "2.  Escolha o curso que termina mais cedo e que comece depois do horário de encerramento do curso que acabou de escolher;\n",
    "\n",
    "3.  Repita o passo 2 até que não existam mais cursos disponíveis\n",
    "\n",
    "Observe que este algoritmo faz uma escolha baseada em uma consideração simples (neste caso, esta seria &ldquo;a melhor escolha&rdquo; na visão do algoritmo) e após a escolha ter sido feita, ele não retorna para reconsiderar a escolha feita, apenas segue em frente.\n",
    "\n",
    "No final das contas, após rodar este algoritmo você irá fazer os seguintes cursos nestas férias:\n",
    "\n",
    "-   Curso de biologia da antimatéria: das 8:00 às 9:30\n",
    "-   Curso de poesia de elevador: das 10:00 às 11:30\n",
    "-   Curso de paleontologia para tabeliões: das 12:00 às 13:30\n",
    "\n"
   ]
  },
  {
   "cell_type": "markdown",
   "id": "b057701c-34ae-486e-b583-9fa46c2d3157",
   "metadata": {},
   "source": [
    "### Discussão\n",
    "\n"
   ]
  },
  {
   "cell_type": "markdown",
   "id": "341b8b56-a82e-402d-8ce8-8037d6975695",
   "metadata": {},
   "source": [
    "Um fato curioso sobre este algoritmo que acabamos de usar neste problema é que ele sempre encontra a **melhor resposta** para esse problema (lembrando que o objetivo é de *fazer o máximo de cursos possível*).\n",
    "\n",
    "**Cuidado**: nem sempre um algoritmo guloso encontra a melhor resposta, mas neste caso isso é verdade. Pode checar, não existe nenhuma resposta melhor que essa neste caso se seu objetivo é maximizar a *quantidade* de cursos.\n",
    "\n",
    "Em certos problemas, podemos ter **empate** na posição de melhor resposta (por exemplo, duas respostas com cursos diferentes mas com a mesma quantidade de cursos). Neste caso, o algoritmo estudado irá encontrar apenas uma das melhores respostas.\n",
    "\n"
   ]
  },
  {
   "cell_type": "markdown",
   "id": "a3e950c7-c503-49c9-a87d-cbaf360e8cc7",
   "metadata": {},
   "source": [
    "## O problema do troco (minimização)\n",
    "\n"
   ]
  },
  {
   "cell_type": "markdown",
   "id": "abb90568-2e38-4b2c-b8c5-683be77ddd0d",
   "metadata": {},
   "source": [
    "### Contextualização\n",
    "\n"
   ]
  },
  {
   "cell_type": "markdown",
   "id": "d7ab9d1a-c326-44da-b458-e87f71ab448d",
   "metadata": {},
   "source": [
    "Suponha um caixa de supermercado que tenha um estoque infinito de moedas. Sempre que for dar um troco em dinheiro, o caixa deve entregar a **menor** quantidade de moedas possível para o cliente. Chamamos este tipo de problema de `problema de minimização`.\n",
    "\n"
   ]
  },
  {
   "cell_type": "markdown",
   "id": "1c6e1de1-3c84-464a-8caa-986f2de6fb82",
   "metadata": {},
   "source": [
    "### Formalização\n",
    "\n"
   ]
  },
  {
   "cell_type": "markdown",
   "id": "a1044647-ac3e-4a5f-8952-ac13c2315c59",
   "metadata": {},
   "source": [
    "**Problema**: encontrar a menor quantidade de moedas para dar como troco em uma transação financeira.\n",
    "\n",
    "**Entrada**: um número real menor ou igual a 1 com no máximo dois dígitos representando o troco a ser retornado.\n",
    "\n",
    "**Saída**: uma lista representando a menor quantidade de moedas válidas em território brasileiro que, quando somadas, são iguais ao número de entrada.\n",
    "\n"
   ]
  },
  {
   "cell_type": "markdown",
   "id": "29c0ad7d-8d37-4b16-ad4d-21c1c90680c1",
   "metadata": {},
   "source": [
    "### Algoritmo\n",
    "\n"
   ]
  },
  {
   "cell_type": "markdown",
   "id": "1244699e-81be-4b22-bd06-dc6556b059b6",
   "metadata": {},
   "source": [
    "Podemos resolver esse problema com um algoritmo guloso? Certamente! Para isso devemos sempre escolher a moeda de maior valor em cada momento de escolha (esta é a &ldquo;melhor escolha&rdquo; segundo o algoritmo). Suponha que o troco deve ser de 41 centavos:\n",
    "\n",
    "1.  Para 41 centavos, a maior moeda disponível é a de 25 centavos. $41-25=16$\n",
    "2.  Para 16 centavos, a maior moeda disponível é a de 10 centavos. $16-10=6$\n",
    "3.  Para 6 centavos, a maior moeda disponível é a de 5 centavos. $6-5=1$\n",
    "4.  Para 1 centavo, a maior moeda disponível é a de 1 centavo. $1-1=0$\n",
    "5.  Fim, o troco total foi pago.\n",
    "\n",
    "No final, entregamos ao cliente apenas 4 moedas: uma de 25 centavos, uma de 10 centavos, uma de 5 centavos e uma de 1 centavo. Novamente, este algoritmo guloso fornece a **melhor resposta** para esse problema (desde que você esteja trabalhando com moedas válidas dentro do território brasileiro, isto é: 1, 5, 10, 25 e 50 centavos e a moeda de 1 real)!\n",
    "\n"
   ]
  },
  {
   "cell_type": "markdown",
   "id": "8b066e22-ff7c-41e5-a875-2fccf386eb75",
   "metadata": {},
   "source": [
    "## O problema de encontrar a menor distância em grafos ponderados (minimização)\n",
    "\n"
   ]
  },
  {
   "cell_type": "markdown",
   "id": "4f3d409d-b9f7-4507-9a03-29cc98e3a836",
   "metadata": {},
   "source": [
    "Na aula de grafos nós nos deparamos com o problema de encontrar a menor distância em um grafo ponderado (seja ele direcional ou não). O algoritmo que nós vimos foi o de Dijkstra (lembrando que ele funciona apenas para grafos com pesos maiores ou iguais a zero).\n",
    "\n",
    "No algoritmo de Dijkstra, a escolha de cada passo a ser dado era sempre pelo vértice não-visitado com a menor distância conhecida. Observe que a &ldquo;melhor escolha&rdquo; é realizada e, uma vez realizada, não retornamos para revê-la. Logo, o algoritmo de Dijkstra é um algoritmo guloso. Não apenas isso, mas ele é capaz de encontrar a **melhor resposta** neste tipo de problema (deste que a restrição dos pesos do grafo serem maiores ou iguais a zero seja respeitada).\n",
    "\n"
   ]
  },
  {
   "cell_type": "markdown",
   "id": "ff527d68-503e-4c8b-adb3-7b8faad8d789",
   "metadata": {},
   "source": [
    "## O problema da mochila (maximização com restrição)\n",
    "\n"
   ]
  },
  {
   "cell_type": "markdown",
   "id": "c504ee19-7ffe-48d2-9582-f712276cd1a3",
   "metadata": {},
   "source": [
    "### Contextualização\n",
    "\n"
   ]
  },
  {
   "cell_type": "markdown",
   "id": "54681dc4-791b-459c-9bb0-044b3f1b7317",
   "metadata": {},
   "source": [
    "Suponha que você tem uma mochila com capacidade de carregar no máximo 2 quilogramas. Se você colocar uma grama a mais além da capacidade máxima, sua mochila rasga e tudo que você colocou nela quebra de forma catastrófica ao se chocar com o chão (indesejável).\n",
    "\n",
    "Suponha que você quer encher a sua mochila e para isso pode escolher qualquer combinação de itens da lista abaixo. Seu interesse é **maximizar** o preço de venda dos itens que colocou na sua mochila sem que ela rasgue.\n",
    "\n",
    "-   Mapa para chegar ao tesouro *Dois Pedaços*. **Peso**: 200 g. **Valor**: 9.\n",
    "-   Varinha mágica do Haroldo Poteiro. **Peso**: 550 g. **Valor**: 7.\n",
    "-   Elixir da energia infinita (dura 30 minutos). **Peso**: 1200 g. **Valor**: 10.\n",
    "-   Mini pinscher capaz de ler mentes. **Peso**: 1700 g. **Valor**: 12.\n",
    "-   Mensagem na garrafa (o que será que está escrito?). **Peso**: 200 g. **Valor**: 2.\n",
    "-   Computador IBM 5100 com o monitor quebrado. **Peso**: 3200 g. **Valor**: 500.\n",
    "\n",
    "Neste caso temos um **problema de maximização com restrição**.\n",
    "\n",
    "Este é um problema famoso, então é bom saber que o nome dele em inglês é *knapsack problem*.\n",
    "\n"
   ]
  },
  {
   "cell_type": "markdown",
   "id": "2eb743c9-185b-4844-85e8-d4e7602f07cd",
   "metadata": {},
   "source": [
    "### Formalização\n",
    "\n"
   ]
  },
  {
   "cell_type": "markdown",
   "id": "9541af98-986e-4d9d-a5b1-b8d17a544424",
   "metadata": {},
   "source": [
    "**Problema**: encontrar um conjunto de itens que atende a restrição de peso da mochila e que tenham o maior valor quando somado.\n",
    "\n",
    "**Entrada**: relação dos itens disponíveis, cada um com um com seu peso e valor.\n",
    "\n",
    "**Saída**: uma lista com os itens que serão colocados na mochila.\n",
    "\n"
   ]
  },
  {
   "cell_type": "markdown",
   "id": "d2fd8178-02cd-4e73-affe-13bb8ae2a8e2",
   "metadata": {},
   "source": [
    "### Algoritmo\n",
    "\n"
   ]
  },
  {
   "cell_type": "markdown",
   "id": "1090f23c-1260-4467-a2f0-2b6a763a0ed9",
   "metadata": {},
   "source": [
    "Um algoritmo para resolver o problema apresentado é o seguinte:\n",
    "\n",
    "1.  Teste todas as soluções possíveis;\n",
    "\n",
    "2.  Retorne ao usuário a melhor solução encontrada no passo 1.\n",
    "\n",
    "Esse algoritmo tem complexidade $\\mathrm{O}(2^n)$, onde $n$ é o número de itens disponíveis.\n",
    "\n"
   ]
  },
  {
   "cell_type": "markdown",
   "id": "dca23ac6-a4bd-4eb7-a1b3-60267b9080ef",
   "metadata": {},
   "source": [
    "### Algoritmo com menor complexidade, é possível?\n",
    "\n"
   ]
  },
  {
   "cell_type": "markdown",
   "id": "deca3b6c-ea29-4b01-b5ee-3e4f2e4cba8e",
   "metadata": {},
   "source": [
    "Podemos fazer melhor que o algoritmo acima? Vamos explorar o uso de um algoritmo guloso para resolver este problema:\n",
    "\n",
    "1.  Pegue o item mais caro disponível que ainda caiba dentro da capacidade da sua mochila;\n",
    "\n",
    "2.  Repita o passo 1 até que não seja mais possível pegar um novo item.\n",
    "\n",
    "Ou seja, a cada escolha possível, o algoritmo guloso tenta **otimizar localmente** a resposta (esta é a &ldquo;melhor escolha&rdquo; no contexto deste algoritmo). Ele faz isso pegando sempre o item mais caro possível, sem ligar para outras combinações. Veja que o algoritmo guloso jamais retorna para checar outras soluções&#x2026; ele só &ldquo;segue em frente&rdquo;!\n",
    "\n",
    "Seguindo esse algoritmo, você deveria pegar primeiro o mini pinscher pois é o item mais caro que ainda cabe na mochila. Com isso, sobrariam ainda 300 gramas dentro da restrição da mochila. O item mais caro que pesa menos que 300 gramas é o mapa do tesouro; colocamos este item na mochila. Como não tem nenhum item com 100 gramas ou menos essa é a resposta final obtida pelo algoritmo guloso. Com estes dois itens a mochila tem um valor total de 21 unidades de dinheiro e um peso total de 1900 gramas, dentro do limite de 2 quilogramas que a mochila aguenta.\n",
    "\n",
    "A pergunta agora é: a resposta do algoritmo guloso é a **melhor resposta** para este problema?\n",
    "\n",
    "&#x2026;\n",
    "\n",
    "Não é! Seria melhor ter pego o elixir, o mapa do tesouro e a varinha, totalizando uma mochila com o valor de 26 unidades de dinheiro e um peso total de 1950 gramas. Esta é a melhor resposta deste problema específico, porém ela não foi encontrada pelo algoritmo guloso.\n",
    "\n",
    "Às vezes, algoritmos gulosos **não nos entregam a melhor resposta**. A vantagem deles é que eles *entregam* uma solução e entregam ela *rápido* (a complexidade do algoritmo guloso neste caso é $O(n \\log(n))$ devido a necessidade de ordenar os itens para encontrar o de maior valor). Não apenas isso, a solução encontrada costuma ser uma solução razoavelmente boa dentro das restrições do problema.\n",
    "\n",
    "No exemplo dado nós tínhamos apenas 6 itens, neste caso é relativamente fácil checar *todas* as combinações possíveis e encontrar a **melhor resposta**. Checar todas as respostas de um problema tem um nome, chama-se **busca exaustiva**.\n",
    "\n",
    "Imagine resolver esse problema com uma lista de 50 itens com diferentes pesos e valores! Nesse caso, teríamos que checar $2^{50}$ combinações diferentes para encontrar a tão elusiva **melhor resposta** (se cada combinação demorasse 1 segundo para testarmos, levaríamos um pouco mais que 35 mil milênios para terminar a conta). Não temos como encontrar a **melhor resposta** para esse problema de maneira eficiente&#x2026; Não apenas isso, mas para esse problema em particular, se você encontrar uma resposta qualquer não tem como você dizer que ela é a **melhor resposta** sem checar *todas* as outras&#x2026;\n",
    "\n",
    "Diversos problemas de otimização são assim: encontrar a **melhor resposta** é uma tarefa que pode ser proibitivamente demorada! Nestes casos, não temos outra saída a não ser usar algoritmos que encontram uma resposta razoavelmente boa. Um algoritmo que entrega uma resposta razoavelmente boa é um **algoritmo de aproximação**. O termo técnico para uma *resposta razoavelmente boa* é uma **solução aproximada**.\n",
    "\n"
   ]
  },
  {
   "cell_type": "markdown",
   "id": "b88aeb8a-ed14-46f5-8b26-e81118f240ac",
   "metadata": {},
   "source": [
    "## O problema do caixeiro viajante (minimização com restrição)\n",
    "\n"
   ]
  },
  {
   "cell_type": "markdown",
   "id": "60f3d7b2-f1e5-4a10-9e0e-9fa7ece070f8",
   "metadata": {},
   "source": [
    "### Contextualização\n",
    "\n"
   ]
  },
  {
   "cell_type": "markdown",
   "id": "c59749b9-cc3d-4022-98f8-8c9c8c8508f7",
   "metadata": {},
   "source": [
    "Suponha que você terminou seu curso na Ilum e usou seu conhecimento científico para desenvolver um novo produto revolucionário. Você abriu uma *startup* e agora irá fabricar seu novo produto. Agora só falta o mundo conhecer sua invenção e, claro, comprar seu produto para que você tenha sucesso profissional e financeiro!\n",
    "\n",
    "Só tem um probleminha! Seu investimento inicial foi muito grande e agora você não tem muito dinheiro sobrando para viajar pelo Brasil vendendo seu produto&#x2026; seu objetivo é viajar para $n$ cidades de maneira otimizada (percorrendo a menor quantidade de quilômetros), visitando todas elas apenas uma vez e apresentando seu produto em cada uma delas. Ao final das visitas, você retorna para sua cidade de partida. Como planejar a sua rota otimizada?\n",
    "\n",
    "Essa é a ideia do problema clássico do caixeiro viajante! Trata-se de um **problema de minimização com restrição**. O enunciado relativamente simples pode nos enganar num primeiro momento, mas veja que com apenas $n=5$ cidades nós temos que checar $5!=120$ rotas possíveis para encontrar a **melhor resposta**! Se quiser visitar $n=10$ cidades terá que checar mais de três milhões e meio de rotas!\n",
    "\n",
    "Este é um problema famoso, então é bom saber que o nome dele em inglês é *traveling salesman problem* ou simplesmente TSP.\n",
    "\n"
   ]
  },
  {
   "cell_type": "markdown",
   "id": "500da8e4-bec3-4d61-98a1-1c852c479812",
   "metadata": {},
   "source": [
    "### Formalização\n",
    "\n"
   ]
  },
  {
   "cell_type": "markdown",
   "id": "0f917d61-509d-4920-a535-4761ad394c38",
   "metadata": {},
   "source": [
    "**Problema**: dado um conjunto de cidades e uma cidade inicial (ponto de partida), encontrar o caminho de menor distância que visita todas as cidades e retorna para a cidade inicial.\n",
    "\n",
    "**Entrada**: a coordenada $x$ e $y$ de um conjunto de cidades e uma cidade inicial.\n",
    "\n",
    "**Saída**: a ordem de visitação das cidades de entrada que minimizam a distância do percurso realizado.\n",
    "\n"
   ]
  },
  {
   "cell_type": "markdown",
   "id": "8c3f6ae6-9927-45ed-ba5e-6511a0b00170",
   "metadata": {},
   "source": [
    "### Algoritmo\n",
    "\n"
   ]
  },
  {
   "cell_type": "markdown",
   "id": "042bad4c-633f-41b5-a006-5624c96522b0",
   "metadata": {},
   "source": [
    "Um algoritmo para resolver o problema apresentado é o seguinte:\n",
    "\n",
    "1.  Teste todas as rotas possíveis;\n",
    "\n",
    "2.  Retorne ao usuário a rota de menor distância encontrada no passo 1.\n",
    "\n",
    "Esse algoritmo tem complexidade $\\mathrm{O}(n!)$, onde $n$ é o número de cidades que serão visitadas.\n",
    "\n"
   ]
  },
  {
   "cell_type": "markdown",
   "id": "02736649-3836-451b-80dd-c8521807e0b1",
   "metadata": {},
   "source": [
    "### Solução aproximada com algoritmo guloso\n",
    "\n"
   ]
  },
  {
   "cell_type": "markdown",
   "id": "bbd89c33-057d-4b93-af1d-44c2ecc4f3f1",
   "metadata": {},
   "source": [
    "Uma forma de encontrar uma **solução aproximada** para esse problema é usando um algoritmo guloso. O algoritmo é relativamente simples:\n",
    "\n",
    "1.  Da cidade em que você está (que será o ponto de partida ao início do algoritmo), cheque a distância para todas as cidades ainda não visitadas e viaje até a cidade ainda não visitada mais próxima;\n",
    "\n",
    "2.  Repita o passo 1 até que todas as cidades sejam visitadas;\n",
    "\n",
    "3.  Retorne à cidade inicial.\n",
    "\n",
    "O problema do caixeiro viajante é outro tipo de problema onde checar todas as soluções fica computacionalmente proibitivo muito rapidamente com o aumento de $n$, uma vez que o número de rotas aumenta com o fatorial de $n$. Esse é um dos problemas ainda abertos em ciência da computação: existe um algoritmo eficiente que encontra a **melhor resposta** para esse problema? Diversos cientistas da computação acreditam que a resposta é não&#x2026;\n",
    "\n"
   ]
  },
  {
   "cell_type": "markdown",
   "id": "0ed2f544-9ae8-4d43-9866-fd75b7d03914",
   "metadata": {},
   "source": [
    "## Problemas NP\n",
    "\n"
   ]
  },
  {
   "cell_type": "markdown",
   "id": "660f4e47-0e7f-4ff4-85aa-8df7daa553fd",
   "metadata": {},
   "source": [
    "### Problemas da classe P e problemas da classe NP\n",
    "\n"
   ]
  },
  {
   "cell_type": "markdown",
   "id": "2c6441ad-065b-44be-b3fc-48835bcec3f1",
   "metadata": {},
   "source": [
    "O problema da mochila e o problema do caixeiro viajante são problemas que não são possíveis de serem resolvidos em tempo polinomial (os algoritmos gulosos não *resolvem* estes problemas, apenas encontram soluções aproximadas). O que significa um problema ser resolvido em tempo polinomial? Significa que o tempo gasto para resolvermos o algoritmo aumenta de forma polinomial com relação ao aumento da informação de entrada (lembre-se da complexidade de algoritmos e da notação do $O$ grande).\n",
    "\n",
    "O tempo de execução do algoritmo de encontrar o valor máximo em uma lista aumenta linearmente com o tamanho da lista (vimos isso na aula sobre complexidade). Logo esse é um algoritmo que pode ser resolvido em tempo polinomial (tempo linear é um caso específico de tempo polinomial).\n",
    "\n",
    "O tempo de execução do algoritmo de encontrar índices duplicados em uma lista aumenta com o quadrado do tamanho da lista. Logo esse algoritmo também pode ser resolvido em tempo polinomial.\n",
    "\n",
    "Para encontrar a **melhor resposta** do problema da mochila, nós precisamos checar $2^k$ possibilidades, onde $k$ é o número de itens disponíveis. Logo, checar todas as possibilidades deste problema é um algoritmo de complexidade exponencial. Esse problema (ainda) *não* pode ser resolvido em tempo polinomial!\n",
    "\n",
    "Para encontrar a **melhor resposta** do problema do caixeiro viajante, nós precisamos checar $n!$ possibilidades, onde $n$ é o número de cidades a serem visitadas. Logo, checar todas as possibilidades deste problema é um algoritmo de complexidade fatorial. Esse problema (ainda) *não* pode ser resolvido em tempo polinomial!\n",
    "\n",
    "Problemas que *não podem* ser resolvidos com algoritmos que operam em tempo polinomial são conhecidos como **problemas da classe NP**. Da mesma forma, problemas que *podem* ser resolvidos com algoritmos que operam em tempo polinomial são conhecidos como **problemas da classe P**. Existe uma pergunta em aberto na matemática, conhecida como $P\\overset{?}{=}NP$, que é um dos Problemas do Milênio mais famosos ainda não solucionados [1].\n",
    "\n",
    "Existem três tipos de problemas NP que são particularmente importantes e serão apresentados abaixo.\n",
    "\n"
   ]
  },
  {
   "cell_type": "markdown",
   "id": "2c97f53b-eb3f-446d-bc6e-79af581453a3",
   "metadata": {},
   "source": [
    "### Problemas da classe NP\n",
    "\n"
   ]
  },
  {
   "cell_type": "markdown",
   "id": "a907ec9a-5bcb-4849-835a-46551062dbc7",
   "metadata": {},
   "source": [
    "Um problema está na **classe NP** se, dada uma solução candidata, é possível verificar se ela é válida por meio de um algoritmo que roda em tempo polinomial ou melhor.\n",
    "\n",
    "**Exemplo**: problema de fatoração de inteiros (encontrar os fatores primos de um número inteiro).\n",
    "\n"
   ]
  },
  {
   "cell_type": "markdown",
   "id": "d19634ac-cac5-45a2-b7f5-83649e9c83b8",
   "metadata": {},
   "source": [
    "### Problemas da classe NP-completo\n",
    "\n"
   ]
  },
  {
   "cell_type": "markdown",
   "id": "8b848e61-b98c-4816-9f08-27da3fa030d1",
   "metadata": {},
   "source": [
    "Problemas **NP-completos** são os problemas mais difíceis da classe NP.\n",
    "\n",
    "O que significa serem os problemas mais difíceis da classe NP? Significa que todo problema em NP pode ser reduzido ou transformado em um problema NP-completo utilizando um algoritmo de complexidade polinomial. [2]\n",
    "\n",
    "Um fato interessante é que se encontrarmos um algoritmo eficiente (tempo polinomial) para resolver qualquer problema NP-completo, todos os problemas da classe NP também poderão ser resolvidos eficientemente. [2]\n",
    "\n",
    "**Exemplo**: a versão de decisão do problema da mochila onde apenas queremos checar se existe uma combinação de itens que resulta em um dado peso específico (desconsiderados os valores dos itens).\n",
    "\n"
   ]
  },
  {
   "cell_type": "markdown",
   "id": "2ba69201-c9f4-412b-9365-c4a7965129d3",
   "metadata": {},
   "source": [
    "### Problemas da classe NP-difícil\n",
    "\n"
   ]
  },
  {
   "cell_type": "markdown",
   "id": "f567cda9-83de-4d4a-bbbb-95fbf0b51e0f",
   "metadata": {},
   "source": [
    "Um problema está na **classe NP-difícil** se, dada uma solução candidata, é necessário verificar *todas* as soluções possíveis para checar se ela é de fato a solução do problema.\n",
    "\n",
    "Em outras palavras, mesmo que uma solução interesante seja obtida, o algoritmo que prova que ela é a solução do problema tem complexidade pior que polinomial.\n",
    "\n",
    "**Exemplos**: os problemas da mochila e do caixeiro viajante apresentados neste notebook são problemas da classe NP-difícil.\n",
    "\n"
   ]
  },
  {
   "cell_type": "markdown",
   "id": "765aef03-9682-4e7d-9175-4e15ebdd3b75",
   "metadata": {},
   "source": [
    "## XKCD relevante\n",
    "\n"
   ]
  },
  {
   "cell_type": "markdown",
   "id": "05d70f9d-e37e-4e91-8982-bd07c0f46903",
   "metadata": {},
   "source": [
    "![img](https://imgs.xkcd.com/comics/np_complete.png)\n",
    "\n",
    "`Imagem: NP-Complete (XKCD) disponível em https://xkcd.com/287`\n",
    "\n"
   ]
  },
  {
   "cell_type": "markdown",
   "id": "ef8827aa-3400-49cd-9e46-bf09cd28f0aa",
   "metadata": {},
   "source": [
    "## Referências\n",
    "\n"
   ]
  },
  {
   "cell_type": "markdown",
   "id": "8b928046-569e-4644-ae15-e03cd883fce2",
   "metadata": {},
   "source": [
    "1.  Artigo da Wikipédia sobre o Problema P versus NP [https://pt.wikipedia.org/wiki/P_versus_NP](https://pt.wikipedia.org/wiki/P_versus_NP)\n",
    "\n",
    "2.  Artigo da Wikipédia sobre problemas da classe NP-completo [https://en.wikipedia.org/wiki/NP-completeness](https://en.wikipedia.org/wiki/NP-completeness)\n",
    "\n",
    "3.  Artigo da Wikipédia sobre problemas NP [https://en.wikipedia.org/wiki/NP_(complexity)](https://en.wikipedia.org/wiki/NP_(complexity))\n",
    "\n"
   ]
  }
 ],
 "metadata": {
  "kernelspec": {
   "display_name": "Python 3 (ipykernel)",
   "language": "python",
   "name": "python3"
  },
  "language_info": {
   "codemirror_mode": {
    "name": "ipython",
    "version": 3
   },
   "file_extension": ".py",
   "mimetype": "text/x-python",
   "name": "python",
   "nbconvert_exporter": "python",
   "pygments_lexer": "ipython3",
   "version": "3.12.7"
  },
  "org": null
 },
 "nbformat": 4,
 "nbformat_minor": 5
}
