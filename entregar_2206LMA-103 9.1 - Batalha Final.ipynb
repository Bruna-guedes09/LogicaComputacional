{
 "cells": [
  {
   "cell_type": "markdown",
   "id": "e1028b74-478b-4fe6-a29a-75adb30f932a",
   "metadata": {},
   "source": [
    "Batalha Final\n",
    "=============\n",
    "\n"
   ]
  },
  {
   "cell_type": "markdown",
   "id": "baa40925-7b3c-4e12-9cb0-81703cdf5123",
   "metadata": {},
   "source": [
    "## Leia com atenção antes de começar\n",
    "\n"
   ]
  },
  {
   "cell_type": "markdown",
   "id": "4fd1ed64-06ab-4a7c-a6e6-72a700d66797",
   "metadata": {},
   "source": [
    "Preencha as células de código abaixo (o local para preencher está com um comentário \"`# preencher`\"). Fique à vontade para criar células para testar as funções caso queira.\n",
    "\n",
    "**Recomendação**: rode o comando \"Restart kernel and run all cells\" antes de submeter sua entrega. Se o Jupyter acusar algum erro neste processo então é necessário corrigir algo no seu notebook.\n",
    "\n",
    "<div class=\"alert alert-warning\" style=\"background-color: #66B2FF; color: #004400;\">Não é permitido usar a instrução `import` em nenhum local deste notebook.\n",
    "</div>\n",
    "\n",
    "<div class=\"alert alert-warning\">Não altere os nomes das funções já definidas.\n",
    "</div>\n",
    "\n",
    "<div class=\"alert alert-warning\">Quer escrever um texto? Então crie uma célula de texto (markdown). Não escreva texto corrido em célula de código. Comentários são permitidos (e incentivados), mas estes são textos breves.\n",
    "</div>\n",
    "\n",
    "<div class=\"alert alert-warning\">Caso exista mais de uma função com mesmo nome, apenas a função definida por último (considerando a ordem sequencial do documento) será considerada.\n",
    "</div>\n",
    "\n",
    "<div class=\"alert alert-warning\" style=\"background-color: #ffeeba; color: #856404;\">Quer usar IA ou debater as questões com colegas? Então leia o contrato didático para evitar problemas.\n",
    "</div>\n",
    "\n"
   ]
  },
  {
   "cell_type": "markdown",
   "id": "48f194e5-09a0-450f-816a-270145258837",
   "metadata": {},
   "source": [
    "## O problema de maximização de cursos\n",
    "\n"
   ]
  },
  {
   "cell_type": "markdown",
   "id": "2e12ac67-861a-4b03-b759-0eadd258f898",
   "metadata": {},
   "source": [
    "**Problema**: escolher a maior quantidade de cursos disponíveis sem que haja conflito de horário.\n",
    "\n",
    "**Entrada**: dicionário com os cursos disponíveis e respectivos horários (ver estrutura de dados do exemplo abaixo, veja que o horário foi convertido para um `float`).\n",
    "\n",
    "**Saída**: uma lista de cursos que podem ser cursados sem que haja conflito de horário. A lista deve estar ordenada de acordo com os horários dos cursos, logo o primeiro item da lista é o temporalmente primeiro curso a ser realizado, o segundo item da lista é o segundo curso a ser realizado e assim por diante.\n",
    "\n",
    "**Nota**: caso exista mais de uma solução para o problema, apenas uma deve solução ser retornada para o usuário.\n",
    "\n",
    "**Exemplo**:\n",
    "\n"
   ]
  },
  {
   "cell_type": "code",
   "execution_count": 1,
   "id": "5ab38a2e-7633-4b06-8109-e615019fbb04",
   "metadata": {},
   "outputs": [],
   "source": [
    "entrada_cursos = {\n",
    "    \"cálculo\": {\n",
    "        \"início\": 11.0,\n",
    "        \"fim\": 12.5,\n",
    "    },\n",
    "    \"peteca\": {\n",
    "        \"início\": 9.0,\n",
    "        \"fim\": 10.5,\n",
    "    },\n",
    "    \"poesia\": {\n",
    "        \"início\": 10.0,\n",
    "        \"fim\": 11.5,\n",
    "    },\n",
    "    \"biologia\": {\n",
    "        \"início\": 8.0,\n",
    "        \"fim\": 9.5,\n",
    "    },\n",
    "    \"paleontologia\": {\n",
    "        \"início\": 12.0,\n",
    "        \"fim\": 13.5,\n",
    "    },\n",
    "}\n",
    "\n",
    "saida_lista_cursos = [\"biologia\", \"poesia\", \"paleontologia\"]"
   ]
  },
  {
   "cell_type": "markdown",
   "id": "6e235096-d20d-4c9a-b234-568506331fbc",
   "metadata": {},
   "source": [
    "**Algoritmo**:\n",
    "\n"
   ]
  },
  {
   "cell_type": "markdown",
   "id": "9614f83d-82f5-4cdf-8312-5df7968fc2ef",
   "metadata": {},
   "source": [
    "Nesse algoritmo, utilizei a IA para descobrir qual era o motivo do meu erro. Percebi que era um erro de sintaxe da linha 3. Além disso, utilizei um caso de teste gerado pela IA, para testar meu algoritmo.\n",
    "\n",
    "*Excplicação da linha 3*\n",
    " cursos_ordenados = sorted(cursos.items(), key=lambda item: item[1]['fim'])\n",
    " \n",
    "*cursos.items()* transforma o dicionário original cursos em uma lista de tuplas.\n",
    "\n",
    "*sorted* é para ordenar. *key* define com base em qual valor a ordenação será feita. No caso, utiliza a função *lambda*\n",
    "\n",
    "*lambda* é uma forma de escrever uma função de maneira resumida, porque só queremos utilizá-la uma vez. No caso, ela recebe *item* e retorna *item[1]['fim']*. *item* é cada tupla da lista gerada. *item[1]* é o dicionário de horário e *item[1]['fim']* é o horário de término do curso.\n",
    " \n"
   ]
  },
  {
   "cell_type": "code",
   "execution_count": 2,
   "id": "0043c061-b3c0-4720-b44c-f72dc462e0d5",
   "metadata": {},
   "outputs": [
    {
     "name": "stdout",
     "output_type": "stream",
     "text": [
      "Entrada:  {'cálculo': {'início': 11.0, 'fim': 12.5}, 'peteca': {'início': 9.0, 'fim': 10.5}, 'poesia': {'início': 10.0, 'fim': 11.5}, 'biologia': {'início': 8.0, 'fim': 9.5}, 'paleontologia': {'início': 12.0, 'fim': 13.5}}\n",
      "Saída:  ['biologia', 'poesia', 'paleontologia']\n",
      "\n",
      "---------------------------------------- \n",
      "Entrada:  {'Matemática': {'início': 9.0, 'fim': 10.0}, 'Física': {'início': 9.5, 'fim': 10.5}, 'Química': {'início': 10.0, 'fim': 11.0}, 'Biologia': {'início': 11.0, 'fim': 12.0}, 'História': {'início': 10.5, 'fim': 11.5}, 'Geografia': {'início': 12.0, 'fim': 13.0}}\n",
      "Saída:  ['Matemática', 'Química', 'Biologia', 'Geografia']\n",
      "\n",
      "---------------------------------------- \n"
     ]
    }
   ],
   "source": [
    "def escolhe_cursos(cursos):\n",
    "    # Ordena os cursos pelo horário de fim\n",
    "    cursos_ordenados = sorted(cursos.items(), key=lambda item: item[1]['fim'])\n",
    "\n",
    "    #inicialização das variáveis que serão utilizadas\n",
    "    lista_cursos = []\n",
    "    fim_ultimo_curso = 0\n",
    "\n",
    "    #iterando a lista de tuplas, acessando o primeiro item da tupla e o segundo, que é um dicionário\n",
    "    for nome, horario in cursos_ordenados:\n",
    "        if horario['início'] >= fim_ultimo_curso: #na primeira passagem, é True. Como a cursos_ordenados está ordenado pela ordem de fim, escolhe o curso que termina mais cedo\n",
    "            lista_cursos.append(nome)\n",
    "            fim_ultimo_curso = horario['fim']\n",
    "\n",
    "    return lista_cursos\n",
    "\n",
    "#lista para testar os valores\n",
    "entrada_cursos = [{\n",
    "    \"cálculo\": {\n",
    "        \"início\": 11.0,\n",
    "        \"fim\": 12.5,\n",
    "    },\n",
    "    \"peteca\": {\n",
    "        \"início\": 9.0,\n",
    "        \"fim\": 10.5,\n",
    "    },\n",
    "    \"poesia\": {\n",
    "        \"início\": 10.0,\n",
    "        \"fim\": 11.5,\n",
    "    },\n",
    "    \"biologia\": {\n",
    "        \"início\": 8.0,\n",
    "        \"fim\": 9.5,\n",
    "    },\n",
    "    \"paleontologia\": {\n",
    "        \"início\": 12.0,\n",
    "        \"fim\": 13.5,\n",
    "    },\n",
    "}, {\n",
    "    'Matemática': {'início': 9.0, 'fim': 10.0},\n",
    "    'Física': {'início': 9.5, 'fim': 10.5},\n",
    "    'Química': {'início': 10.0, 'fim': 11.0},\n",
    "    'Biologia': {'início': 11.0, 'fim': 12.0},\n",
    "    'História': {'início': 10.5, 'fim': 11.5},\n",
    "    'Geografia': {'início': 12.0, 'fim': 13.0}\n",
    "}]\n",
    "\n",
    "#loop para enviar todos os valores da lista para a função, exibindo os valores de entrada e saída da função\n",
    "for entrada in entrada_cursos: \n",
    "    print(\"Entrada: \", entrada)\n",
    "    print(\"Saída: \", escolhe_cursos(entrada)) #enviamos o dicionario para a função\n",
    "    print()\n",
    "    print(\"---------------------------------------- \") #linha divisória, por fins de organização"
   ]
  },
  {
   "cell_type": "markdown",
   "id": "4cff04fb-134c-4aa7-a9c4-0efa5ba6ec97",
   "metadata": {},
   "source": [
    "## O problema de minimização do troco\n",
    "\n"
   ]
  },
  {
   "cell_type": "markdown",
   "id": "b1708ced-e8e5-49e1-b80f-50947ab02120",
   "metadata": {},
   "source": [
    "**Problema**: encontrar a menor quantidade de moedas para dar como troco em uma transação financeira.\n",
    "\n",
    "**Entrada**: número $n \\in [0, 1]$ com no máximo duas casas decimais.\n",
    "\n",
    "**Saída**: uma lista representando a menor quantidade de moedas válidas em território brasileiro que, quando somadas, são iguais à $n$. Essa lista é ordenada de forma decrescente.\n",
    "\n",
    "**Nota**: a produção da moeda de 1 centavo foi descontinuada, porém ainda é uma moeda válida em território nacional e pode ser utilizada em transações financeiras.\n",
    "\n",
    "**Alguns exemplos de entradas e retornos**:\n",
    "\n",
    "\n",
    "| Entrada <code>n</code>|Retorno|\n",
    "|---|---|\n",
    "| 0|[]|\n",
    "| 0.11|[0.1, 0.01]|\n",
    "| 0.15|[0.1, 0.05]|\n",
    "| 0.49|[0.25, 0.1, 0.1, 0.01, 0.01, 0.01, 0.01]|\n",
    "| 0.5|[0.5]|\n",
    "| 0.68|[0.5, 0.1, 0.05, 0.01, 0.01, 0.01]|\n",
    "| 0.95|[0.5, 0.25, 0.1, 0.1]|\n",
    "| 1|[1]|\n",
    "\n",
    "**Algoritmo**:\n",
    "\n"
   ]
  },
  {
   "cell_type": "markdown",
   "id": "f8b14403-dbd7-4d35-adb3-6929fcbc484f",
   "metadata": {},
   "source": [
    "Nesse algoritmo, utilizei a IA para descobrir porque o loop estava demorando. Então, percebi que era por causa do tipo das variáveis resto e moedas_centavos."
   ]
  },
  {
   "cell_type": "code",
   "execution_count": 3,
   "id": "127e167f-e243-49e1-bfc7-fca260e735d6",
   "metadata": {},
   "outputs": [
    {
     "name": "stdout",
     "output_type": "stream",
     "text": [
      "Entrada:  0\n",
      "Saída:  []\n",
      "\n",
      "---------------------------------------- \n",
      "Entrada:  0.11\n",
      "Saída:  [0.1, 0.01]\n",
      "\n",
      "---------------------------------------- \n",
      "Entrada:  0.15\n",
      "Saída:  [0.1, 0.05]\n",
      "\n",
      "---------------------------------------- \n",
      "Entrada:  0.49\n",
      "Saída:  [0.25, 0.1, 0.1, 0.01, 0.01, 0.01, 0.01]\n",
      "\n",
      "---------------------------------------- \n",
      "Entrada:  0.5\n",
      "Saída:  [0.5]\n",
      "\n",
      "---------------------------------------- \n",
      "Entrada:  0.68\n",
      "Saída:  [0.5, 0.1, 0.05, 0.01, 0.01, 0.01]\n",
      "\n",
      "---------------------------------------- \n",
      "Entrada:  0.95\n",
      "Saída:  [0.5, 0.25, 0.1, 0.1]\n",
      "\n",
      "---------------------------------------- \n",
      "Entrada:  1\n",
      "Saída:  [1.0]\n",
      "\n",
      "---------------------------------------- \n"
     ]
    }
   ],
   "source": [
    "def troco(n):\n",
    "\n",
    "    moedas = (1, 0.5, 0.25, 0.1, 0.05, 0.01)\n",
    "    lista_moedas = []\n",
    "\n",
    "    #Para evitar erros de ponto flutuante e loops infinitos, é melhor trabalhar com centavos inteiros\n",
    "    resto = int(round(n * 100))\n",
    "    moedas_centavos = [int(m * 100) for m in moedas] #lista de moedas com valores inteiros\n",
    "\n",
    "    for moeda in moedas_centavos:\n",
    "        #while garante que as moedas de um mesmo valor poderão ser utilizadas mais de uma vez\n",
    "        while moeda <= resto:\n",
    "            lista_moedas.append(moeda / 100)  #volta para reais com float\n",
    "            resto = resto - moeda\n",
    "\n",
    "    return lista_moedas\n",
    "    \n",
    "entrada = [0, 0.11, 0.15, 0.49, 0.5, 0.68, 0.95, 1]\n",
    "\n",
    "#loop para enviar todos os valores da lista para a função, exibindo os valores de entrada e saída da função\n",
    "for n in entrada: \n",
    "    print(\"Entrada: \", n)\n",
    "    print(\"Saída: \", troco(n)) #enviamos o valor para a função\n",
    "    print()\n",
    "    print(\"---------------------------------------- \") #linha divisória, por fins de organização"
   ]
  },
  {
   "cell_type": "markdown",
   "id": "8e745b33-e2ab-427f-80c7-67478631c4a1",
   "metadata": {},
   "source": [
    "## O problema da mochila\n",
    "\n"
   ]
  },
  {
   "cell_type": "markdown",
   "id": "dc39ff83-69b3-4b4a-8099-25b97f3fe0a2",
   "metadata": {},
   "source": [
    "**Problema**: encontrar uma solução aproximada para o problema da mochila utilizando um algoritmo guloso.\n",
    "\n",
    "**Entrada**: dicionário de objetos disponíveis (ver estrutura de dados no exemplo abaixo) e número inteiro positivo representando a capacidade máxima da mochila em unidade de peso.\n",
    "\n",
    "**Saída**: uma lista com os itens que serão colocados na mochila.\n",
    "\n",
    "**Dica**: relembre sobre o problema da mochila no notebook da disciplina.\n",
    "\n",
    "**Nota**: o enunciado claramente pediu uma solução aproximada utilizando um algoritmo guloso. Entregar um algoritmo de busca exaustiva não é a resposta desejada desse exercício.\n",
    "\n",
    "**Exemplo**:\n",
    "\n"
   ]
  },
  {
   "cell_type": "code",
   "execution_count": 4,
   "id": "4cde19cd-bc27-4335-99dd-e377462ef106",
   "metadata": {},
   "outputs": [],
   "source": [
    "entrada_itens = {\n",
    "    \"Mapa\": {\n",
    "        \"valor\": 9,\n",
    "        \"peso\": 200,\n",
    "    },\n",
    "    \"Varinha mágica\": {\n",
    "        \"valor\": 7,\n",
    "        \"peso\": 500,\n",
    "    },\n",
    "    \"Elixir\": {\n",
    "        \"valor\": 10,\n",
    "        \"peso\": 1200,\n",
    "    },\n",
    "    \"Mini pinscher\": {\n",
    "        \"valor\": 12,\n",
    "        \"peso\": 1700,\n",
    "    },\n",
    "    \"Mensagem na garrafa\": {\n",
    "        \"valor\": 2,\n",
    "        \"peso\": 200,\n",
    "    },\n",
    "    \"Computador\": {\n",
    "        \"valor\": 500,\n",
    "        \"peso\": 3200,\n",
    "    },\n",
    "}\n",
    "\n",
    "entrada_capacidade = 2000\n",
    "\n",
    "saida_lista_itens = [\"Mini Pinscher\", \"Mapa\"]"
   ]
  },
  {
   "cell_type": "markdown",
   "id": "25d655b8-adf0-4696-ae47-a1572e78b013",
   "metadata": {},
   "source": [
    "**Algoritmo**:\n",
    "\n"
   ]
  },
  {
   "cell_type": "code",
   "execution_count": 5,
   "id": "67291978-5044-4579-b3e8-5a86e28f2d91",
   "metadata": {},
   "outputs": [
    {
     "name": "stdout",
     "output_type": "stream",
     "text": [
      "Entrada:  {'Mapa': {'valor': 9, 'peso': 200}, 'Varinha mágica': {'valor': 7, 'peso': 500}, 'Elixir': {'valor': 10, 'peso': 1200}, 'Mini pinscher': {'valor': 12, 'peso': 1700}, 'Mensagem na garrafa': {'valor': 2, 'peso': 200}, 'Computador': {'valor': 500, 'peso': 3200}} 2000\n",
      "Saída:  ['Mini pinscher', 'Mapa']\n",
      "\n",
      "---------------------------------------- \n"
     ]
    }
   ],
   "source": [
    "def mochila(itens, capacidade):\n",
    "\n",
    "    #1o. ordenar pelo valor, em ordem decrescente\n",
    "    itens_ordenados = sorted(itens.items(), key=lambda item: item[1]['valor'], reverse=True)\n",
    "\n",
    "    #inicialização\n",
    "    lista_itens = []\n",
    "    peso_atual = 0\n",
    "\n",
    "    #adiciona à mochila se o peso do item for menor ou igual à capacidade\n",
    "    for item in itens_ordenados:\n",
    "        if item[1]['peso'] <= capacidade - peso_atual:\n",
    "            lista_itens.append(item[0])\n",
    "            peso_atual = peso_atual + item[1]['peso']\n",
    "        \n",
    "\n",
    "    return lista_itens\n",
    "\n",
    "entrada_itens = [{\n",
    "    \"Mapa\": {\n",
    "        \"valor\": 9,\n",
    "        \"peso\": 200,\n",
    "    },\n",
    "    \"Varinha mágica\": {\n",
    "        \"valor\": 7,\n",
    "        \"peso\": 500,\n",
    "    },\n",
    "    \"Elixir\": {\n",
    "        \"valor\": 10,\n",
    "        \"peso\": 1200,\n",
    "    },\n",
    "    \"Mini pinscher\": {\n",
    "        \"valor\": 12,\n",
    "        \"peso\": 1700,\n",
    "    },\n",
    "    \"Mensagem na garrafa\": {\n",
    "        \"valor\": 2,\n",
    "        \"peso\": 200,\n",
    "    },\n",
    "    \"Computador\": {\n",
    "        \"valor\": 500,\n",
    "        \"peso\": 3200,\n",
    "    },\n",
    "}]\n",
    "\n",
    "entrada_capacidade = [2000]\n",
    "\n",
    "#loop para enviar todos os valores da lista para a função, exibindo os valores de entrada e saída da função\n",
    "for itens, capacidade in zip(entrada_itens, entrada_capacidade):\n",
    "    print(\"Entrada: \", itens, capacidade)\n",
    "    print(\"Saída: \", mochila(itens, capacidade)) #enviamos o valor para a função\n",
    "    print()\n",
    "    print(\"---------------------------------------- \") #linha divisória, por fins de organização"
   ]
  },
  {
   "cell_type": "markdown",
   "id": "3c6988d7-d4f4-47d1-84c5-803931614412",
   "metadata": {},
   "source": [
    "## O problema do caixeiro viajante\n",
    "\n"
   ]
  },
  {
   "cell_type": "markdown",
   "id": "c5c99aa0-d3ec-47b6-a8e4-7ebc5e5ee8bf",
   "metadata": {},
   "source": [
    "**Problema**: encontrar uma solução aproximada para o problema do caixeiro viajante utilizando um algoritmo guloso.\n",
    "\n",
    "**Entrada**: um dicionário com o nome e as posições `(x,y)` das cidades disponíveis (ver estrutura de dados no exemplo abaixo) e o nome da cidade inicial.\n",
    "\n",
    "**Saída**: uma lista representando a ordem de visitação das cidades.\n",
    "\n",
    "**Dica**: relembre sobre o problema do caixeiro viajante no notebook da disciplina.\n",
    "\n",
    "**Nota**: o enunciado claramente pediu uma solução aproximada utilizando um algoritmo guloso. Entregar um algoritmo de busca exaustiva não é a resposta desejada desse exercício.\n",
    "\n",
    "**Nota 2**: considere que todas as cidades estão ligadas entre si por estradas retas, logo a distância de uma cidade qualquer para outra cidade qualquer é igual à distância Euclidiana entre suas coordenadas.\n",
    "\n",
    "**Exemplo**:\n",
    "\n"
   ]
  },
  {
   "cell_type": "code",
   "execution_count": 6,
   "id": "3ba617be-32c7-4eb3-857b-c3554cb04263",
   "metadata": {},
   "outputs": [],
   "source": [
    "entrada_cidades = {\n",
    "    \"Cidade 1\": (-74, -19),\n",
    "    \"Cidade 2\": (49, -15),\n",
    "    \"Cidade 3\": (56, 50),\n",
    "    \"Cidade 4\": (-27, 49),\n",
    "    \"Cidade 5\": (-36, -73),\n",
    "    \"Cidade 6\": (-50, 83),\n",
    "    \"Cidade 7\": (72, -36),\n",
    "    \"Cidade 8\": (-36, 9),\n",
    "    \"Cidade 9\": (-63, -97),\n",
    "    \"Cidade 10\": (-70, -49),\n",
    "}\n",
    "\n",
    "entrada_cidade_inicial = \"Cidade 7\"\n",
    "\n",
    "saida_ordem_visita = ['Cidade 7', 'Cidade 2', 'Cidade 3', 'Cidade 4', 'Cidade 8', 'Cidade 1', 'Cidade 10', 'Cidade 5', 'Cidade 9', 'Cidade 6']"
   ]
  },
  {
   "cell_type": "markdown",
   "id": "ae8ba7e6-66d3-4a52-91f1-deaf457fd718",
   "metadata": {},
   "source": [
    "**Algoritmo**:\n",
    "\n"
   ]
  },
  {
   "cell_type": "markdown",
   "id": "9d9d24fa-2e4b-42d2-8ee7-7f6e7259c09c",
   "metadata": {},
   "source": [
    "Nesse exercício, utilizei a IA para aprender a sintaxe:\n",
    "\n",
    "*proxima_cidade = min(\n",
    "            nao_visitadas,\n",
    "            key=lambda cidade: distancia(cidades[cidade_atual], nao_visitadas[cidade])\n",
    "        )*"
   ]
  },
  {
   "cell_type": "code",
   "execution_count": 7,
   "id": "a26c9961-4424-4f43-8184-0284527db7a5",
   "metadata": {},
   "outputs": [
    {
     "name": "stdout",
     "output_type": "stream",
     "text": [
      "Entrada:  {'Cidade 1': (-74, -19), 'Cidade 2': (49, -15), 'Cidade 3': (56, 50), 'Cidade 4': (-27, 49), 'Cidade 5': (-36, -73), 'Cidade 6': (-50, 83), 'Cidade 7': (72, -36), 'Cidade 8': (-36, 9), 'Cidade 9': (-63, -97), 'Cidade 10': (-70, -49)} Cidade 7\n",
      "Saída:  ['Cidade 7', 'Cidade 2', 'Cidade 3', 'Cidade 4', 'Cidade 8', 'Cidade 1', 'Cidade 10', 'Cidade 5', 'Cidade 9', 'Cidade 6']\n",
      "\n",
      "---------------------------------------- \n"
     ]
    }
   ],
   "source": [
    "#Da cidade em que você está (que será o ponto de partida ao início do algoritmo), cheque a distância para todas as cidades ainda não visitadas e viaje até a cidade ainda não visitada mais próxima;\n",
    "#Repita o passo 1 até que todas as cidades sejam visitadas;\n",
    "#Retorne à cidade inicial\n",
    "\n",
    "#função auxiliar que calcula a distância entre dois pontos\n",
    "def distancia(ponto1, ponto2):\n",
    "    #fórmula da distância\n",
    "    return ((ponto1[0] - ponto2[0])**2 + (ponto1[1] - ponto2[1])**2)**0.5\n",
    "\n",
    "#funcao principal\n",
    "def caixeiro_viajante(cidades, cidade_inicial):\n",
    "    nao_visitadas = cidades.copy() #cópia do dicionario original para armazenar as cidades não visitadas\n",
    "    \n",
    "    #inicialização\n",
    "    cidade_atual = cidade_inicial \n",
    "    ordem_visita = [cidade_atual]\n",
    "\n",
    "    #Remove a cidade inicial da lista de cidades ainda não visitadas, pois ela já foi visitada no início\n",
    "    del nao_visitadas[cidade_atual]\n",
    "\n",
    "    #Enquanto houver cidades a serem visitadas\n",
    "    while nao_visitadas:\n",
    "        # Encontra a cidade mais próxima ainda não visitada\n",
    "        #min() percorre todas as chaves de nao_visitadas. Escolherá o mínimo de acordo com a menor distância, com lambda chamando a função externa distancia\n",
    "        proxima_cidade = min(\n",
    "            nao_visitadas,\n",
    "            key=lambda cidade: distancia(cidades[cidade_atual], nao_visitadas[cidade])\n",
    "        )\n",
    "    \n",
    "        \n",
    "        ordem_visita.append(proxima_cidade)\n",
    "        cidade_atual = proxima_cidade\n",
    "        del nao_visitadas[proxima_cidade]\n",
    "\n",
    "    # Para retorna à cidade inicial no final:\n",
    "    #ordem_visita.append(cidade_inicial)\n",
    "\n",
    "    return ordem_visita\n",
    "\n",
    "entrada_cidades = [{\n",
    "    \"Cidade 1\": (-74, -19),\n",
    "    \"Cidade 2\": (49, -15),\n",
    "    \"Cidade 3\": (56, 50),\n",
    "    \"Cidade 4\": (-27, 49),\n",
    "    \"Cidade 5\": (-36, -73),\n",
    "    \"Cidade 6\": (-50, 83),\n",
    "    \"Cidade 7\": (72, -36),\n",
    "    \"Cidade 8\": (-36, 9),\n",
    "    \"Cidade 9\": (-63, -97),\n",
    "    \"Cidade 10\": (-70, -49),\n",
    "}]\n",
    "\n",
    "entrada_cidade_inicial = [\"Cidade 7\"]\n",
    "\n",
    "#loop para enviar todos os valores da lista para a função, exibindo os valores de entrada e saída da função\n",
    "for cidades, partida in zip(entrada_cidades, entrada_cidade_inicial):\n",
    "    print(\"Entrada: \", cidades, partida)\n",
    "    print(\"Saída: \", caixeiro_viajante(cidades, partida)) #enviamos os valores para a função\n",
    "    print()\n",
    "    print(\"---------------------------------------- \") #linha divisória, por fins de organização"
   ]
  },
  {
   "cell_type": "code",
   "execution_count": null,
   "id": "f984861c-73b7-4d8f-8dda-db0fcef837b7",
   "metadata": {},
   "outputs": [],
   "source": []
  }
 ],
 "metadata": {
  "kernelspec": {
   "display_name": "ilumpy",
   "language": "python",
   "name": "ilumpy"
  },
  "language_info": {
   "codemirror_mode": {
    "name": "ipython",
    "version": 3
   },
   "file_extension": ".py",
   "mimetype": "text/x-python",
   "name": "python",
   "nbconvert_exporter": "python",
   "pygments_lexer": "ipython3",
   "version": "3.12.7"
  },
  "org": null
 },
 "nbformat": 4,
 "nbformat_minor": 5
}
